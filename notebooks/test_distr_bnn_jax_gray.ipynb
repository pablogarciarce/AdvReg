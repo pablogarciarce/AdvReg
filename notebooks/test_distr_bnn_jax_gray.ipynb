{
 "cells": [
  {
   "cell_type": "markdown",
   "metadata": {},
   "source": [
    "## Imports and dataset"
   ]
  },
  {
   "cell_type": "code",
   "execution_count": null,
   "metadata": {},
   "outputs": [],
   "source": [
    "from src.models.optimized_bnn import BayesianNN, DBNN\n",
    "from src.utils import plot_ppds\n",
    "\n",
    "from src.attacks.distr_attacks_bnn_jax import fgsm_attack, mlmc_attack, kl_to_appd\n",
    "\n",
    "import numpy as np\n",
    "import pandas as pd\n",
    "import jax\n",
    "import jax.numpy as jnp\n",
    "import numpyro\n",
    "\n",
    "from sklearn.model_selection import train_test_split\n",
    "from sklearn.preprocessing import MinMaxScaler\n",
    "\n",
    "from joblib import Parallel, delayed\n",
    "from tqdm import tqdm "
   ]
  },
  {
   "cell_type": "code",
   "execution_count": null,
   "metadata": {},
   "outputs": [],
   "source": [
    "import seaborn as sns\n",
    "import matplotlib.pyplot as plt\n",
    "\n",
    "sns.set_theme(style=\"whitegrid\", palette=\"muted\", font=\"serif\")\n",
    "\n",
    "sns.set_context(\"notebook\", font_scale=1.5, rc={\"lines.linewidth\": 2.5})\n",
    "plt.rcParams.update({\n",
    "    'axes.titlesize': 18,\n",
    "    'axes.labelsize': 14,\n",
    "    'xtick.labelsize': 12,\n",
    "    'ytick.labelsize': 12,\n",
    "    'axes.titleweight': 'bold',\n",
    "    'axes.edgecolor': 'black',\n",
    "    'axes.linewidth': 1,\n",
    "    'grid.alpha': 0.5,\n",
    "    'grid.linestyle': '--',\n",
    "    'legend.fontsize': 12,\n",
    "    'legend.frameon': False,\n",
    "    'figure.dpi': 300,  \n",
    "})"
   ]
  },
  {
   "cell_type": "code",
   "execution_count": null,
   "metadata": {},
   "outputs": [],
   "source": [
    "import numpyro\n",
    "numpyro.set_host_device_count(8)"
   ]
  },
  {
   "cell_type": "code",
   "execution_count": null,
   "metadata": {},
   "outputs": [],
   "source": [
    "# set all seeds for reproducibility\n",
    "seed = 42\n",
    "np.random.seed(seed)"
   ]
  },
  {
   "cell_type": "markdown",
   "metadata": {},
   "source": [
    "# Wine dataset"
   ]
  },
  {
   "cell_type": "code",
   "execution_count": null,
   "metadata": {},
   "outputs": [],
   "source": [
    "# Wine Quality dataset with response in {3, 4, 5, 6, 7, 8}, 11 features and 4898 samples\n",
    "\n",
    "# URL to the Wine Quality dataset (for example, from UCI Machine Learning Repository)\n",
    "url = \"https://archive.ics.uci.edu/ml/machine-learning-databases/wine-quality/winequality-white.csv\"\n",
    "# Load the dataset directly into a Pandas DataFrame\n",
    "data = pd.read_csv(url, delimiter=\";\")\n",
    "\n",
    "X = data.iloc[:, :-1].values\n",
    "y = data.iloc[:, -1].values"
   ]
  },
  {
   "cell_type": "code",
   "execution_count": null,
   "metadata": {},
   "outputs": [],
   "source": [
    "# Normalize the data\n",
    "scaler = MinMaxScaler()\n",
    "X_normalized = scaler.fit_transform(X)\n",
    "\n",
    "X_train, X_test, y_train, y_test = train_test_split(X_normalized, y, test_size=0.3, random_state=42)"
   ]
  },
  {
   "cell_type": "code",
   "execution_count": null,
   "metadata": {},
   "outputs": [],
   "source": [
    "# Fit the model\n",
    "model = BayesianNN(input_dim=X_train.shape[1], hidden_units=3)\n",
    "try:\n",
    "    model.load('../src/models/weights/wine/b3nn')\n",
    "except FileNotFoundError:   \n",
    "    print('Not model found, fitting the model') \n",
    "    model.fit(\n",
    "        X_train, \n",
    "        y_train,\n",
    "        num_warmup=500,\n",
    "        num_samples=1000,\n",
    "        num_chains=8,\n",
    "    )\n",
    "    model.save('../src/models/weights/wine/b3nn')"
   ]
  },
  {
   "cell_type": "code",
   "execution_count": null,
   "metadata": {},
   "outputs": [],
   "source": [
    "# Fit the model\n",
    "attack_model1 = BayesianNN(input_dim=X_train.shape[1], hidden_units=2)\n",
    "try:\n",
    "    attack_model1.load('../src/models/weights/wine/b4nnffff')\n",
    "except FileNotFoundError:   \n",
    "    print('Not model found, fitting the model') \n",
    "    attack_model1.fit(\n",
    "        X_train, \n",
    "        y_train,\n",
    "        num_warmup=500,\n",
    "        num_samples=1000,\n",
    "        num_chains=8,\n",
    "    )\n",
    "    #attack_model1.save('../src/models/weights/wine/b4nn')"
   ]
  },
  {
   "cell_type": "code",
   "execution_count": null,
   "metadata": {},
   "outputs": [],
   "source": [
    "# Fit the model\n",
    "attack_model2 = BayesianNN(input_dim=X_train.shape[1], hidden_units=3)\n",
    "X_train_subset = X_train[:500]\n",
    "y_train_subset = y_train[:500]\n",
    "try:\n",
    "    attack_model2.load('../src/models/weights/wine/bayesian_3nn_smallfff')\n",
    "except FileNotFoundError:   \n",
    "    print('Not model found, fitting the model') \n",
    "    attack_model2.fit(\n",
    "        X_train_subset, \n",
    "        y_train_subset,\n",
    "        num_warmup=500,\n",
    "        num_samples=1000,\n",
    "        num_chains=8,\n",
    "    )\n",
    "    #attack_model2.save('../src/models/weights/wine/bayesian_3nn_small')"
   ]
  },
  {
   "cell_type": "code",
   "execution_count": null,
   "metadata": {},
   "outputs": [],
   "source": [
    "# Feature ranking:\n",
    "# 1. Feature 7 (0.6414941549301147)\n",
    "# 2. Feature 3 (0.2775610089302063)\n",
    "# 3. Feature 5 (0.20831523835659027)\n",
    "# 4. Feature 1 (0.06909288465976715)\n",
    "# 5. Feature 4 (0.027108464390039444)\n",
    "# 6. Feature 6 (0.01326070912182331)\n",
    "# 7. Feature 0 (-0.0034029546659439802)\n",
    "# 8. Feature 8 (-0.013863814063370228)\n",
    "# 9. Feature 10 (-0.02335330657660961)\n",
    "# 10. Feature 2 (-0.023721760138869286)\n",
    "# 11. Feature 9 (-0.04550843685865402)\n",
    "TOP_FEATURES = [7, 3, 5, 1, 4, 6, 0]\n",
    "WORSE_FEATURES = [4, 6, 0, 8, 10, 2, 9]"
   ]
  },
  {
   "cell_type": "code",
   "execution_count": null,
   "metadata": {},
   "outputs": [],
   "source": [
    "# Fit the model\n",
    "X_train_subset = X_train[:, TOP_FEATURES]\n",
    "attack_model3 = BayesianNN(input_dim=X_train_subset.shape[1], hidden_units=3)\n",
    "try:\n",
    "    attack_model3.load('../src/models/weights/wine/bayesian_3nn_featuresfff')\n",
    "except FileNotFoundError:   \n",
    "    print('Not model found, fitting the model') \n",
    "    attack_model3.fit(\n",
    "        X_train_subset, \n",
    "        y_train,\n",
    "        num_warmup=500,\n",
    "        num_samples=1000,\n",
    "        num_chains=8,\n",
    "    )\n",
    "    #attack_model3.save('../src/models/weights/wine/bayesian_3nn_features')"
   ]
  },
  {
   "cell_type": "code",
   "execution_count": null,
   "metadata": {},
   "outputs": [],
   "source": [
    "# Fit the model\n",
    "X_train_subset = X_train[:, WORSE_FEATURES]\n",
    "attack_model4 = BayesianNN(input_dim=X_train_subset.shape[1], hidden_units=3)\n",
    "try:\n",
    "    attack_model4.load('../src/models/weights/wine/bayesian_3nn_featuresfff')\n",
    "except FileNotFoundError:   \n",
    "    print('Not model found, fitting the model') \n",
    "    attack_model4.fit(\n",
    "        X_train_subset, \n",
    "        y_train,\n",
    "        num_warmup=500,\n",
    "        num_samples=1000,\n",
    "        num_chains=8,\n",
    "    )\n",
    "    #attack_model3.save('../src/models/weights/wine/bayesian_3nn_features')"
   ]
  },
  {
   "cell_type": "code",
   "execution_count": null,
   "metadata": {},
   "outputs": [],
   "source": [
    "# plot KL divergence as a function of the strength of the attack\n",
    "n_jobs = 8\n",
    "x = X_test[17,:].copy().reshape(1, -1)\n",
    "x = jnp.array(x)\n",
    "std = model.sample_predictive_distribution(jax.random.PRNGKey(0), x, 1000).std()\n",
    "mu = model.sample_predictive_distribution(jax.random.PRNGKey(0), x, 1000).mean()\n",
    "appd = numpyro.distributions.Normal(2 * mu, 2 * std)\n",
    "\n",
    "# Function to calculate KL divergence for a given epsilon\n",
    "def compute_kl_divergence(epsilon, at_model):\n",
    "    if at_model == attack_model3:\n",
    "        x3 = x[:, TOP_FEATURES].copy()\n",
    "        x_adv3, _ = mlmc_attack(at_model, x3, appd, epsilon=epsilon, R=10, lr=0.001, n_iter=1000, verbose=False)\n",
    "        x_adv_distr = x.copy()\n",
    "        x_adv_distr = x_adv_distr.at[:, TOP_FEATURES].set(x_adv3)\n",
    "    elif at_model == attack_model4:\n",
    "        x4 = x[:, WORSE_FEATURES].copy()\n",
    "        x_adv4, _ = mlmc_attack(at_model, x4, appd, epsilon=epsilon, R=10, lr=0.001, n_iter=1000, verbose=False)\n",
    "        x_adv_distr = x.copy()\n",
    "        x_adv_distr = x_adv_distr.at[:, WORSE_FEATURES].set(x_adv4)\n",
    "    else:\n",
    "        x_adv_distr, _ = mlmc_attack(at_model, x, appd, epsilon=epsilon, R=10, lr=0.001, n_iter=1000, verbose=False)\n",
    "    mu_adv = model.sample_predictive_distribution(jax.random.PRNGKey(0), x_adv_distr, 1000).mean()\n",
    "    sigma2_adv = model.sample_predictive_distribution(jax.random.PRNGKey(0), x_adv_distr, 1000).var()\n",
    "    return kl_to_appd(mu_adv, sigma2_adv, 2 * mu, 4 * std ** 2).item()\n",
    "\n",
    "\n",
    "# Define the range of epsilon values\n",
    "epsilons = np.linspace(0, .5, 6)\n",
    "kl_all_original = []\n",
    "kl_all_attack1 = []\n",
    "kl_all_attack2 = []\n",
    "kl_all_attack3 = []\n",
    "kl_all_attack4 = []\n",
    "\n",
    "num_repeats = 4\n",
    "for _ in range(num_repeats):\n",
    "    print(_)\n",
    "    # Use joblib to parallelize the computation of KL divergences\n",
    "    #kl_values = Parallel(n_jobs=n_jobs)(delayed(compute_kl_divergence)(epsilon) for epsilon in epsilons)\n",
    "    kl_values = []\n",
    "    kl_values_attack1 = []\n",
    "    kl_values_attack2 = []\n",
    "    kl_values_attack3 = []\n",
    "    kl_values_attack4 = []\n",
    "    for epsilon in epsilons:\n",
    "        kl_values.append(compute_kl_divergence(epsilon, model))\n",
    "        kl_values_attack1.append(compute_kl_divergence(epsilon, attack_model1))\n",
    "        kl_values_attack2.append(compute_kl_divergence(epsilon, attack_model2))\n",
    "        kl_values_attack3.append(compute_kl_divergence(epsilon, attack_model3))\n",
    "        kl_values_attack4.append(compute_kl_divergence(epsilon, attack_model4))\n",
    "    kl_all_original.append(kl_values)\n",
    "    kl_all_attack1.append(kl_values_attack1)\n",
    "    kl_all_attack2.append(kl_values_attack2)\n",
    "    kl_all_attack3.append(kl_values_attack3)\n",
    "    kl_all_attack4.append(kl_values_attack4)\n",
    "\n",
    "kl_original_mean = np.mean(kl_all_original, axis=0)\n",
    "kl_original_std = np.std(kl_all_original, axis=0)\n",
    "kl_attack1_mean = np.mean(kl_all_attack1, axis=0)\n",
    "kl_attack1_std = np.std(kl_all_attack1, axis=0)\n",
    "kl_attack2_mean = np.mean(kl_all_attack2, axis=0)\n",
    "kl_attack2_std = np.std(kl_all_attack2, axis=0)\n",
    "kl_attack3_mean = np.mean(kl_all_attack3, axis=0)\n",
    "kl_attack3_std = np.std(kl_all_attack3, axis=0)\n",
    "kl_attack4_mean = np.mean(kl_all_attack4, axis=0)\n",
    "kl_attack4_std = np.std(kl_all_attack4, axis=0)\n",
    "# Plot the KL divergence as a function of epsilon\n",
    "\n",
    "plt.plot(epsilons, kl_original_mean, label='Original Model', color='blue')\n",
    "plt.fill_between(epsilons, kl_original_mean - kl_original_std, kl_original_mean + kl_original_std, color='blue', alpha=0.2)\n",
    "plt.plot(epsilons, kl_attack1_mean, label='Same data, diff model', color='orange')\n",
    "plt.fill_between(epsilons, kl_attack1_mean - kl_attack1_std, kl_attack1_mean + kl_attack1_std, color='orange', alpha=0.2)\n",
    "plt.plot(epsilons, kl_attack2_mean, label='1/3 dataset', color='green')\n",
    "plt.fill_between(epsilons, kl_attack2_mean - kl_attack2_std, kl_attack2_mean + kl_attack2_std, color='green', alpha=0.2)\n",
    "plt.plot(epsilons, kl_attack3_mean, label='7/11 top features', color='red')\n",
    "plt.fill_between(epsilons, kl_attack3_mean - kl_attack3_std, kl_attack3_mean + kl_attack3_std, color='red', alpha=0.2)\n",
    "plt.plot(epsilons, kl_attack4_mean, label='7/11 worse features', color='purple')\n",
    "plt.fill_between(epsilons, kl_attack4_mean - kl_attack4_std, kl_attack4_mean + kl_attack4_std, color='purple', alpha=0.2)\n",
    "plt.xlabel('Epsilon')\n",
    "plt.ylabel('KL Divergence')\n",
    "\n",
    "plt.legend()"
   ]
  },
  {
   "cell_type": "code",
   "execution_count": null,
   "metadata": {},
   "outputs": [],
   "source": [
    "plt.figure(figsize=(6, 4.5))\n",
    "plt.plot(epsilons, kl_original_mean, label='Original Model', color='blue')\n",
    "plt.fill_between(epsilons, kl_original_mean - kl_original_std, kl_original_mean + kl_original_std, color='blue', alpha=0.2)\n",
    "plt.plot(epsilons, kl_attack1_mean, label='Same data', color='orange')\n",
    "plt.fill_between(epsilons, kl_attack1_mean - kl_attack1_std, kl_attack1_mean + kl_attack1_std, color='orange', alpha=0.2)\n",
    "plt.plot(epsilons, kl_attack2_mean, label='1/3 dataset', color='green')\n",
    "plt.fill_between(epsilons, kl_attack2_mean - kl_attack2_std, kl_attack2_mean + kl_attack2_std, color='green', alpha=0.2)\n",
    "plt.plot(epsilons, kl_attack3_mean, label='7/11 top features', color='red')\n",
    "plt.fill_between(epsilons, kl_attack3_mean - kl_attack3_std, kl_attack3_mean + kl_attack3_std, color='red', alpha=0.2)\n",
    "plt.plot(epsilons, kl_attack4_mean, label='7/11 worse features', color='purple')\n",
    "plt.fill_between(epsilons, kl_attack4_mean - kl_attack4_std, kl_attack4_mean + kl_attack4_std, color='purple', alpha=0.2)\n",
    "plt.legend()\n",
    "plt.xlabel('$\\epsilon$')\n",
    "plt.ylabel('KL Divergence')"
   ]
  },
  {
   "cell_type": "code",
   "execution_count": null,
   "metadata": {},
   "outputs": [],
   "source": [
    "# Print results \n",
    "print('Epsilons:', np.round(epsilons, 2))\n",
    "print(f'KL Original Mean: {np.round(kl_original_mean, 2)} ± {np.round(kl_original_std, 2)}')\n",
    "print(f'KL Same data, diff model: {np.round(kl_attack1_mean, 2)} ± {np.round(kl_attack1_std, 2)}')\n",
    "print(f'KL 1/3 dataset: {np.round(kl_attack2_mean, 2)} ± {np.round(kl_attack2_std, 2)}')\n",
    "print(f'KL 7/11 top features: {np.round(kl_attack3_mean, 2)} ± {np.round(kl_attack3_std, 2)}')\n",
    "print(f'KL 7/11 worse features: {np.round(kl_attack4_mean, 2)} ± {np.round(kl_attack4_std, 2)}')"
   ]
  }
 ],
 "metadata": {
  "kernelspec": {
   "display_name": "advReg",
   "language": "python",
   "name": "python3"
  },
  "language_info": {
   "codemirror_mode": {
    "name": "ipython",
    "version": 3
   },
   "file_extension": ".py",
   "mimetype": "text/x-python",
   "name": "python",
   "nbconvert_exporter": "python",
   "pygments_lexer": "ipython3",
   "version": "3.12.3"
  }
 },
 "nbformat": 4,
 "nbformat_minor": 2
}
