{
 "cells": [
  {
   "cell_type": "code",
   "execution_count": 1,
   "metadata": {},
   "outputs": [],
   "source": [
    "from src.models.conjugate_bayes_lin_reg import FlatPriorLinearRegression\n",
    "import numpy as np\n",
    "import torch\n",
    "import matplotlib.pyplot as plt\n",
    "from torch.optim import Adam\n",
    "\n",
    "from sklearn.datasets import load_wine\n",
    "from sklearn.model_selection import train_test_split\n",
    "from sklearn.preprocessing import MinMaxScaler"
   ]
  },
  {
   "cell_type": "code",
   "execution_count": 2,
   "metadata": {},
   "outputs": [],
   "source": [
    "# Load the wine dataset\n",
    "X, y = load_wine(return_X_y=True)\n",
    "\n",
    "# Normalize the data in X to be between 0 and 1\n",
    "scaler = MinMaxScaler()\n",
    "X_normalized = scaler.fit_transform(X)\n",
    "\n",
    "# Add a column of ones for the intercept term\n",
    "X_ones = np.c_[np.ones(X.shape[0]), X_normalized]\n",
    "\n",
    "X_train, X_test, y_train, y_test = train_test_split(X_ones, y, test_size=0.3, random_state=42)"
   ]
  },
  {
   "cell_type": "code",
   "execution_count": 3,
   "metadata": {},
   "outputs": [
    {
     "name": "stderr",
     "output_type": "stream",
     "text": [
      "/home/pgarcia/AdvReg/src/models/conjugate_bayes_lin_reg.py:38: UserWarning: To copy construct from a tensor, it is recommended to use sourceTensor.clone().detach() or sourceTensor.clone().detach().requires_grad_(True), rather than torch.tensor(sourceTensor).\n",
      "  mu_ast = torch.tensor(v_ast @ X.T @ y, dtype=torch.float32)\n"
     ]
    }
   ],
   "source": [
    "# Fit the model\n",
    "model = FlatPriorLinearRegression()\n",
    "data = {'X': torch.tensor(X_train, dtype=torch.float32), 'y': torch.tensor(y_train, dtype=torch.float32)}\n",
    "model.fit(data)"
   ]
  },
  {
   "cell_type": "code",
   "execution_count": 4,
   "metadata": {},
   "outputs": [],
   "source": [
    "x_adv = X_test[17,:].copy()"
   ]
  },
  {
   "cell_type": "code",
   "execution_count": 5,
   "metadata": {},
   "outputs": [],
   "source": [
    "# Deterministic attack \n",
    "y_star = 3\n",
    "epsilon = .3\n",
    "\n",
    "mu = model.mu.numpy()\n",
    "\n",
    "beta_dot_x = np.dot(mu, x_adv)\n",
    "beta_norm_squared = np.dot(mu, mu)\n",
    "x_adv_attacked = x_adv + ((y_star - beta_dot_x) / beta_norm_squared) * mu\n",
    "\n",
    "if np.linalg.norm(np.dot(y_star - beta_dot_x, mu)) > epsilon * beta_norm_squared: \n",
    "    beta_norm_squared = np.linalg.norm(mu)**2\n",
    "    sign_term = np.sign(y_star - beta_dot_x)\n",
    "    delta_x_adv = epsilon * (np.dot(y_star - beta_dot_x, mu) / (np.linalg.norm(y_star - beta_dot_x) * np.linalg.norm(mu)))\n",
    "    x_adv_attacked = x_adv + delta_x_adv\n",
    "\n",
    "y_attacked = np.dot(mu, x_adv_attacked)"
   ]
  },
  {
   "cell_type": "code",
   "execution_count": 19,
   "metadata": {},
   "outputs": [
    {
     "data": {
      "text/plain": [
       "1.988047136029391"
      ]
     },
     "execution_count": 19,
     "metadata": {},
     "output_type": "execute_result"
    }
   ],
   "source": [
    "y_attacked"
   ]
  },
  {
   "cell_type": "code",
   "execution_count": 95,
   "metadata": {},
   "outputs": [],
   "source": [
    "def reparametrization_trick(x_adv, model, G, samples_per_iteration):\n",
    "    y_samples = model.sample_predictive_distribution(x_adv.unsqueeze(0), samples_per_iteration)\n",
    "    gradients = 2 * (y_samples.mean() - G) * model.mu\n",
    "    return gradients, y_samples.mean()"
   ]
  },
  {
   "cell_type": "code",
   "execution_count": 89,
   "metadata": {},
   "outputs": [],
   "source": [
    "# reparametrization attack\n",
    "def attack(x_adv, model, G, samples_per_iteration=10000, learning_rate=1e-1, num_iterations=1000, epsilon=.1):\n",
    "    x_0 = x_adv.clone().detach()\n",
    "    x_adv_values = []\n",
    "    loss_values = []\n",
    "    func_values = []\n",
    "\n",
    "    optimizer = Adam([x_adv], lr=learning_rate)\n",
    "\n",
    "    for _ in range(num_iterations):\n",
    "        # Adam optimizer\n",
    "        gradients, y_mean = reparametrization_trick(x_adv, model, G, samples_per_iteration)\n",
    "        optimizer.zero_grad()\n",
    "\n",
    "        x_adv.grad = torch.tensor(gradients, dtype=torch.float32)\n",
    "        optimizer.step()\n",
    "        \n",
    "        with torch.no_grad():\n",
    "            if torch.norm(x_adv - x_0, p=2) > epsilon:\n",
    "                x_adv = x_0 + epsilon * (x_adv - x_0) / torch.norm(x_adv - x_0, p=2)\n",
    "            \n",
    "        x_adv_values.append(x_adv.detach())\n",
    "        loss_values.append((y_mean - G) ** 2)\n",
    "        func_values.append(y_mean)\n",
    "\n",
    "    return x_adv_values, loss_values, func_values"
   ]
  },
  {
   "cell_type": "code",
   "execution_count": 90,
   "metadata": {},
   "outputs": [
    {
     "name": "stderr",
     "output_type": "stream",
     "text": [
      "/tmp/ipykernel_3841206/2780347925.py:15: UserWarning: To copy construct from a tensor, it is recommended to use sourceTensor.clone().detach() or sourceTensor.clone().detach().requires_grad_(True), rather than torch.tensor(sourceTensor).\n",
      "  x_adv.grad = torch.tensor(gradients, dtype=torch.float32)\n"
     ]
    }
   ],
   "source": [
    "y_star = 3\n",
    "epsilon = .3\n",
    "x_adv = X_test[17,:].copy()\n",
    "x_adv = torch.tensor(x_adv, dtype=torch.float32, requires_grad=True)\n",
    "\n",
    "x_adv_values, loss_values, func_values = attack(x_adv, model, y_star, epsilon=epsilon)"
   ]
  },
  {
   "cell_type": "code",
   "execution_count": 91,
   "metadata": {},
   "outputs": [
    {
     "data": {
      "text/plain": [
       "[<matplotlib.lines.Line2D at 0x7f74cadba990>]"
      ]
     },
     "execution_count": 91,
     "metadata": {},
     "output_type": "execute_result"
    },
    {
     "data": {
      "image/png": "[encoded data removed]",
      "text/plain": [
       "<Figure size 640x480 with 1 Axes>"
      ]
     },
     "metadata": {},
     "output_type": "display_data"
    }
   ],
   "source": [
    "plt.plot(loss_values)"
   ]
  },
  {
   "cell_type": "code",
   "execution_count": 92,
   "metadata": {},
   "outputs": [
    {
     "data": {
      "text/plain": [
       "[<matplotlib.lines.Line2D at 0x7f74c91364e0>]"
      ]
     },
     "execution_count": 92,
     "metadata": {},
     "output_type": "execute_result"
    },
    {
     "data": {
      "image/png": "[encoded data removed]",
      "text/plain": [
       "<Figure size 640x480 with 1 Axes>"
      ]
     },
     "metadata": {},
     "output_type": "display_data"
    }
   ],
   "source": [
    "plt.plot(func_values)"
   ]
  },
  {
   "cell_type": "code",
   "execution_count": 93,
   "metadata": {},
   "outputs": [
    {
     "data": {
      "text/plain": [
       "tensor(1.7887)"
      ]
     },
     "execution_count": 93,
     "metadata": {},
     "output_type": "execute_result"
    }
   ],
   "source": [
    "torch.tensor(func_values).max()"
   ]
  },
  {
   "cell_type": "code",
   "execution_count": 94,
   "metadata": {},
   "outputs": [
    {
     "data": {
      "text/plain": [
       "tensor([1.1000, 0.1763, 0.1771, 0.5150, 0.7907, 0.1870, 0.4517, 0.1616, 0.4094,\n",
       "        0.4123, 0.1785, 0.5748, 0.4311, 0.1511], requires_grad=True)"
      ]
     },
     "execution_count": 94,
     "metadata": {},
     "output_type": "execute_result"
    }
   ],
   "source": [
    "x_adv"
   ]
  },
  {
   "cell_type": "code",
   "execution_count": 82,
   "metadata": {},
   "outputs": [
    {
     "data": {
      "text/plain": [
       "array([1.16730539, 0.23919765, 0.09189499, 0.58437153, 0.77238556,\n",
       "       0.08820593, 0.39264324, 0.0929282 , 0.49583829, 0.32794131,\n",
       "       0.16877746, 0.65821045, 0.46282115, 0.15537708])"
      ]
     },
     "execution_count": 82,
     "metadata": {},
     "output_type": "execute_result"
    }
   ],
   "source": [
    "x_adv_attacked"
   ]
  },
  {
   "cell_type": "code",
   "execution_count": 83,
   "metadata": {},
   "outputs": [
    {
     "data": {
      "text/plain": [
       "array([1.        , 0.27631579, 0.0770751 , 0.61497326, 0.69072165,\n",
       "       0.08695652, 0.35172414, 0.26160338, 0.50943396, 0.31230284,\n",
       "       0.07849829, 0.67479675, 0.53113553, 0.2510699 ])"
      ]
     },
     "execution_count": 83,
     "metadata": {},
     "output_type": "execute_result"
    }
   ],
   "source": [
    "X_test[17,:].copy()"
   ]
  },
  {
   "cell_type": "code",
   "execution_count": 85,
   "metadata": {},
   "outputs": [
    {
     "data": {
      "text/html": [
       "<div>\n",
       "<style scoped>\n",
       "    .dataframe tbody tr th:only-of-type {\n",
       "        vertical-align: middle;\n",
       "    }\n",
       "\n",
       "    .dataframe tbody tr th {\n",
       "        vertical-align: top;\n",
       "    }\n",
       "\n",
       "    .dataframe thead th {\n",
       "        text-align: right;\n",
       "    }\n",
       "</style>\n",
       "<table border=\"1\" class=\"dataframe\">\n",
       "  <thead>\n",
       "    <tr style=\"text-align: right;\">\n",
       "      <th></th>\n",
       "      <th>x_adv</th>\n",
       "      <th>x_adv_attacked</th>\n",
       "      <th>X_test[17,:]</th>\n",
       "    </tr>\n",
       "  </thead>\n",
       "  <tbody>\n",
       "    <tr>\n",
       "      <th>0</th>\n",
       "      <td>1.100000</td>\n",
       "      <td>1.167305</td>\n",
       "      <td>1.000000</td>\n",
       "    </tr>\n",
       "    <tr>\n",
       "      <th>1</th>\n",
       "      <td>0.176316</td>\n",
       "      <td>0.239198</td>\n",
       "      <td>0.276316</td>\n",
       "    </tr>\n",
       "    <tr>\n",
       "      <th>2</th>\n",
       "      <td>0.177075</td>\n",
       "      <td>0.091895</td>\n",
       "      <td>0.077075</td>\n",
       "    </tr>\n",
       "    <tr>\n",
       "      <th>3</th>\n",
       "      <td>0.514973</td>\n",
       "      <td>0.584372</td>\n",
       "      <td>0.614973</td>\n",
       "    </tr>\n",
       "    <tr>\n",
       "      <th>4</th>\n",
       "      <td>0.790722</td>\n",
       "      <td>0.772386</td>\n",
       "      <td>0.690722</td>\n",
       "    </tr>\n",
       "    <tr>\n",
       "      <th>5</th>\n",
       "      <td>0.186956</td>\n",
       "      <td>0.088206</td>\n",
       "      <td>0.086957</td>\n",
       "    </tr>\n",
       "    <tr>\n",
       "      <th>6</th>\n",
       "      <td>0.451724</td>\n",
       "      <td>0.392643</td>\n",
       "      <td>0.351724</td>\n",
       "    </tr>\n",
       "    <tr>\n",
       "      <th>7</th>\n",
       "      <td>0.161603</td>\n",
       "      <td>0.092928</td>\n",
       "      <td>0.261603</td>\n",
       "    </tr>\n",
       "    <tr>\n",
       "      <th>8</th>\n",
       "      <td>0.409434</td>\n",
       "      <td>0.495838</td>\n",
       "      <td>0.509434</td>\n",
       "    </tr>\n",
       "    <tr>\n",
       "      <th>9</th>\n",
       "      <td>0.412303</td>\n",
       "      <td>0.327941</td>\n",
       "      <td>0.312303</td>\n",
       "    </tr>\n",
       "    <tr>\n",
       "      <th>10</th>\n",
       "      <td>0.178498</td>\n",
       "      <td>0.168777</td>\n",
       "      <td>0.078498</td>\n",
       "    </tr>\n",
       "    <tr>\n",
       "      <th>11</th>\n",
       "      <td>0.574797</td>\n",
       "      <td>0.658210</td>\n",
       "      <td>0.674797</td>\n",
       "    </tr>\n",
       "    <tr>\n",
       "      <th>12</th>\n",
       "      <td>0.431136</td>\n",
       "      <td>0.462821</td>\n",
       "      <td>0.531136</td>\n",
       "    </tr>\n",
       "    <tr>\n",
       "      <th>13</th>\n",
       "      <td>0.151070</td>\n",
       "      <td>0.155377</td>\n",
       "      <td>0.251070</td>\n",
       "    </tr>\n",
       "  </tbody>\n",
       "</table>\n",
       "</div>"
      ],
      "text/plain": [
       "       x_adv  x_adv_attacked  X_test[17,:]\n",
       "0   1.100000        1.167305      1.000000\n",
       "1   0.176316        0.239198      0.276316\n",
       "2   0.177075        0.091895      0.077075\n",
       "3   0.514973        0.584372      0.614973\n",
       "4   0.790722        0.772386      0.690722\n",
       "5   0.186956        0.088206      0.086957\n",
       "6   0.451724        0.392643      0.351724\n",
       "7   0.161603        0.092928      0.261603\n",
       "8   0.409434        0.495838      0.509434\n",
       "9   0.412303        0.327941      0.312303\n",
       "10  0.178498        0.168777      0.078498\n",
       "11  0.574797        0.658210      0.674797\n",
       "12  0.431136        0.462821      0.531136\n",
       "13  0.151070        0.155377      0.251070"
      ]
     },
     "execution_count": 85,
     "metadata": {},
     "output_type": "execute_result"
    }
   ],
   "source": [
    "#table plot of x_adv, x_adv_attacked, X_test[17,:].copy():\n",
    "import pandas as pd\n",
    "df = pd.DataFrame(np.c_[x_adv.detach().numpy(), x_adv_attacked, X_test[17,:].copy()], columns=['x_adv', 'x_adv_attacked', 'X_test[17,:]'])\n",
    "df"
   ]
  }
 ],
 "metadata": {
  "kernelspec": {
   "display_name": "AdvReg",
   "language": "python",
   "name": "python3"
  },
  "language_info": {
   "codemirror_mode": {
    "name": "ipython",
    "version": 3
   },
   "file_extension": ".py",
   "mimetype": "text/x-python",
   "name": "python",
   "nbconvert_exporter": "python",
   "pygments_lexer": "ipython3",
   "version": "3.12.3"
  }
 },
 "nbformat": 4,
 "nbformat_minor": 2
}
