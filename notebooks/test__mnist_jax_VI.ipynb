{
 "cells": [
  {
   "cell_type": "markdown",
   "metadata": {},
   "source": [
    "## Imports and dataset"
   ]
  },
  {
   "cell_type": "code",
   "execution_count": null,
   "metadata": {},
   "outputs": [],
   "source": [
    "from src.models.optimized_bnn import ClasBayesianNNVI\n",
    "from src.attacks.distr_attacks_bnn_jax import mlmc_attack\n",
    "from src.attacks.point_attacks_jax import fgsm_attack as attack\n",
    "\n",
    "from src.utils import plot_ppds\n",
    "\n",
    "import numpy as np\n",
    "import pandas as pd\n",
    "import jax\n",
    "import jax.numpy as jnp\n",
    "import numpyro\n",
    "from tqdm import tqdm\n",
    "\n",
    "from sklearn.model_selection import train_test_split\n",
    "from sklearn.preprocessing import MinMaxScaler\n",
    "\n",
    "from joblib import Parallel, delayed"
   ]
  },
  {
   "cell_type": "code",
   "execution_count": 2,
   "metadata": {},
   "outputs": [],
   "source": [
    "import seaborn as sns\n",
    "import matplotlib.pyplot as plt\n",
    "\n",
    "sns.set_theme(style=\"whitegrid\", palette=\"muted\", font=\"serif\")\n",
    "\n",
    "sns.set_context(\"notebook\", font_scale=1.5, rc={\"lines.linewidth\": 2.5})\n",
    "plt.rcParams.update({\n",
    "    'axes.titlesize': 18,\n",
    "    'axes.labelsize': 14,\n",
    "    'xtick.labelsize': 12,\n",
    "    'ytick.labelsize': 12,\n",
    "    'axes.titleweight': 'bold',\n",
    "    'axes.edgecolor': 'black',\n",
    "    'axes.linewidth': 1,\n",
    "    'grid.alpha': 0.5,\n",
    "    'grid.linestyle': '--',\n",
    "    'legend.fontsize': 12,\n",
    "    'legend.frameon': False,\n",
    "    'figure.dpi': 300,  \n",
    "})"
   ]
  },
  {
   "cell_type": "code",
   "execution_count": 3,
   "metadata": {},
   "outputs": [],
   "source": [
    "import numpyro\n",
    "numpyro.set_host_device_count(8)"
   ]
  },
  {
   "cell_type": "code",
   "execution_count": 4,
   "metadata": {},
   "outputs": [],
   "source": [
    "# set all seeds for reproducibility\n",
    "seed = 42\n",
    "np.random.seed(seed)"
   ]
  },
  {
   "cell_type": "markdown",
   "metadata": {},
   "source": [
    "## MNIST - DE"
   ]
  },
  {
   "cell_type": "code",
   "execution_count": null,
   "metadata": {},
   "outputs": [],
   "source": [
    "# load MNIST data without tensorflow\n",
    "from sklearn.datasets import fetch_openml\n",
    "\n",
    "# Load MNIST from OpenML\n",
    "mnist = fetch_openml('mnist_784', version=1)\n",
    "X, y = mnist.data.values, mnist.target.values\n",
    "X = jnp.array(X) / 255.0  # Normalize pixel values to [0, 1]\n",
    "y = y.astype(int)\n",
    "y = jax.nn.one_hot(y, 10)\n",
    "\n",
    "# Split into training and testing datasets\n",
    "X_train, X_test = X[:60000], X[60000:]\n",
    "y_train, y_test = y[:60000], y[60000:]"
   ]
  },
  {
   "cell_type": "code",
   "execution_count": 6,
   "metadata": {},
   "outputs": [],
   "source": [
    "modelVI = ClasBayesianNNVI(input_dim=X_train.shape[1], hidden_units=10)\n",
    "try:\n",
    "    modelVI.load('../src/models/weights/mnist/10bnnvi')\n",
    "except FileNotFoundError:\n",
    "    print('Not model found, fitting the model') \n",
    "    modelVI.fit(\n",
    "        X_train, \n",
    "        jnp.argmax(y_train, axis=1), \n",
    "        num_steps=3000\n",
    "    )\n",
    "    modelVI.save('../src/models/weights/mnist/10bnnvi')"
   ]
  },
  {
   "cell_type": "code",
   "execution_count": null,
   "metadata": {},
   "outputs": [],
   "source": [
    "modelVI.svi_result.keys()"
   ]
  },
  {
   "cell_type": "code",
   "execution_count": null,
   "metadata": {},
   "outputs": [],
   "source": [
    "# measure accuracy over the test set\n",
    "y_pred = modelVI.sample_predictive_distribution_probs(jax.random.PRNGKey(0), X_test, 100).mean(axis=0).argmax(axis=-1)\n",
    "accuracy = (y_pred == jnp.argmax(y_test, axis=1)).mean()\n",
    "print(f\"Accuracy over the test set: {accuracy * 100:.2f}%\")"
   ]
  },
  {
   "cell_type": "code",
   "execution_count": 9,
   "metadata": {},
   "outputs": [],
   "source": [
    "# Load notMNIST data without labels\n",
    "import os\n",
    "from PIL import Image\n",
    "import numpy as np\n",
    "\n",
    "# Ruta de la carpeta con imágenes\n",
    "folder_path = '../data/notMNIST_small'\n",
    "\n",
    "# Lista para almacenar las imágenes\n",
    "images = []\n",
    "\n",
    "for dirpath, dirnames, filenames in os.walk(folder_path):\n",
    "    for filename in filenames:\n",
    "        if filename.endswith('.png'):\n",
    "            img_path = os.path.join(dirpath, filename)\n",
    "            img = Image.open(img_path)\n",
    "            img_gray = img.convert('L')\n",
    "            img_array = np.array(img_gray)\n",
    "            images.append(img_array)\n",
    "\n",
    "X_notmnist = np.array(images).reshape(-1, 28*28) / 255.0"
   ]
  },
  {
   "cell_type": "code",
   "execution_count": 10,
   "metadata": {},
   "outputs": [],
   "source": [
    "def entropy(x, pred):\n",
    "    pred = pred.mean(axis=0)\n",
    "    pred += 1e-8\n",
    "    entr = - (pred * jnp.log(pred)).sum() / jnp.log(2)\n",
    "    return entr"
   ]
  },
  {
   "cell_type": "code",
   "execution_count": 11,
   "metadata": {},
   "outputs": [],
   "source": [
    "def identity(x, pred):\n",
    "    return pred"
   ]
  },
  {
   "cell_type": "code",
   "execution_count": 12,
   "metadata": {},
   "outputs": [],
   "source": [
    "num_points = 40\n",
    "epsilons = [.2, .5, 1]"
   ]
  },
  {
   "cell_type": "markdown",
   "metadata": {},
   "source": [
    "## Baseline"
   ]
  },
  {
   "cell_type": "code",
   "execution_count": null,
   "metadata": {},
   "outputs": [],
   "source": [
    "unattacked_entropies = []\n",
    "for x in tqdm(X_test[:num_points]):\n",
    "    x = jax.numpy.array(x.reshape(1, -1))\n",
    "    preds = modelVI.sample_predictive_distribution_probs(jax.random.PRNGKey(0), x, 20)\n",
    "    unattacked_entropies.append(entropy(x, preds))\n",
    "\n",
    "sns.kdeplot(jnp.array(unattacked_entropies), clip=(0, 10))\n",
    "legend = ['MNIST', 'Not MNIST']\n",
    "unattacked_entropies = []\n",
    "for x in tqdm(X_notmnist[:num_points]):\n",
    "    x = jax.numpy.array(x.reshape(1, -1))\n",
    "    preds = modelVI.sample_predictive_distribution_probs(jax.random.PRNGKey(0), x, 20)\n",
    "    unattacked_entropies.append(entropy(x, preds))\n",
    "\n",
    "sns.kdeplot(jnp.array(unattacked_entropies), clip=(0, 10))\n",
    "plt.legend(legend)\n",
    "plt.xlabel('Entropy')"
   ]
  },
  {
   "cell_type": "markdown",
   "metadata": {},
   "source": [
    "## Point attacks"
   ]
  },
  {
   "cell_type": "code",
   "execution_count": null,
   "metadata": {},
   "outputs": [],
   "source": [
    "G = jnp.ones(10)/10  # we want to rise the entropy of the predictive distribution\n",
    "\n",
    "def process(x, eps):\n",
    "    x = jax.numpy.array(x.reshape(1, -1))\n",
    "    x_adv_values, loss_values, func_values = attack(x, modelVI, G, func=identity, samples_per_iteration=1000, epsilon=eps, num_iterations=1000, learning_rate=0.01, mnist_vi=True)\n",
    "    preds = modelVI.sample_predictive_distribution_probs(jax.random.PRNGKey(0), x_adv_values[-1], 20)\n",
    "    return entropy(x_adv_values[-1], preds)\n",
    "\n",
    "unattacked_entropies = []\n",
    "for x in tqdm(X_test[:num_points]):\n",
    "    x = jax.numpy.array(x.reshape(1, -1))\n",
    "    preds = modelVI.sample_predictive_distribution_probs(jax.random.PRNGKey(0), x, 20)\n",
    "    unattacked_entropies.append(entropy(x, preds))\n",
    "sns.kdeplot(jnp.array(unattacked_entropies), clip=(0, 10))  \n",
    "\n",
    "entropies_point_rise = []\n",
    "for eps in epsilons:\n",
    "    #entropies = Parallel(n_jobs=8)(delayed(process)(x, eps) for x in tqdm(X_test[:num_points]))\n",
    "    entropies = [process(x, eps) for x in tqdm(X_test[:num_points])]\n",
    "    sns.kdeplot(jnp.array(entropies), clip=(0, 10))\n",
    "    entropies_point_rise.append(jnp.array(entropies))\n",
    "np.save('results/entropies_point_rise.npy', jnp.array(entropies_point_rise))\n",
    "    \n",
    "legend = ['Unattacked'] + ['Epsilon = ' + str(eps) for eps in epsilons]\n",
    "plt.legend(legend)"
   ]
  },
  {
   "cell_type": "code",
   "execution_count": null,
   "metadata": {},
   "outputs": [],
   "source": [
    "G = 0  # we want to lower the entropy of the predictive distribution\n",
    "\n",
    "def process(x, eps):\n",
    "    x = jax.numpy.array(x.reshape(1, -1))\n",
    "    x_adv_values, loss_values, func_values = attack(x, modelVI, G, func=entropy, samples_per_iteration=1000, epsilon=eps, num_iterations=1000, learning_rate=0.01, mnist_vi=True)\n",
    "    preds = modelVI.sample_predictive_distribution_probs(jax.random.PRNGKey(0), x_adv_values[-1], 20)\n",
    "    return entropy(x_adv_values[-1], preds)\n",
    "\n",
    "unattacked_entropies = []\n",
    "for x in tqdm(X_notmnist[:num_points]):\n",
    "    x = jax.numpy.array(x.reshape(1, -1))\n",
    "    preds = modelVI.sample_predictive_distribution_probs(jax.random.PRNGKey(0), x, 20)\n",
    "    unattacked_entropies.append(entropy(x, preds))\n",
    "sns.kdeplot(jnp.array(unattacked_entropies), clip=(0, 10))\n",
    "\n",
    "entropies_point_lower = []\n",
    "for eps in epsilons:\n",
    "    #entropies = Parallel(n_jobs=8)(delayed(process)(x, eps) for x in tqdm(X_test[:num_points]))\n",
    "    entropies = [process(x, eps) for x in tqdm(X_notmnist[:num_points])]\n",
    "    sns.kdeplot(jnp.array(entropies), clip=(0, 10))\n",
    "    entropies_point_lower.append(jnp.array(entropies))\n",
    "np.save('results/entropies_point_lower.npy', jnp.array(entropies_point_lower))\n",
    "\n",
    "legend = ['Unattacked'] + ['Epsilon = ' + str(eps) for eps in epsilons]\n",
    "plt.legend(legend)"
   ]
  },
  {
   "cell_type": "markdown",
   "metadata": {},
   "source": [
    "## Distribution attacks"
   ]
  },
  {
   "cell_type": "code",
   "execution_count": null,
   "metadata": {},
   "outputs": [],
   "source": [
    "# Y is a uniform distribution over 10 classes\n",
    "obj_appd = numpyro.distributions.Categorical(jnp.ones(10) / 10)\n",
    "\n",
    "def process(x, eps):\n",
    "    x = jax.numpy.array(x.reshape(1, -1))\n",
    "    x_adv, _ = mlmc_attack(modelVI, x, appd=obj_appd, epsilon=eps, n_iter=400, lr=0.01)  # TODO DIFFERENT LR???\n",
    "    preds = modelVI.sample_predictive_distribution_probs(jax.random.PRNGKey(0), x_adv, 20)\n",
    "    return entropy(x_adv, preds)\n",
    "\n",
    "unattacked_entropies = []\n",
    "for x in tqdm(X_test[:num_points]):\n",
    "    x = jax.numpy.array(x.reshape(1, -1))\n",
    "    preds = modelVI.sample_predictive_distribution_probs(jax.random.PRNGKey(0), x, 20)\n",
    "    unattacked_entropies.append(entropy(x, preds))\n",
    "sns.kdeplot(jnp.array(unattacked_entropies), clip=(0, 10))\n",
    "\n",
    "entropies_dist_rise = []\n",
    "for eps in epsilons:\n",
    "    #entropies = Parallel(n_jobs=4)(delayed(process)(x, eps) for x in tqdm(X_test[:80]))\n",
    "    entropies = [process(x, eps) for x in tqdm(X_test[:num_points])]\n",
    "    sns.kdeplot(jnp.array(entropies), clip=(0, 10))\n",
    "    entropies_dist_rise.append(jnp.array(entropies))\n",
    "np.save('results/entropies_dist_rise.npy', jnp.array(entropies_dist_rise))\n",
    "    \n",
    "legend = ['Unattacked'] + ['Epsilon = ' + str(eps) for eps in epsilons]\n",
    "plt.legend(legend)"
   ]
  },
  {
   "cell_type": "code",
   "execution_count": null,
   "metadata": {},
   "outputs": [],
   "source": [
    "def process(x, eps):\n",
    "    x = jax.numpy.array(x.reshape(1, -1))\n",
    "    pred = modelVI.sample_predictive_distribution(jax.random.PRNGKey(0), x, 1)  # so obj_appd is just 1 point mass on pred\n",
    "    obj_appd = numpyro.distributions.Categorical(probs=jax.nn.one_hot(pred, 10))\n",
    "    \n",
    "    x_adv, _ = mlmc_attack(modelVI, x, appd=obj_appd, epsilon=eps, n_iter=400)\n",
    "    preds = modelVI.sample_predictive_distribution_probs(jax.random.PRNGKey(0), x_adv, 20)\n",
    "    return entropy(x_adv, preds)\n",
    "\n",
    "unattacked_entropies = []\n",
    "for x in tqdm(X_notmnist[:num_points]):\n",
    "    x = jax.numpy.array(x.reshape(1, -1))\n",
    "    preds = modelVI.sample_predictive_distribution_probs(jax.random.PRNGKey(0), x, 20)\n",
    "    unattacked_entropies.append(entropy(x, preds))\n",
    "sns.kdeplot(jnp.array(unattacked_entropies), clip=(0, 10))\n",
    "\n",
    "entropies_dist_lower = []\n",
    "for eps in epsilons:\n",
    "    #entropies = Parallel(n_jobs=4)(delayed(process)(x, eps) for x in tqdm(X_notmnist[:8]))  # TODO 80 points\n",
    "    entropies = [process(x, eps) for x in tqdm(X_notmnist[:num_points])]\n",
    "    sns.kdeplot(jnp.array(entropies), clip=(0, 10))\n",
    "    entropies_dist_lower.append(jnp.array(entropies))\n",
    "np.save('results/entropies_dist_lower.npy', jnp.array(entropies_dist_lower))\n",
    "\n",
    "legend = ['Unattacked'] + ['Epsilon = ' + str(eps) for eps in epsilons]\n",
    "plt.legend(legend)"
   ]
  },
  {
   "cell_type": "markdown",
   "metadata": {},
   "source": [
    "## Security eval plot"
   ]
  },
  {
   "cell_type": "code",
   "execution_count": null,
   "metadata": {},
   "outputs": [],
   "source": [
    "num_points = 40"
   ]
  },
  {
   "cell_type": "code",
   "execution_count": null,
   "metadata": {},
   "outputs": [],
   "source": [
    "entropies_point_lower = np.load('results_mnist/entropies_point_lower.npy')\n",
    "entropies_point_rise = np.load('results_mnist/entropies_point_rise.npy')\n",
    "entropies_dist_lower = np.load('results_mnist/entropies_dist_lower.npy')\n",
    "entropies_dist_rise = np.load('results_mnist/entropies_dist_rise.npy')\n",
    "\n",
    "entropies_point_lower_mean = entropies_point_lower.mean(axis=1)\n",
    "entropies_point_rise_mean = entropies_point_rise.mean(axis=1)\n",
    "entropies_dist_lower_mean = entropies_dist_lower.mean(axis=1)\n",
    "entropies_dist_rise_mean = entropies_dist_rise.mean(axis=1)\n",
    "\n",
    "zero_eps_entropy = np.array([entropy(x, modelVI.sample_predictive_distribution_probs(jax.random.PRNGKey(0), x, 20)) for x in X_test[:num_points]]).mean()\n",
    "zero_eps_entropy_notmnist = np.array([entropy(x, modelVI.sample_predictive_distribution_probs(jax.random.PRNGKey(0), x, 20)) for x in X_notmnist[:num_points]]).mean()\n",
    "\n",
    "entropies_point_lower_mean = np.concatenate([[zero_eps_entropy_notmnist], entropies_point_lower_mean])\n",
    "entropies_point_rise_mean = np.concatenate([[zero_eps_entropy], entropies_point_rise_mean])\n",
    "entropies_dist_lower_mean = np.concatenate([[zero_eps_entropy_notmnist], entropies_dist_lower_mean])\n",
    "entropies_dist_rise_mean = np.concatenate([[zero_eps_entropy], entropies_dist_rise_mean])\n",
    "epsilons_full = np.concatenate([[0], epsilons])\n",
    "\n",
    "plt.plot(epsilons_full, entropies_point_lower_mean)\n",
    "plt.plot(epsilons_full, entropies_point_rise_mean)\n",
    "plt.plot(epsilons_full, entropies_dist_lower_mean)\n",
    "plt.plot(epsilons_full, entropies_dist_rise_mean)\n",
    "plt.legend(['Alg.1 notMNIST', 'Alg.1 MNIST', 'Alg.2 notMNIST', 'Alg.2 MNIST'])\n",
    "plt.xlabel('$\\epsilon$')\n",
    "plt.ylabel('Entropy')\n",
    "plt.show()"
   ]
  },
  {
   "cell_type": "markdown",
   "metadata": {},
   "source": [
    "## Accuracy with out-of-distribution detection for eps=.5"
   ]
  },
  {
   "cell_type": "code",
   "execution_count": null,
   "metadata": {},
   "outputs": [],
   "source": [
    "for i in range(100):\n",
    "    x = X_test[i]\n",
    "    x = jax.numpy.array(x.reshape(1, -1))\n",
    "    x_advs, _, _ = attack(x, modelVI, 20, func=entropy, samples_per_iteration=1000, epsilon=.5, num_iterations=1000, learning_rate=0.01, mnist_vi=True)\n",
    "    np.save(f'xs/x_test_attacked_{i}.npy', x_advs[-1])\n",
    "\n",
    "for i in range(100):\n",
    "    x = X_notmnist[i]\n",
    "    x = jax.numpy.array(x.reshape(1, -1))\n",
    "    x_advs, _, _ = attack(x, modelVI, 0, func=entropy, samples_per_iteration=1000, epsilon=.5, num_iterations=1000, learning_rate=0.01, mnist_vi=True)\n",
    "    np.save(f'xs/x_notmnist_attacked_{i}.npy', x_advs[-1])"
   ]
  },
  {
   "cell_type": "code",
   "execution_count": 31,
   "metadata": {},
   "outputs": [],
   "source": [
    "# For a mixed dataset with 50 points from each dataset, we can calculate the entropy of the predictive distribution\n",
    "# and plot the accuracy of the model over the points with top n% lowest entropy\n",
    "\n",
    "ns = np.linspace(1, .01, 11)\n",
    "n_points = 50\n",
    "\n",
    "X_test_attacked = jnp.concatenate([np.load(f'xs/x_test_attacked_{i}.npy') for i in range(100)])\n",
    "X_notmnist_attacked = jnp.concatenate([np.load(f'xs/x_notmnist_attacked_{i}.npy') for i in range(100)])\n",
    "num_reps = 10\n",
    "accs_reps = []\n",
    "accs_attacked_reps = []\n",
    "for reps in range(num_reps):\n",
    "    idx = np.random.choice(100, 50)\n",
    "    X_mixed = np.concatenate([X_test[idx], X_notmnist[idx]])\n",
    "    X_mixed_attacked = np.concatenate([X_test_attacked[idx], X_notmnist_attacked[idx]])\n",
    "    y_mixed = np.concatenate([y_test[idx].argmax(axis=1), -np.ones(50)])\n",
    "\n",
    "    entropies = np.array([entropy(x, modelVI.sample_predictive_distribution_probs(jax.random.PRNGKey(0), x, 20)) for x in X_mixed])\n",
    "    entropies_attacked = np.array([entropy(x, modelVI.sample_predictive_distribution_probs(jax.random.PRNGKey(0), x, 20)) for x in X_mixed_attacked])\n",
    "    ord_idx = np.argsort(entropies)\n",
    "    ord_idx_attacked = np.argsort(entropies_attacked)\n",
    "\n",
    "    accs = []\n",
    "    accs_attacked = []\n",
    "    for n in ns:\n",
    "        idx = ord_idx[:int(n * n_points * 2)]\n",
    "        idx_attacked = ord_idx_attacked[:int(n * n_points * 2)]\n",
    "\n",
    "        X_mixed_sel = X_mixed[idx]\n",
    "        y_mixed_sel = y_mixed[idx]\n",
    "\n",
    "        y_pred = modelVI.sample_predictive_distribution_probs(jax.random.PRNGKey(0), X_mixed_sel, 100).mean(axis=0).argmax(axis=-1)\n",
    "        accuracy = (y_pred == y_mixed_sel).mean()\n",
    "        accs.append(accuracy)\n",
    "\n",
    "        X_mixed_sel = X_mixed_attacked[idx_attacked]\n",
    "        y_mixed_sel = y_mixed[idx_attacked]\n",
    "\n",
    "        y_pred = modelVI.sample_predictive_distribution_probs(jax.random.PRNGKey(0), X_mixed_sel, 100).mean(axis=0).argmax(axis=-1)\n",
    "        accuracy = (y_pred == y_mixed_sel).mean()\n",
    "        accs_attacked.append(accuracy)\n",
    "\n",
    "    accs_reps.append(accs)\n",
    "    accs_attacked_reps.append(accs_attacked)\n",
    "\n",
    "accs_reps = np.array(accs_reps)\n",
    "accs_attacked_reps = np.array(accs_attacked_reps)"
   ]
  },
  {
   "cell_type": "code",
   "execution_count": null,
   "metadata": {},
   "outputs": [],
   "source": [
    "plt.errorbar(100*ns, accs_reps.mean(axis=0), yerr=2*accs_reps.std(axis=0)/np.sqrt(num_reps))\n",
    "plt.errorbar(100*ns, accs_attacked_reps.mean(axis=0), yerr=2*accs_attacked_reps.std(axis=0)/np.sqrt(num_reps))\n",
    "plt.legend(['Unattacked', 'Attacked'])\n",
    "plt.xlabel('Percentage of points accepted')\n",
    "plt.ylabel('Accuracy')"
   ]
  }
 ],
 "metadata": {
  "kernelspec": {
   "display_name": "advReg",
   "language": "python",
   "name": "python3"
  },
  "language_info": {
   "codemirror_mode": {
    "name": "ipython",
    "version": 3
   },
   "file_extension": ".py",
   "mimetype": "text/x-python",
   "name": "python",
   "nbconvert_exporter": "python",
   "pygments_lexer": "ipython3",
   "version": "3.12.7"
  }
 },
 "nbformat": 4,
 "nbformat_minor": 2
}
