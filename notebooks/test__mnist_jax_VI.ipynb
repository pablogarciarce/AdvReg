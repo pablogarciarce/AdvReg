{
 "cells": [
  {
   "cell_type": "markdown",
   "metadata": {},
   "source": [
    "## Imports and dataset"
   ]
  },
  {
   "cell_type": "code",
   "execution_count": 1,
   "metadata": {},
   "outputs": [
    {
     "name": "stderr",
     "output_type": "stream",
     "text": [
      "/opt/anaconda3/envs/advReg/lib/python3.12/site-packages/tqdm/auto.py:21: TqdmWarning: IProgress not found. Please update jupyter and ipywidgets. See https://ipywidgets.readthedocs.io/en/stable/user_install.html\n",
      "  from .autonotebook import tqdm as notebook_tqdm\n"
     ]
    }
   ],
   "source": [
    "from src.models.optimized_bnn import ClasBayesianNNVI\n",
    "from src.attacks.distr_attacks_bnn_jax import mlmc_attack, fgsm_attack, kl_to_appd\n",
    "from src.attacks.point_attacks_jax import attack\n",
    "\n",
    "from src.utils import plot_ppds\n",
    "\n",
    "import numpy as np\n",
    "import pandas as pd\n",
    "import jax\n",
    "import jax.numpy as jnp\n",
    "import numpyro\n",
    "from tqdm import tqdm\n",
    "\n",
    "from sklearn.model_selection import train_test_split\n",
    "from sklearn.preprocessing import MinMaxScaler\n",
    "\n",
    "from joblib import Parallel, delayed"
   ]
  },
  {
   "cell_type": "code",
   "execution_count": 2,
   "metadata": {},
   "outputs": [],
   "source": [
    "import seaborn as sns\n",
    "import matplotlib.pyplot as plt\n",
    "\n",
    "sns.set_theme(style=\"whitegrid\", palette=\"muted\", font=\"serif\")\n",
    "\n",
    "sns.set_context(\"notebook\", font_scale=1.5, rc={\"lines.linewidth\": 2.5})\n",
    "plt.rcParams.update({\n",
    "    'axes.titlesize': 18,\n",
    "    'axes.labelsize': 14,\n",
    "    'xtick.labelsize': 12,\n",
    "    'ytick.labelsize': 12,\n",
    "    'axes.titleweight': 'bold',\n",
    "    'axes.edgecolor': 'black',\n",
    "    'axes.linewidth': 1,\n",
    "    'grid.alpha': 0.5,\n",
    "    'grid.linestyle': '--',\n",
    "    'legend.fontsize': 12,\n",
    "    'legend.frameon': False,\n",
    "    'figure.dpi': 300,  \n",
    "})"
   ]
  },
  {
   "cell_type": "code",
   "execution_count": 3,
   "metadata": {},
   "outputs": [],
   "source": [
    "import numpyro\n",
    "numpyro.set_host_device_count(8)"
   ]
  },
  {
   "cell_type": "code",
   "execution_count": 4,
   "metadata": {},
   "outputs": [],
   "source": [
    "# set all seeds for reproducibility\n",
    "seed = 42\n",
    "np.random.seed(seed)"
   ]
  },
  {
   "cell_type": "markdown",
   "metadata": {},
   "source": [
    "## MNIST - DE"
   ]
  },
  {
   "cell_type": "code",
   "execution_count": 5,
   "metadata": {},
   "outputs": [],
   "source": [
    "# load MNIST data without tensorflow\n",
    "from sklearn.datasets import fetch_openml\n",
    "\n",
    "# Load MNIST from OpenML\n",
    "mnist = fetch_openml('mnist_784', version=1)\n",
    "X, y = mnist.data.values, mnist.target.values\n",
    "X = jnp.array(X) / 255.0  # Normalize pixel values to [0, 1]\n",
    "y = y.astype(int)\n",
    "y = jax.nn.one_hot(y, 10)\n",
    "\n",
    "# Split into training and testing datasets\n",
    "X_train, X_test = X[:60000], X[60000:]\n",
    "y_train, y_test = y[:60000], y[60000:]"
   ]
  },
  {
   "cell_type": "code",
   "execution_count": 6,
   "metadata": {},
   "outputs": [],
   "source": [
    "modelVI = ClasBayesianNNVI(input_dim=X_train.shape[1], hidden_units=30)\n",
    "try:\n",
    "    modelVI.load('../src/models/weights/mnist/30bnnvi')\n",
    "except FileNotFoundError:\n",
    "    print('Not model found, fitting the model') \n",
    "    modelVI.fit(\n",
    "        X_train, \n",
    "        jnp.argmax(y_train, axis=1), \n",
    "        num_steps=3000\n",
    "    )\n",
    "    modelVI.save('../src/models/weights/mnist/10bnnviflat')"
   ]
  },
  {
   "cell_type": "code",
   "execution_count": 7,
   "metadata": {},
   "outputs": [
    {
     "data": {
      "text/plain": [
       "dict_keys(['auto_cov_factor', 'auto_loc', 'auto_scale'])"
      ]
     },
     "execution_count": 7,
     "metadata": {},
     "output_type": "execute_result"
    }
   ],
   "source": [
    "modelVI.svi_result.keys()"
   ]
  },
  {
   "cell_type": "code",
   "execution_count": 8,
   "metadata": {},
   "outputs": [
    {
     "name": "stdout",
     "output_type": "stream",
     "text": [
      "Accuracy over the test set: 93.83%\n"
     ]
    }
   ],
   "source": [
    "# measure accuracy over the test set\n",
    "y_pred = modelVI.sample_predictive_distribution(jax.random.PRNGKey(0), X_test, 1)\n",
    "accuracy = (y_pred == jnp.argmax(y_test, axis=1)).mean()\n",
    "print(f\"Accuracy over the test set: {accuracy * 100:.2f}%\")"
   ]
  },
  {
   "cell_type": "code",
   "execution_count": 9,
   "metadata": {},
   "outputs": [],
   "source": [
    "# Load notMNIST data without labels\n",
    "import os\n",
    "from PIL import Image\n",
    "import numpy as np\n",
    "\n",
    "# Ruta de la carpeta con imágenes\n",
    "folder_path = '../data/notMNIST_small'\n",
    "\n",
    "# Lista para almacenar las imágenes\n",
    "images = []\n",
    "\n",
    "for dirpath, dirnames, filenames in os.walk(folder_path):\n",
    "    for filename in filenames:\n",
    "        if filename.endswith('.png'):\n",
    "            img_path = os.path.join(dirpath, filename)\n",
    "            img = Image.open(img_path)\n",
    "            img_gray = img.convert('L')\n",
    "            img_array = np.array(img_gray)\n",
    "            images.append(img_array)\n",
    "\n",
    "X_notmnist = np.array(images).reshape(-1, 28*28) / 255.0"
   ]
  },
  {
   "cell_type": "code",
   "execution_count": 10,
   "metadata": {},
   "outputs": [],
   "source": [
    "def entropy(x, pred):\n",
    "    pred += 1e-8\n",
    "    entr = - (pred * jnp.log(pred)).sum(axis=-1) / jnp.log(2)\n",
    "    return entr.mean()"
   ]
  },
  {
   "cell_type": "code",
   "execution_count": 11,
   "metadata": {},
   "outputs": [],
   "source": [
    "def exp_entropy(x, y):\n",
    "    return jax.nn.one_hot(y, 10).mean(axis=0)"
   ]
  },
  {
   "cell_type": "markdown",
   "metadata": {},
   "source": [
    "## Baseline"
   ]
  },
  {
   "cell_type": "code",
   "execution_count": 12,
   "metadata": {},
   "outputs": [
    {
     "name": "stderr",
     "output_type": "stream",
     "text": [
      "100%|██████████| 50/50 [00:11<00:00,  4.32it/s]\n",
      "100%|██████████| 50/50 [00:11<00:00,  4.48it/s]\n"
     ]
    },
    {
     "data": {
      "text/plain": [
       "<matplotlib.legend.Legend at 0xd11737560>"
      ]
     },
     "execution_count": 12,
     "metadata": {},
     "output_type": "execute_result"
    },
    {
     "data": {
      "image/png": "[encoded data removed]",
      "text/plain": [
       "<Figure size 1920x1440 with 1 Axes>"
      ]
     },
     "metadata": {},
     "output_type": "display_data"
    }
   ],
   "source": [
    "unattacked_entropies = []\n",
    "num_points = 50\n",
    "for x in tqdm(X_test[:num_points]):\n",
    "    x = jax.numpy.array(x.reshape(1, -1))\n",
    "    preds = modelVI.sample_predictive_distribution_probs(jax.random.PRNGKey(0), x, 20)\n",
    "    unattacked_entropies.append(entropy(x, preds))\n",
    "\n",
    "sns.histplot(jnp.array(unattacked_entropies), kde=True, bins=10, alpha=0.)\n",
    "legend = ['mnist', 'not mnist']\n",
    "unattacked_entropies = []\n",
    "for x in tqdm(X_notmnist[:num_points]):\n",
    "    x = jax.numpy.array(x.reshape(1, -1))\n",
    "    preds = modelVI.sample_predictive_distribution_probs(jax.random.PRNGKey(0), x, 20)\n",
    "    unattacked_entropies.append(entropy(x, preds))\n",
    "\n",
    "sns.histplot(jnp.array(unattacked_entropies), kde=True, bins=10, alpha=0.)\n",
    "plt.legend(legend)"
   ]
  },
  {
   "cell_type": "markdown",
   "metadata": {},
   "source": [
    "## Point attacks"
   ]
  },
  {
   "cell_type": "code",
   "execution_count": 13,
   "metadata": {},
   "outputs": [
    {
     "ename": "KeyboardInterrupt",
     "evalue": "",
     "output_type": "error",
     "traceback": [
      "\u001b[0;31m---------------------------------------------------------------------------\u001b[0m",
      "\u001b[0;31mKeyboardInterrupt\u001b[0m                         Traceback (most recent call last)",
      "Cell \u001b[0;32mIn[13], line 5\u001b[0m\n\u001b[1;32m      3\u001b[0m eps\u001b[38;5;241m=\u001b[39m\u001b[38;5;241m5\u001b[39m\n\u001b[1;32m      4\u001b[0m x \u001b[38;5;241m=\u001b[39m jax\u001b[38;5;241m.\u001b[39mnumpy\u001b[38;5;241m.\u001b[39marray(x\u001b[38;5;241m.\u001b[39mreshape(\u001b[38;5;241m1\u001b[39m, \u001b[38;5;241m-\u001b[39m\u001b[38;5;241m1\u001b[39m))\n\u001b[0;32m----> 5\u001b[0m x_adv_values, loss_values, func_values \u001b[38;5;241m=\u001b[39m \u001b[43mattack\u001b[49m\u001b[43m(\u001b[49m\u001b[43mx\u001b[49m\u001b[43m,\u001b[49m\u001b[43m \u001b[49m\u001b[43mmodelVI\u001b[49m\u001b[43m,\u001b[49m\u001b[43m \u001b[49m\u001b[43mG\u001b[49m\u001b[43m,\u001b[49m\u001b[43m \u001b[49m\u001b[43mfunc\u001b[49m\u001b[38;5;241;43m=\u001b[39;49m\u001b[43mentropy\u001b[49m\u001b[43m,\u001b[49m\u001b[43m \u001b[49m\u001b[43msamples_per_iteration\u001b[49m\u001b[38;5;241;43m=\u001b[39;49m\u001b[38;5;241;43m1000\u001b[39;49m\u001b[43m,\u001b[49m\u001b[43m \u001b[49m\u001b[43mepsilon\u001b[49m\u001b[38;5;241;43m=\u001b[39;49m\u001b[43meps\u001b[49m\u001b[43m,\u001b[49m\u001b[43m \u001b[49m\u001b[43mnum_iterations\u001b[49m\u001b[38;5;241;43m=\u001b[39;49m\u001b[38;5;241;43m1000\u001b[39;49m\u001b[43m,\u001b[49m\u001b[43m \u001b[49m\u001b[43mlearning_rate\u001b[49m\u001b[38;5;241;43m=\u001b[39;49m\u001b[38;5;241;43m0.01\u001b[39;49m\u001b[43m)\u001b[49m\n\u001b[1;32m      6\u001b[0m preds \u001b[38;5;241m=\u001b[39m modelVI\u001b[38;5;241m.\u001b[39msample_predictive_distribution_probs(jax\u001b[38;5;241m.\u001b[39mrandom\u001b[38;5;241m.\u001b[39mPRNGKey(\u001b[38;5;241m0\u001b[39m), x_adv_values[\u001b[38;5;241m-\u001b[39m\u001b[38;5;241m1\u001b[39m], \u001b[38;5;241m20\u001b[39m)\n\u001b[1;32m      7\u001b[0m \u001b[38;5;28mprint\u001b[39m(\u001b[38;5;124m'\u001b[39m\u001b[38;5;124mEntropy before attack:\u001b[39m\u001b[38;5;124m'\u001b[39m, entropy(x, modelVI\u001b[38;5;241m.\u001b[39msample_predictive_distribution_probs(jax\u001b[38;5;241m.\u001b[39mrandom\u001b[38;5;241m.\u001b[39mPRNGKey(\u001b[38;5;241m0\u001b[39m), x, \u001b[38;5;241m20\u001b[39m)))\n",
      "File \u001b[0;32m~/projects/AdvReg/src/attacks/point_attacks_jax.py:52\u001b[0m, in \u001b[0;36mattack\u001b[0;34m(x_clean, model, G, samples_per_iteration, learning_rate, num_iterations, epsilon, func, early_stopping_patience, projection, verbose)\u001b[0m\n\u001b[1;32m     50\u001b[0m f_mean \u001b[38;5;241m=\u001b[39m jnp\u001b[38;5;241m.\u001b[39mmean(func(x_adv, model\u001b[38;5;241m.\u001b[39msample_predictive_distribution_probs(rep_rng, x_adv, samples_per_iteration)))\n\u001b[1;32m     51\u001b[0m loss \u001b[38;5;241m=\u001b[39m loss_fn(x_adv)\n\u001b[0;32m---> 52\u001b[0m \u001b[38;5;28;01mif\u001b[39;00m loss \u001b[38;5;241m<\u001b[39m best_loss:\n\u001b[1;32m     53\u001b[0m     best_loss \u001b[38;5;241m=\u001b[39m loss\n\u001b[1;32m     54\u001b[0m     early_stopping_it \u001b[38;5;241m=\u001b[39m \u001b[38;5;241m0\u001b[39m\n",
      "File \u001b[0;32m/opt/anaconda3/envs/advReg/lib/python3.12/site-packages/jax/_src/array.py:290\u001b[0m, in \u001b[0;36mArrayImpl.__bool__\u001b[0;34m(self)\u001b[0m\n\u001b[1;32m    288\u001b[0m \u001b[38;5;28;01mdef\u001b[39;00m \u001b[38;5;21m__bool__\u001b[39m(\u001b[38;5;28mself\u001b[39m):\n\u001b[1;32m    289\u001b[0m   core\u001b[38;5;241m.\u001b[39mcheck_bool_conversion(\u001b[38;5;28mself\u001b[39m)\n\u001b[0;32m--> 290\u001b[0m   \u001b[38;5;28;01mreturn\u001b[39;00m \u001b[38;5;28mbool\u001b[39m(\u001b[38;5;28;43mself\u001b[39;49m\u001b[38;5;241;43m.\u001b[39;49m\u001b[43m_value\u001b[49m)\n",
      "File \u001b[0;32m/opt/anaconda3/envs/advReg/lib/python3.12/site-packages/jax/_src/profiler.py:333\u001b[0m, in \u001b[0;36mannotate_function.<locals>.wrapper\u001b[0;34m(*args, **kwargs)\u001b[0m\n\u001b[1;32m    330\u001b[0m \u001b[38;5;129m@wraps\u001b[39m(func)\n\u001b[1;32m    331\u001b[0m \u001b[38;5;28;01mdef\u001b[39;00m \u001b[38;5;21mwrapper\u001b[39m(\u001b[38;5;241m*\u001b[39margs, \u001b[38;5;241m*\u001b[39m\u001b[38;5;241m*\u001b[39mkwargs):\n\u001b[1;32m    332\u001b[0m   \u001b[38;5;28;01mwith\u001b[39;00m TraceAnnotation(name, \u001b[38;5;241m*\u001b[39m\u001b[38;5;241m*\u001b[39mdecorator_kwargs):\n\u001b[0;32m--> 333\u001b[0m     \u001b[38;5;28;01mreturn\u001b[39;00m \u001b[43mfunc\u001b[49m\u001b[43m(\u001b[49m\u001b[38;5;241;43m*\u001b[39;49m\u001b[43margs\u001b[49m\u001b[43m,\u001b[49m\u001b[43m \u001b[49m\u001b[38;5;241;43m*\u001b[39;49m\u001b[38;5;241;43m*\u001b[39;49m\u001b[43mkwargs\u001b[49m\u001b[43m)\u001b[49m\n\u001b[1;32m    334\u001b[0m   \u001b[38;5;28;01mreturn\u001b[39;00m wrapper\n",
      "File \u001b[0;32m/opt/anaconda3/envs/advReg/lib/python3.12/site-packages/jax/_src/array.py:624\u001b[0m, in \u001b[0;36mArrayImpl._value\u001b[0;34m(self)\u001b[0m\n\u001b[1;32m    622\u001b[0m \u001b[38;5;28;01mif\u001b[39;00m \u001b[38;5;28mself\u001b[39m\u001b[38;5;241m.\u001b[39m_npy_value \u001b[38;5;129;01mis\u001b[39;00m \u001b[38;5;28;01mNone\u001b[39;00m:\n\u001b[1;32m    623\u001b[0m   \u001b[38;5;28;01mif\u001b[39;00m \u001b[38;5;28mself\u001b[39m\u001b[38;5;241m.\u001b[39mis_fully_replicated:\n\u001b[0;32m--> 624\u001b[0m     \u001b[38;5;28mself\u001b[39m\u001b[38;5;241m.\u001b[39m_npy_value \u001b[38;5;241m=\u001b[39m \u001b[38;5;28;43mself\u001b[39;49m\u001b[38;5;241;43m.\u001b[39;49m\u001b[43m_single_device_array_to_np_array\u001b[49m\u001b[43m(\u001b[49m\u001b[43m)\u001b[49m\n\u001b[1;32m    625\u001b[0m     \u001b[38;5;28mself\u001b[39m\u001b[38;5;241m.\u001b[39m_npy_value\u001b[38;5;241m.\u001b[39mflags\u001b[38;5;241m.\u001b[39mwriteable \u001b[38;5;241m=\u001b[39m \u001b[38;5;28;01mFalse\u001b[39;00m\n\u001b[1;32m    626\u001b[0m     \u001b[38;5;28;01mreturn\u001b[39;00m cast(np\u001b[38;5;241m.\u001b[39mndarray, \u001b[38;5;28mself\u001b[39m\u001b[38;5;241m.\u001b[39m_npy_value)\n",
      "\u001b[0;31mKeyboardInterrupt\u001b[0m: "
     ]
    }
   ],
   "source": [
    "G = 2  # we want to rise the entropy of the predictive distribution\n",
    "x = X_test[0]\n",
    "eps=5\n",
    "x = jax.numpy.array(x.reshape(1, -1))\n",
    "x_adv_values, loss_values, func_values = attack(x, modelVI, G, func=entropy, samples_per_iteration=1000, epsilon=eps, num_iterations=1000, learning_rate=0.01)\n",
    "preds = modelVI.sample_predictive_distribution_probs(jax.random.PRNGKey(0), x_adv_values[-1], 20)\n",
    "print('Entropy before attack:', entropy(x, modelVI.sample_predictive_distribution_probs(jax.random.PRNGKey(0), x, 20)))\n",
    "print('Entropy after attack:', entropy(x_adv_values[-1], preds))\n",
    "print('Norm of the attack:', jnp.linalg.norm(x_adv_values[-1] - x))"
   ]
  },
  {
   "cell_type": "code",
   "execution_count": 14,
   "metadata": {},
   "outputs": [
    {
     "data": {
      "text/plain": [
       "[<matplotlib.lines.Line2D at 0x310b45fa0>]"
      ]
     },
     "execution_count": 14,
     "metadata": {},
     "output_type": "execute_result"
    },
    {
     "data": {
      "image/png": "[encoded data removed]",
      "text/plain": [
       "<Figure size 1920x1440 with 1 Axes>"
      ]
     },
     "metadata": {},
     "output_type": "display_data"
    }
   ],
   "source": [
    "plt.plot(func_values)"
   ]
  },
  {
   "cell_type": "code",
   "execution_count": 14,
   "metadata": {},
   "outputs": [
    {
     "name": "stderr",
     "output_type": "stream",
     "text": [
      "  0%|          | 0/40 [00:00<?, ?it/s]"
     ]
    },
    {
     "ename": "",
     "evalue": "",
     "output_type": "error",
     "traceback": [
      "\u001b[1;31mThe Kernel crashed while executing code in the current cell or a previous cell. \n",
      "\u001b[1;31mPlease review the code in the cell(s) to identify a possible cause of the failure. \n",
      "\u001b[1;31mClick <a href='https://aka.ms/vscodeJupyterKernelCrash'>here</a> for more info. \n",
      "\u001b[1;31mView Jupyter <a href='command:jupyter.viewOutput'>log</a> for further details."
     ]
    }
   ],
   "source": [
    "G = 2  # we want to rise the entropy of the predictive distribution\n",
    "\n",
    "def process(x, eps):\n",
    "    x = jax.numpy.array(x.reshape(1, -1))\n",
    "    x_adv_values, loss_values, func_values = attack(x, modelVI, G, func=entropy, samples_per_iteration=1000, epsilon=eps, num_iterations=1000, learning_rate=0.01)\n",
    "    preds = modelVI.sample_predictive_distribution_probs(jax.random.PRNGKey(0), x_adv_values[-1], 20)\n",
    "    return entropy(x_adv_values[-1], preds)\n",
    "\n",
    "epsilons = [.2, .5]\n",
    "num_points = 40\n",
    "for eps in epsilons:\n",
    "    #entropies = Parallel(n_jobs=8)(delayed(process)(x, eps) for x in tqdm(X_test[:num_points]))\n",
    "    entropies = [process(x, eps) for x in tqdm(X_test[:num_points])]\n",
    "    sns.histplot(jnp.array(entropies), kde=True, bins=10, alpha=0.)\n",
    "    \n",
    "unattacked_entropies = []\n",
    "for x in tqdm(X_test[:num_points]):\n",
    "    x = jax.numpy.array(x.reshape(1, -1))\n",
    "    preds = modelVI.sample_predictive_distribution_probs(jax.random.PRNGKey(0), x, 20)\n",
    "    unattacked_entropies.append(entropy(x, preds))\n",
    "\n",
    "sns.histplot(jnp.array(unattacked_entropies), kde=True, bins=10, alpha=0.)\n",
    "legend = ['Epsilon = ' + str(eps) for eps in epsilons] + ['Unattacked']\n",
    "plt.legend(legend)"
   ]
  },
  {
   "cell_type": "code",
   "execution_count": 16,
   "metadata": {},
   "outputs": [
    {
     "name": "stderr",
     "output_type": "stream",
     "text": [
      "  0%|          | 0/40 [00:00<?, ?it/s]"
     ]
    },
    {
     "name": "stdout",
     "output_type": "stream",
     "text": [
      "0.0015142185\n",
      "0.0027549465\n",
      "0.0014917627\n",
      "0.0015250436\n",
      "0.0015622308\n",
      "0.0057244813\n",
      "0.0019139615\n",
      "0.0019497443\n",
      "0.005019167\n",
      "0.0041472064\n",
      "0.0022155684\n",
      "0.0015816841\n",
      "0.0018793787\n",
      "0.004467078\n",
      "0.0017496136\n",
      "0.0020106696\n",
      "0.0016923096\n",
      "0.0017676873\n",
      "0.0012671963\n",
      "0.0016855012\n",
      "0.0014685416\n",
      "0.0021759951\n",
      "0.0038592604\n",
      "0.0010763324\n",
      "0.0015154069\n"
     ]
    },
    {
     "name": "stderr",
     "output_type": "stream",
     "text": [
      "  2%|▎         | 1/40 [00:28<18:20, 28.22s/it]"
     ]
    },
    {
     "name": "stdout",
     "output_type": "stream",
     "text": [
      "0.0025503216\n",
      "0.00057387893\n",
      "0.0002367534\n",
      "0.00030016576\n",
      "0.00033867024\n",
      "0.00015729929\n",
      "0.00015850585\n",
      "0.00024390254\n",
      "0.00013279244\n",
      "8.27102e-05\n",
      "0.0001668369\n",
      "0.000239657\n",
      "0.00031822675\n",
      "0.0001875741\n",
      "0.00012637526\n",
      "0.00022665692\n",
      "0.00016563092\n",
      "0.00030581673\n",
      "2.1073143e-05\n",
      "7.134154e-05\n",
      "0.00030361657\n",
      "8.3913044e-05\n",
      "0.00014078287\n",
      "0.00021455604\n",
      "6.5050204e-05\n",
      "8.637412e-05\n",
      "0.0004582923\n",
      "0.00039692523\n",
      "0.00012292998\n"
     ]
    },
    {
     "name": "stderr",
     "output_type": "stream",
     "text": [
      "  5%|▌         | 2/40 [00:58<18:47, 29.68s/it]"
     ]
    },
    {
     "name": "stdout",
     "output_type": "stream",
     "text": [
      "0.007577449\n",
      "0.0066778143\n",
      "0.013976748\n",
      "0.014517048\n",
      "0.013917969\n",
      "0.010445538\n",
      "0.0065220245\n",
      "0.006961464\n",
      "0.012079656\n",
      "0.0074470416\n",
      "0.005223622\n",
      "0.0073388643\n",
      "0.010979974\n",
      "0.008942237\n",
      "0.012704888\n",
      "0.006161876\n",
      "0.012044542\n",
      "0.007960658\n",
      "0.0073841633\n",
      "0.008171408\n",
      "0.008192437\n",
      "0.012439897\n",
      "0.0062596714\n",
      "0.0065480815\n",
      "0.0068377466\n",
      "0.007913144\n",
      "0.00819586\n",
      "0.008474602\n",
      "0.0063997433\n",
      "0.006966936\n",
      "0.006325324\n"
     ]
    },
    {
     "name": "stderr",
     "output_type": "stream",
     "text": [
      "  8%|▊         | 3/40 [01:34<19:50, 32.17s/it]"
     ]
    },
    {
     "name": "stdout",
     "output_type": "stream",
     "text": [
      "0.0005190447\n",
      "0.00040366373\n",
      "0.0017598941\n",
      "0.0013476601\n",
      "0.0019282068\n",
      "0.001376833\n",
      "0.0008436393\n",
      "0.0021023043\n",
      "0.0014043297\n",
      "0.0006692322\n",
      "0.0014915913\n",
      "0.00065216474\n",
      "0.0005061639\n",
      "0.0007812443\n",
      "0.0009753407\n",
      "0.0008302033\n",
      "0.0018283093\n",
      "0.003362857\n",
      "0.0014239013\n",
      "0.0008132638\n",
      "0.0006448509\n",
      "0.00074378663\n",
      "0.00077248213\n",
      "0.0022468534\n",
      "0.00088380097\n",
      "0.0008043076\n",
      "0.0009994245\n",
      "0.0016015276\n",
      "0.0015683599\n",
      "0.0009469604\n",
      "0.0013548089\n",
      "0.00051975274\n",
      "0.00074402284\n",
      "0.00093618594\n",
      "0.00093833084\n",
      "0.0012178393\n",
      "0.00060282834\n",
      "0.00058486196\n",
      "0.0006875588\n",
      "0.0014792931\n",
      "0.0014397397\n",
      "0.0013144055\n"
     ]
    },
    {
     "name": "stderr",
     "output_type": "stream",
     "text": [
      " 10%|█         | 4/40 [02:19<22:21, 37.27s/it]"
     ]
    },
    {
     "name": "stdout",
     "output_type": "stream",
     "text": [
      "0.00045001248\n",
      "0.0013800738\n",
      "0.0012038073\n",
      "0.001341224\n",
      "0.0011363061\n",
      "0.0017070555\n",
      "0.0005450697\n",
      "0.0010709923\n",
      "0.0016779755\n",
      "0.0006929504\n",
      "0.0008567893\n",
      "0.0010891483\n",
      "0.0012593812\n",
      "0.00072730525\n",
      "0.00083767186\n",
      "0.00093903084\n",
      "0.001257172\n",
      "0.0013698069\n",
      "0.0007454499\n",
      "0.0007474488\n",
      "0.00056008203\n",
      "0.00071623456\n",
      "0.00048916915\n",
      "0.0013285615\n",
      "0.002331778\n",
      "0.0011189566\n",
      "0.0012055124\n",
      "0.00064134714\n",
      "0.00037575216\n",
      "0.0005722315\n",
      "0.0004753023\n",
      "0.0009944228\n",
      "0.00069880026\n",
      "0.001429433\n",
      "0.001711337\n",
      "0.0007511909\n",
      "0.0007882662\n",
      "0.00074253697\n",
      "0.0011045226\n"
     ]
    },
    {
     "name": "stderr",
     "output_type": "stream",
     "text": [
      " 12%|█▎        | 5/40 [03:02<22:59, 39.43s/it]"
     ]
    },
    {
     "name": "stdout",
     "output_type": "stream",
     "text": [
      "0.0053647575\n",
      "0.004033242\n",
      "0.0074651306\n",
      "0.0032300784\n",
      "0.002956454\n",
      "0.006127319\n",
      "0.004671088\n",
      "0.005185899\n",
      "0.005340638\n",
      "0.005263355\n",
      "0.00411757\n",
      "0.009122715\n",
      "0.003172691\n",
      "0.007926187\n",
      "0.0035603233\n",
      "0.0028720957\n",
      "0.0028161916\n",
      "0.011666944\n",
      "0.0052717575\n",
      "0.006713206\n",
      "0.0026012757\n",
      "0.004176696\n",
      "0.0045370907\n",
      "0.0031624564\n",
      "0.0016295351\n",
      "0.0021484368\n",
      "0.0045499997\n",
      "0.0029151984\n",
      "0.0061995387\n",
      "0.0023491727\n",
      "0.002478892\n",
      "0.001612406\n",
      "0.0033450872\n",
      "0.0021410394\n",
      "0.0028697664\n",
      "0.0046949135\n",
      "0.0045194486\n",
      "0.0031563533\n",
      "0.0088845\n",
      "0.004305751\n",
      "0.0028522327\n",
      "0.010735493\n"
     ]
    },
    {
     "name": "stderr",
     "output_type": "stream",
     "text": [
      " 15%|█▌        | 6/40 [03:48<23:37, 41.70s/it]"
     ]
    },
    {
     "name": "stdout",
     "output_type": "stream",
     "text": [
      "0.00038053378\n",
      "0.00094595156\n",
      "0.00038933544\n",
      "0.00021651841\n",
      "0.0003375003\n",
      "0.00021358122\n",
      "0.00011116379\n",
      "0.00011341623\n",
      "0.00044830263\n",
      "0.0001912109\n",
      "0.000106874686\n",
      "0.000113937385\n",
      "0.00018533178\n",
      "9.8966964e-05\n",
      "0.0001850069\n",
      "0.00021506479\n",
      "0.00028175165\n",
      "0.00027206948\n",
      "0.0001607665\n",
      "0.00016848982\n",
      "0.000211822\n",
      "0.00032502145\n"
     ]
    },
    {
     "name": "stderr",
     "output_type": "stream",
     "text": [
      " 18%|█▊        | 7/40 [04:11<19:30, 35.47s/it]"
     ]
    },
    {
     "name": "stdout",
     "output_type": "stream",
     "text": [
      "0.0005190447\n",
      "0.00040366373\n",
      "0.0017598941\n",
      "0.0013476601\n",
      "0.0019282068\n",
      "0.001376833\n",
      "0.0008436393\n",
      "0.0021023043\n",
      "0.0014043297\n",
      "0.0006692322\n",
      "0.0014915913\n",
      "0.00065216474\n",
      "0.0005061639\n",
      "0.0007812443\n",
      "0.0009753407\n",
      "0.0008302033\n",
      "0.0018283093\n",
      "0.003362857\n",
      "0.0014239013\n",
      "0.0008132638\n",
      "0.0006448509\n",
      "0.00074378663\n",
      "0.00077248213\n",
      "0.0022468534\n",
      "0.00088380097\n",
      "0.0008043076\n",
      "0.0009994245\n",
      "0.0016015276\n",
      "0.0015683599\n",
      "0.0009469604\n",
      "0.0013548089\n",
      "0.00051975274\n",
      "0.00074402284\n",
      "0.00093618594\n",
      "0.00093833084\n",
      "0.0012178393\n",
      "0.00060282834\n",
      "0.00058486196\n",
      "0.0006875588\n",
      "0.0014792931\n",
      "0.0014397397\n",
      "0.0013144055\n"
     ]
    },
    {
     "name": "stderr",
     "output_type": "stream",
     "text": [
      " 20%|██        | 8/40 [04:55<20:29, 38.44s/it]"
     ]
    },
    {
     "name": "stdout",
     "output_type": "stream",
     "text": [
      "0.001407279\n",
      "0.0046703927\n",
      "0.008127865\n",
      "0.0024049068\n",
      "0.0020021633\n",
      "0.0017370081\n",
      "0.0023018934\n",
      "0.00083319563\n",
      "0.001716938\n",
      "0.0009909245\n",
      "0.0021476224\n",
      "0.001323207\n",
      "0.0016290401\n",
      "0.0016340148\n",
      "0.0022237888\n",
      "0.0007374248\n",
      "0.0026030778\n",
      "0.0014044979\n"
     ]
    },
    {
     "name": "stderr",
     "output_type": "stream",
     "text": [
      " 22%|██▎       | 9/40 [05:14<16:38, 32.22s/it]"
     ]
    },
    {
     "name": "stdout",
     "output_type": "stream",
     "text": [
      "0.003713695\n",
      "0.0022299045\n",
      "0.0032278143\n",
      "0.0021590583\n",
      "0.0031449466\n",
      "0.0028304486\n",
      "0.008958213\n",
      "0.008886432\n",
      "0.007199369\n",
      "0.00480154\n",
      "0.0033472956\n",
      "0.002453162\n",
      "0.003315069\n",
      "0.0043474194\n"
     ]
    },
    {
     "name": "stderr",
     "output_type": "stream",
     "text": [
      " 25%|██▌       | 10/40 [05:28<13:21, 26.72s/it]"
     ]
    },
    {
     "name": "stdout",
     "output_type": "stream",
     "text": [
      "1.6010395e-05\n",
      "2.5120599e-08\n",
      "2.7502289e-05\n",
      "3.4636538e-05\n",
      "0.0001351822\n",
      "3.0160485e-05\n",
      "6.916915e-06\n",
      "3.478309e-06\n",
      "4.561914e-05\n",
      "8.751633e-06\n",
      "1.2389528e-07\n",
      "3.9825307e-05\n"
     ]
    },
    {
     "name": "stderr",
     "output_type": "stream",
     "text": [
      " 28%|██▊       | 11/40 [05:41<10:46, 22.28s/it]"
     ]
    },
    {
     "name": "stdout",
     "output_type": "stream",
     "text": [
      "3.7089187e-05\n",
      "8.768118e-05\n",
      "1.7906363e-05\n",
      "1.6036982e-05\n",
      "4.1217696e-05\n",
      "7.330848e-06\n",
      "5.6233243e-06\n",
      "1.4643028e-05\n",
      "1.8284194e-05\n",
      "7.354672e-06\n",
      "8.009825e-06\n",
      "5.1959036e-05\n",
      "4.51978e-08\n",
      "3.787627e-06\n",
      "6.316142e-06\n",
      "7.5432013e-06\n",
      "1.258074e-05\n",
      "6.093545e-08\n",
      "1.7000315e-06\n",
      "7.017759e-06\n",
      "4.8013142e-05\n",
      "5.1062823e-05\n",
      "1.1025476e-07\n",
      "2.5118896e-05\n",
      "4.0267263e-05\n",
      "2.5290907e-05\n",
      "2.4833256e-05\n",
      "8.281427e-05\n"
     ]
    },
    {
     "name": "stderr",
     "output_type": "stream",
     "text": [
      " 30%|███       | 12/40 [06:11<11:33, 24.78s/it]"
     ]
    },
    {
     "name": "stdout",
     "output_type": "stream",
     "text": [
      "0.0037595534\n",
      "0.009735279\n",
      "0.019076418\n",
      "0.02241648\n",
      "0.016444365\n",
      "0.0064594774\n",
      "0.010482111\n",
      "0.013661559\n",
      "0.008066387\n",
      "0.011980042\n",
      "0.011188787\n",
      "0.01439604\n",
      "0.0053591635\n",
      "0.0076013682\n",
      "0.006235841\n",
      "0.0060128886\n",
      "0.0063045733\n",
      "0.020325461\n",
      "0.010515971\n",
      "0.014750315\n",
      "0.00912091\n",
      "0.005251275\n",
      "0.012616734\n"
     ]
    },
    {
     "name": "stderr",
     "output_type": "stream",
     "text": [
      " 32%|███▎      | 13/40 [06:34<10:57, 24.35s/it]"
     ]
    },
    {
     "name": "stdout",
     "output_type": "stream",
     "text": [
      "0.0034169124\n",
      "0.005390051\n",
      "0.006546989\n",
      "0.002709018\n",
      "0.0035392684\n",
      "0.0020290245\n",
      "0.0033369642\n",
      "0.005827796\n",
      "0.004090075\n",
      "0.008628298\n",
      "0.004014356\n",
      "0.0026968494\n",
      "0.010212924\n",
      "0.0033243583\n",
      "0.0047424757\n",
      "0.011622186\n"
     ]
    },
    {
     "name": "stderr",
     "output_type": "stream",
     "text": [
      " 35%|███▌      | 14/40 [06:53<09:47, 22.58s/it]"
     ]
    },
    {
     "name": "stdout",
     "output_type": "stream",
     "text": [
      "0.0023685126\n",
      "0.0046357284\n",
      "0.0021174615\n",
      "0.002267479\n",
      "0.0031102921\n",
      "0.0021098785\n",
      "0.004496345\n",
      "0.0034459967\n",
      "0.0029680585\n",
      "0.0017586633\n",
      "0.0022891562\n",
      "0.001794123\n",
      "0.002492361\n",
      "0.0025369388\n",
      "0.0013633956\n",
      "0.0020386684\n",
      "0.002393481\n",
      "0.00105587\n",
      "0.0009710093\n",
      "0.0007041575\n",
      "0.001611275\n",
      "0.0015826509\n",
      "0.0016375858\n",
      "0.0010194392\n",
      "0.0018443967\n",
      "0.0007351698\n",
      "0.0009280384\n",
      "0.0036801267\n",
      "0.002975866\n",
      "0.0063624014\n"
     ]
    },
    {
     "name": "stderr",
     "output_type": "stream",
     "text": [
      " 38%|███▊      | 15/40 [07:23<10:22, 24.89s/it]"
     ]
    },
    {
     "name": "stdout",
     "output_type": "stream",
     "text": [
      "0.004814131\n",
      "0.012593713\n",
      "0.0051835137\n",
      "0.0047380435\n",
      "0.006547726\n",
      "0.0027358271\n",
      "0.0011917339\n",
      "0.0016813311\n",
      "0.00094119034\n",
      "0.001977174\n",
      "0.002410944\n",
      "0.0028342917\n",
      "0.00092876324\n",
      "0.0028720535\n",
      "0.0009866137\n",
      "0.0016704054\n",
      "0.0022188264\n",
      "0.002424635\n",
      "0.0047217356\n",
      "0.0009472911\n",
      "0.0030146805\n",
      "0.00082972145\n",
      "0.002013002\n",
      "0.002120175\n",
      "0.0020300427\n",
      "0.0013695536\n",
      "0.0032589396\n",
      "0.0011394667\n",
      "0.0036368112\n",
      "0.0009082216\n",
      "0.0013294604\n",
      "0.0019499364\n",
      "0.002527713\n",
      "0.0026590487\n",
      "0.0018187998\n",
      "0.0022954945\n",
      "0.0028924742\n",
      "0.0028180217\n",
      "0.0015227952\n",
      "0.0028603494\n"
     ]
    },
    {
     "name": "stderr",
     "output_type": "stream",
     "text": [
      " 40%|████      | 16/40 [08:06<12:07, 30.29s/it]"
     ]
    },
    {
     "name": "stdout",
     "output_type": "stream",
     "text": [
      "0.0005190447\n",
      "0.00040366373\n",
      "0.0017598941\n",
      "0.0013476601\n",
      "0.0019282068\n",
      "0.001376833\n",
      "0.0008436393\n",
      "0.0021023043\n",
      "0.0014043297\n",
      "0.0006692322\n",
      "0.0014915913\n",
      "0.00065216474\n",
      "0.0005061639\n",
      "0.0007812443\n",
      "0.0009753407\n",
      "0.0008302033\n",
      "0.0018283093\n",
      "0.003362857\n",
      "0.0014239013\n",
      "0.0008132638\n",
      "0.0006448509\n",
      "0.00074378663\n",
      "0.00077248213\n",
      "0.0022468534\n",
      "0.00088380097\n",
      "0.0008043076\n",
      "0.0009994245\n",
      "0.0016015276\n",
      "0.0015683599\n",
      "0.0009469604\n",
      "0.0013548089\n",
      "0.00051975274\n",
      "0.00074402284\n",
      "0.00093618594\n",
      "0.00093833084\n",
      "0.0012178393\n",
      "0.00060282834\n",
      "0.00058486196\n",
      "0.0006875588\n",
      "0.0014792931\n",
      "0.0014397397\n",
      "0.0013144055\n"
     ]
    },
    {
     "name": "stderr",
     "output_type": "stream",
     "text": [
      " 42%|████▎     | 17/40 [08:49<13:05, 34.15s/it]"
     ]
    },
    {
     "name": "stdout",
     "output_type": "stream",
     "text": [
      "0.0005335276\n",
      "0.00088694895\n",
      "0.0008727013\n",
      "0.0007621034\n",
      "0.00044070472\n",
      "0.00094842183\n",
      "0.0008555289\n",
      "0.0023049966\n",
      "0.0007092395\n",
      "0.00071077625\n",
      "0.0017273717\n",
      "0.0008066\n",
      "0.0007137562\n",
      "0.00061398535\n",
      "0.0011436392\n",
      "0.001288632\n",
      "0.00076294155\n",
      "0.0005448509\n",
      "0.0009261257\n",
      "0.000682256\n"
     ]
    },
    {
     "name": "stderr",
     "output_type": "stream",
     "text": [
      " 45%|████▌     | 18/40 [09:12<11:16, 30.73s/it]"
     ]
    },
    {
     "name": "stdout",
     "output_type": "stream",
     "text": [
      "0.00028653417\n",
      "0.0010235041\n",
      "0.0005646891\n",
      "0.0003585588\n",
      "0.00010581458\n",
      "0.00013270522\n",
      "0.00031213037\n",
      "0.00011487088\n",
      "0.0005626445\n",
      "0.00018287996\n",
      "0.00034890304\n",
      "0.0003902392\n",
      "0.00019361028\n",
      "0.00027403852\n",
      "0.0004369266\n",
      "0.00045665406\n",
      "0.00032543138\n",
      "0.000118263146\n"
     ]
    },
    {
     "name": "stderr",
     "output_type": "stream",
     "text": [
      " 48%|████▊     | 19/40 [09:31<09:29, 27.10s/it]"
     ]
    },
    {
     "name": "stdout",
     "output_type": "stream",
     "text": [
      "0.004780302\n",
      "0.0040422794\n",
      "0.009923478\n",
      "0.0067648008\n",
      "0.0024516175\n",
      "0.008920137\n",
      "0.0023156742\n",
      "0.0069107977\n",
      "0.002520683\n",
      "0.0039423304\n",
      "0.0055128043\n",
      "0.0031687529\n",
      "0.0026979856\n",
      "0.0041227723\n",
      "0.00301434\n",
      "0.0049024564\n",
      "0.0029509638\n",
      "0.003963328\n",
      "0.0070568607\n",
      "0.0035427813\n",
      "0.0025866954\n",
      "0.0026064077\n",
      "0.002281434\n",
      "0.004207444\n",
      "0.0035629682\n",
      "0.0020393287\n",
      "0.0051079076\n",
      "0.0045475382\n",
      "0.0033897096\n",
      "0.0038324357\n",
      "0.0016126588\n",
      "0.0014105439\n",
      "0.0030893066\n",
      "0.0027952052\n",
      "0.0038930182\n",
      "0.005227673\n",
      "0.003513668\n",
      "0.0037449605\n",
      "0.0034718\n",
      "0.0026143526\n",
      "0.0039032125\n",
      "0.0014691636\n",
      "0.0032351885\n",
      "0.0025238798\n",
      "0.004676762\n",
      "0.004183704\n"
     ]
    },
    {
     "name": "stderr",
     "output_type": "stream",
     "text": [
      " 50%|█████     | 20/40 [10:20<11:19, 33.95s/it]"
     ]
    },
    {
     "name": "stdout",
     "output_type": "stream",
     "text": [
      "0.0005190447\n",
      "0.00040366373\n",
      "0.0017598941\n",
      "0.0013476601\n",
      "0.0019282068\n",
      "0.001376833\n",
      "0.0008436393\n",
      "0.0021023043\n",
      "0.0014043297\n",
      "0.0006692322\n",
      "0.0014915913\n",
      "0.00065216474\n",
      "0.0005061639\n",
      "0.0007812443\n",
      "0.0009753407\n",
      "0.0008302033\n",
      "0.0018283093\n",
      "0.003362857\n",
      "0.0014239013\n",
      "0.0008132638\n",
      "0.0006448509\n",
      "0.00074378663\n",
      "0.00077248213\n",
      "0.0022468534\n",
      "0.00088380097\n",
      "0.0008043076\n",
      "0.0009994245\n",
      "0.0016015276\n",
      "0.0015683599\n",
      "0.0009469604\n",
      "0.0013548089\n",
      "0.00051975274\n",
      "0.00074402284\n",
      "0.00093618594\n",
      "0.00093833084\n",
      "0.0012178393\n",
      "0.00060282834\n",
      "0.00058486196\n",
      "0.0006875588\n",
      "0.0014792931\n",
      "0.0014397397\n",
      "0.0013144055\n"
     ]
    },
    {
     "name": "stderr",
     "output_type": "stream",
     "text": [
      " 52%|█████▎    | 21/40 [11:05<11:43, 37.05s/it]"
     ]
    },
    {
     "name": "stdout",
     "output_type": "stream",
     "text": [
      "0.0011299865\n",
      "0.003495297\n",
      "0.004243646\n",
      "0.0035218573\n",
      "0.0016708546\n",
      "0.0028563277\n",
      "0.0053485353\n",
      "0.0019079017\n",
      "0.001512103\n",
      "0.0011988414\n",
      "0.0047600847\n",
      "0.0010018654\n",
      "0.0016789905\n",
      "0.001889506\n",
      "0.0016851162\n",
      "0.0016097421\n",
      "0.0021682084\n"
     ]
    },
    {
     "name": "stderr",
     "output_type": "stream",
     "text": [
      " 55%|█████▌    | 22/40 [11:25<09:36, 32.02s/it]"
     ]
    },
    {
     "name": "stdout",
     "output_type": "stream",
     "text": [
      "0.0008122243\n",
      "0.0015478709\n",
      "0.0016064588\n",
      "0.0011962171\n",
      "0.0037780218\n",
      "0.00074929465\n",
      "0.0006632635\n",
      "0.001723087\n",
      "0.0014109927\n",
      "0.0009805787\n",
      "0.00164624\n",
      "0.0013087052\n",
      "0.0007741009\n",
      "0.001223512\n",
      "0.0009572639\n",
      "0.0007801874\n",
      "0.0008621575\n",
      "0.0016172958\n",
      "0.001089522\n",
      "0.000740777\n",
      "0.0008038185\n",
      "0.00075200875\n",
      "0.0006344258\n",
      "0.0014013194\n",
      "0.0011338517\n",
      "0.00095557264\n",
      "0.0006315566\n",
      "0.00058983837\n",
      "0.00076529087\n",
      "0.0006747433\n",
      "0.00033956234\n",
      "0.0005318471\n",
      "0.0007265873\n",
      "0.0009752231\n",
      "0.0011206976\n",
      "0.0009307621\n",
      "0.00074505527\n",
      "0.0016800809\n",
      "0.000777699\n",
      "0.0011486606\n",
      "0.0009670499\n",
      "0.0023495546\n"
     ]
    },
    {
     "name": "stderr",
     "output_type": "stream",
     "text": [
      " 57%|█████▊    | 23/40 [12:11<10:12, 36.06s/it]"
     ]
    },
    {
     "name": "stdout",
     "output_type": "stream",
     "text": [
      "0.00037584497\n",
      "0.001104339\n",
      "0.0009467137\n",
      "0.0010565156\n",
      "0.0009205773\n",
      "0.0008863695\n",
      "0.0009626634\n",
      "0.0032321739\n",
      "0.0023700816\n",
      "0.0011947798\n",
      "0.0007481367\n",
      "0.00036338854\n",
      "0.0004985399\n",
      "0.00070852094\n",
      "0.00038741788\n",
      "0.0017818573\n",
      "0.001032214\n",
      "0.00086586486\n",
      "0.0007379235\n",
      "0.0004882281\n"
     ]
    },
    {
     "name": "stderr",
     "output_type": "stream",
     "text": [
      " 60%|██████    | 24/40 [12:34<08:37, 32.36s/it]"
     ]
    },
    {
     "name": "stdout",
     "output_type": "stream",
     "text": [
      "2.9550209e-05\n",
      "0.0011476148\n",
      "0.0019210125\n",
      "0.00047203613\n",
      "0.00069471996\n",
      "0.0017823722\n",
      "0.00055368047\n",
      "0.00038616333\n",
      "0.00033527563\n",
      "0.00023393548\n",
      "0.00029133572\n",
      "0.0005261388\n",
      "0.00014051469\n",
      "0.00029707912\n",
      "0.00069357327\n",
      "0.00043283863\n",
      "0.00047184675\n",
      "0.0007525389\n",
      "0.00022821236\n",
      "0.00023578411\n",
      "0.000589994\n"
     ]
    },
    {
     "name": "stderr",
     "output_type": "stream",
     "text": [
      " 62%|██████▎   | 25/40 [12:56<07:16, 29.09s/it]"
     ]
    },
    {
     "name": "stdout",
     "output_type": "stream",
     "text": [
      "0.0009382964\n",
      "0.0010502632\n",
      "0.0007652187\n",
      "0.0016284963\n",
      "0.0013326767\n",
      "0.00089817063\n",
      "0.0008562462\n",
      "0.001257061\n",
      "0.0010277868\n",
      "0.001306073\n",
      "0.0009626533\n",
      "0.00049991\n",
      "0.0010298142\n",
      "0.00043775927\n",
      "0.0018358692\n",
      "0.0011172638\n",
      "0.0003995085\n",
      "0.00095218286\n"
     ]
    },
    {
     "name": "stderr",
     "output_type": "stream",
     "text": [
      " 65%|██████▌   | 26/40 [13:14<06:02, 25.87s/it]"
     ]
    },
    {
     "name": "stdout",
     "output_type": "stream",
     "text": [
      "0.00088554074\n",
      "0.0007393556\n",
      "0.00092927995\n",
      "0.00083285087\n",
      "0.0005310663\n",
      "0.00067478116\n",
      "0.00032711244\n",
      "0.00053763523\n",
      "0.0009159846\n",
      "0.00040099432\n",
      "0.0011627757\n",
      "0.0012374689\n",
      "0.0007215273\n",
      "0.0010293743\n",
      "0.0005590645\n",
      "0.0009061549\n",
      "0.00086000917\n",
      "0.00042775838\n",
      "0.0005665742\n",
      "0.0007005808\n",
      "0.0005866667\n",
      "0.0007938615\n",
      "0.00048055185\n",
      "0.00063439074\n",
      "0.00052636175\n",
      "0.00040456554\n",
      "0.0005530116\n",
      "0.0007556983\n",
      "0.00022429704\n",
      "0.0004752334\n",
      "0.00048332984\n",
      "0.0005262726\n",
      "0.00028340696\n",
      "0.00077055313\n",
      "0.00057458394\n"
     ]
    },
    {
     "name": "stderr",
     "output_type": "stream",
     "text": [
      " 68%|██████▊   | 27/40 [13:53<06:26, 29.76s/it]"
     ]
    },
    {
     "name": "stdout",
     "output_type": "stream",
     "text": [
      "0.0005190447\n",
      "0.00040366373\n",
      "0.0017598941\n",
      "0.0013476601\n",
      "0.0019282068\n",
      "0.001376833\n",
      "0.0008436393\n",
      "0.0021023043\n",
      "0.0014043297\n",
      "0.0006692322\n",
      "0.0014915913\n",
      "0.00065216474\n",
      "0.0005061639\n",
      "0.0007812443\n",
      "0.0009753407\n",
      "0.0008302033\n",
      "0.0018283093\n",
      "0.003362857\n",
      "0.0014239013\n",
      "0.0008132638\n",
      "0.0006448509\n",
      "0.00074378663\n",
      "0.00077248213\n",
      "0.0022468534\n",
      "0.00088380097\n",
      "0.0008043076\n",
      "0.0009994245\n",
      "0.0016015276\n",
      "0.0015683599\n",
      "0.0009469604\n",
      "0.0013548089\n",
      "0.00051975274\n",
      "0.00074402284\n",
      "0.00093618594\n",
      "0.00093833084\n",
      "0.0012178393\n",
      "0.00060282834\n",
      "0.00058486196\n",
      "0.0006875588\n",
      "0.0014792931\n",
      "0.0014397397\n",
      "0.0013144055\n"
     ]
    },
    {
     "name": "stderr",
     "output_type": "stream",
     "text": [
      " 70%|███████   | 28/40 [14:41<07:03, 35.32s/it]"
     ]
    },
    {
     "name": "stdout",
     "output_type": "stream",
     "text": [
      "0.004704032\n",
      "0.0064317854\n",
      "0.002390159\n",
      "0.0023104677\n",
      "0.0014766037\n",
      "0.0012723714\n",
      "0.0040381076\n",
      "0.007606611\n",
      "0.0009814985\n",
      "0.0020445387\n",
      "0.002119217\n",
      "0.003367427\n",
      "0.0020533786\n",
      "0.0036821128\n",
      "0.0025653094\n",
      "0.0014504744\n",
      "0.00240433\n",
      "0.0026245588\n",
      "0.0012968251\n",
      "0.00088321517\n",
      "0.0040161894\n",
      "0.0014399108\n",
      "0.0014206109\n",
      "0.0011905944\n",
      "0.0017522196\n",
      "0.0024261684\n",
      "0.0033997826\n",
      "0.0012016933\n",
      "0.004248977\n",
      "0.0016954063\n",
      "0.0009273093\n",
      "0.0024632132\n",
      "0.0024785965\n",
      "0.001763266\n",
      "0.0023097557\n",
      "0.0024602716\n",
      "0.0008726004\n",
      "0.00093208393\n",
      "0.0034745426\n",
      "0.0008503229\n",
      "0.0012602217\n",
      "0.0022530984\n",
      "0.0019109237\n",
      "0.004083216\n"
     ]
    },
    {
     "name": "stderr",
     "output_type": "stream",
     "text": [
      " 72%|███████▎  | 29/40 [15:29<07:11, 39.19s/it]"
     ]
    },
    {
     "name": "stdout",
     "output_type": "stream",
     "text": [
      "0.00047903965\n",
      "0.0012664425\n",
      "0.00057721237\n",
      "0.0004707273\n",
      "0.00045889293\n",
      "0.0008069481\n",
      "0.00018707143\n",
      "0.0002782293\n",
      "0.0002897917\n",
      "0.00031300902\n",
      "0.0010753599\n",
      "0.00049579144\n",
      "0.00029700273\n",
      "0.0007572388\n",
      "0.00031165834\n",
      "0.00042410687\n",
      "0.00073841587\n",
      "0.00024915987\n",
      "0.0002225593\n",
      "0.0002970477\n",
      "0.00046494883\n"
     ]
    },
    {
     "name": "stderr",
     "output_type": "stream",
     "text": [
      " 75%|███████▌  | 30/40 [15:54<05:48, 34.85s/it]"
     ]
    },
    {
     "name": "stdout",
     "output_type": "stream",
     "text": [
      "0.00021041944\n",
      "0.00012045873\n",
      "1.7643475e-05\n",
      "8.571968e-05\n",
      "5.1250913e-06\n",
      "0.0001453064\n",
      "3.3424443e-05\n",
      "2.4473198e-05\n",
      "1.3373787e-05\n",
      "3.7618993e-06\n",
      "6.261246e-05\n",
      "3.4914086e-05\n",
      "2.7775553e-05\n",
      "5.1304945e-05\n",
      "6.6029706e-06\n",
      "2.824264e-05\n",
      "2.1325832e-05\n",
      "1.123276e-05\n",
      "1.863945e-05\n",
      "1.4731861e-05\n"
     ]
    },
    {
     "name": "stderr",
     "output_type": "stream",
     "text": [
      " 78%|███████▊  | 31/40 [16:15<04:37, 30.79s/it]"
     ]
    },
    {
     "name": "stdout",
     "output_type": "stream",
     "text": [
      "0.00041615858\n",
      "0.0012975282\n",
      "0.0014646536\n",
      "0.0023289332\n",
      "0.0012624378\n",
      "0.00143853\n",
      "0.00071319536\n",
      "0.0016289575\n",
      "0.0012609366\n",
      "0.00074941\n",
      "0.00066250755\n",
      "0.00091523275\n",
      "0.0008651673\n",
      "0.0006823316\n",
      "0.00065418705\n",
      "0.0012052516\n",
      "0.0006453788\n",
      "0.00081685255\n",
      "0.0017039552\n",
      "0.0007783871\n"
     ]
    },
    {
     "name": "stderr",
     "output_type": "stream",
     "text": [
      " 80%|████████  | 32/40 [16:37<03:43, 27.99s/it]"
     ]
    },
    {
     "name": "stdout",
     "output_type": "stream",
     "text": [
      "0.00019203068\n",
      "4.8992988e-05\n",
      "4.5444467e-05\n",
      "2.3836095e-05\n",
      "8.8929355e-06\n",
      "1.4022416e-05\n",
      "5.4920783e-06\n",
      "1.5161309e-05\n",
      "2.8933799e-05\n",
      "3.6124657e-05\n",
      "1.5892561e-10\n",
      "5.8893743e-06\n",
      "5.0347445e-11\n",
      "5.7262623e-05\n",
      "3.637467e-06\n",
      "5.6403933e-06\n",
      "9.337474e-06\n",
      "1.5557632e-06\n",
      "4.2899483e-06\n",
      "2.6901298e-05\n",
      "6.42853e-06\n",
      "4.2912838e-05\n",
      "1.3682552e-05\n"
     ]
    },
    {
     "name": "stderr",
     "output_type": "stream",
     "text": [
      " 82%|████████▎ | 33/40 [17:04<03:13, 27.67s/it]"
     ]
    },
    {
     "name": "stdout",
     "output_type": "stream",
     "text": [
      "0.0010326884\n",
      "0.002500354\n",
      "0.0008682029\n",
      "0.00082159246\n",
      "0.00244724\n",
      "0.0011323136\n",
      "0.0020136589\n",
      "0.0021060142\n",
      "0.0016668305\n",
      "0.0016957588\n",
      "0.0011546047\n",
      "0.0038460006\n",
      "0.002635262\n",
      "0.002986845\n",
      "0.001680081\n",
      "0.0007154604\n",
      "0.00096445327\n",
      "0.0009734419\n",
      "0.0006565988\n",
      "0.00069845177\n",
      "0.0007609059\n",
      "0.0009852917\n",
      "0.0018665383\n"
     ]
    },
    {
     "name": "stderr",
     "output_type": "stream",
     "text": [
      " 85%|████████▌ | 34/40 [17:28<02:39, 26.61s/it]"
     ]
    },
    {
     "name": "stdout",
     "output_type": "stream",
     "text": [
      "0.0005190447\n",
      "0.00040366373\n",
      "0.0017598941\n",
      "0.0013476601\n",
      "0.0019282068\n",
      "0.001376833\n",
      "0.0008436393\n",
      "0.0021023043\n",
      "0.0014043297\n",
      "0.0006692322\n",
      "0.0014915913\n",
      "0.00065216474\n",
      "0.0005061639\n",
      "0.0007812443\n",
      "0.0009753407\n",
      "0.0008302033\n",
      "0.0018283093\n",
      "0.003362857\n",
      "0.0014239013\n",
      "0.0008132638\n",
      "0.0006448509\n",
      "0.00074378663\n",
      "0.00077248213\n",
      "0.0022468534\n",
      "0.00088380097\n",
      "0.0008043076\n",
      "0.0009994245\n",
      "0.0016015276\n",
      "0.0015683599\n",
      "0.0009469604\n",
      "0.0013548089\n",
      "0.00051975274\n",
      "0.00074402284\n",
      "0.00093618594\n",
      "0.00093833084\n",
      "0.0012178393\n",
      "0.00060282834\n",
      "0.00058486196\n",
      "0.0006875588\n",
      "0.0014792931\n",
      "0.0014397397\n",
      "0.0013144055\n"
     ]
    },
    {
     "name": "stderr",
     "output_type": "stream",
     "text": [
      " 88%|████████▊ | 35/40 [18:14<02:42, 32.44s/it]"
     ]
    },
    {
     "name": "stdout",
     "output_type": "stream",
     "text": [
      "0.0016609455\n",
      "0.00092785875\n",
      "0.0009374019\n",
      "0.00095646706\n",
      "0.000562513\n",
      "0.00094694167\n",
      "0.0016384219\n",
      "0.00086839753\n",
      "0.0014095233\n",
      "0.0007693099\n",
      "0.0007105226\n",
      "0.0005975731\n",
      "0.0005947464\n",
      "0.00094921817\n",
      "0.0006678497\n"
     ]
    },
    {
     "name": "stderr",
     "output_type": "stream",
     "text": [
      " 90%|█████████ | 36/40 [18:30<01:49, 27.47s/it]"
     ]
    },
    {
     "name": "stdout",
     "output_type": "stream",
     "text": [
      "0.0029740538\n",
      "0.0074575045\n",
      "0.00432459\n",
      "0.00376245\n",
      "0.0052818297\n",
      "0.0033836795\n",
      "0.0036571242\n",
      "0.0046612807\n",
      "0.0026028403\n",
      "0.0029853475\n",
      "0.002933907\n",
      "0.0039752754\n",
      "0.0044190288\n",
      "0.0027803467\n"
     ]
    },
    {
     "name": "stderr",
     "output_type": "stream",
     "text": [
      " 92%|█████████▎| 37/40 [18:45<01:10, 23.62s/it]"
     ]
    },
    {
     "name": "stdout",
     "output_type": "stream",
     "text": [
      "0.0030964375\n",
      "0.001800762\n",
      "0.0017847612\n",
      "0.00285346\n",
      "0.0024025682\n",
      "0.0021334898\n",
      "0.0023570356\n",
      "0.0009306561\n",
      "0.0022405956\n",
      "0.0012004782\n",
      "0.0013822325\n",
      "0.001437471\n",
      "0.00081068854\n",
      "0.0009325285\n",
      "0.0023024275\n",
      "0.0013323352\n",
      "0.0010545913\n",
      "0.0025867403\n",
      "0.0024006928\n",
      "0.0015203429\n",
      "0.0018910597\n",
      "0.0009455152\n",
      "0.0014907268\n",
      "0.0018400645\n"
     ]
    },
    {
     "name": "stderr",
     "output_type": "stream",
     "text": [
      " 95%|█████████▌| 38/40 [19:11<00:49, 24.53s/it]"
     ]
    },
    {
     "name": "stdout",
     "output_type": "stream",
     "text": [
      "0.0017383157\n",
      "0.002929154\n",
      "0.00397519\n",
      "0.006225733\n",
      "0.0034048837\n",
      "0.002646595\n",
      "0.00097216415\n",
      "0.0013226751\n",
      "0.0016883528\n",
      "0.0010574404\n",
      "0.0014212574\n",
      "0.0013238457\n",
      "0.004029896\n",
      "0.0015838525\n",
      "0.0014378498\n",
      "0.0010525576\n",
      "0.0014645279\n",
      "0.0011009127\n",
      "0.0017136681\n",
      "0.0018896821\n"
     ]
    },
    {
     "name": "stderr",
     "output_type": "stream",
     "text": [
      " 98%|█████████▊| 39/40 [19:32<00:23, 23.42s/it]"
     ]
    },
    {
     "name": "stdout",
     "output_type": "stream",
     "text": [
      "0.0022693689\n",
      "0.005480121\n",
      "0.005888589\n",
      "0.0060450104\n",
      "0.002829523\n",
      "0.0031897335\n",
      "0.0031355738\n",
      "0.0032258956\n",
      "0.0013690866\n",
      "0.0027776216\n",
      "0.0019139821\n",
      "0.0068035116\n",
      "0.0015884367\n",
      "0.001453094\n",
      "0.0015537173\n",
      "0.0019108324\n",
      "0.0013677309\n",
      "0.0015605437\n",
      "0.001576868\n",
      "0.0042758817\n",
      "0.0012468349\n",
      "0.0015337894\n",
      "0.0015925915\n",
      "0.0015068416\n",
      "0.0009390761\n",
      "0.0020343577\n",
      "0.0027264836\n",
      "0.0033403803\n",
      "0.0013342609\n",
      "0.00095736666\n",
      "0.002194906\n"
     ]
    },
    {
     "name": "stderr",
     "output_type": "stream",
     "text": [
      "100%|██████████| 40/40 [20:04<00:00, 30.11s/it]\n",
      "  0%|          | 0/40 [00:00<?, ?it/s]"
     ]
    },
    {
     "name": "stdout",
     "output_type": "stream",
     "text": [
      "0.0015142185\n",
      "0.003622528\n",
      "0.0034602962\n",
      "0.0014709828\n",
      "0.0027792966\n",
      "0.001577229\n",
      "0.0016566192\n",
      "0.0015557363\n",
      "0.0015483673\n",
      "0.0016326479\n",
      "0.0023059861\n",
      "0.0012993404\n",
      "0.0018615483\n",
      "0.0012998579\n",
      "0.0017325621\n",
      "0.0014518062\n",
      "0.0013390298\n",
      "0.0012068219\n",
      "0.00094013184\n",
      "0.0016808973\n",
      "0.0010522202\n",
      "0.0013631193\n",
      "0.001120889\n",
      "0.0009861819\n",
      "0.0011068666\n",
      "0.001929132\n",
      "0.000997339\n",
      "0.0008474779\n",
      "0.0012350397\n",
      "0.0008671958\n",
      "0.001519251\n",
      "0.0011932537\n",
      "0.0007137762\n",
      "0.0007863459\n",
      "0.0012915982\n",
      "0.0018668716\n",
      "0.00075833645\n",
      "0.00086266926\n",
      "0.0010889356\n",
      "0.00085230696\n"
     ]
    },
    {
     "name": "stderr",
     "output_type": "stream",
     "text": [
      "  2%|▎         | 1/40 [00:43<28:26, 43.75s/it]"
     ]
    },
    {
     "name": "stdout",
     "output_type": "stream",
     "text": [
      "0.0025503216\n",
      "0.0005848109\n",
      "0.00015934053\n",
      "0.00019138053\n",
      "0.00019028544\n",
      "0.00029648392\n",
      "3.6414185e-05\n",
      "3.5940095e-05\n",
      "1.09238545e-05\n",
      "3.6467307e-05\n",
      "3.1175197e-05\n",
      "6.29976e-07\n",
      "1.0476315e-05\n",
      "2.564383e-05\n",
      "9.397266e-09\n",
      "1.1222124e-05\n",
      "3.728039e-09\n",
      "6.188286e-06\n",
      "3.0345802e-05\n",
      "5.073583e-06\n",
      "2.8796929e-05\n",
      "2.2449625e-05\n",
      "2.4504558e-05\n",
      "5.1449068e-05\n",
      "1.8513181e-05\n",
      "3.0495361e-05\n",
      "1.334912e-05\n"
     ]
    },
    {
     "name": "stderr",
     "output_type": "stream",
     "text": [
      "  5%|▌         | 2/40 [01:13<22:39, 35.77s/it]"
     ]
    },
    {
     "name": "stdout",
     "output_type": "stream",
     "text": [
      "0.007577449\n",
      "0.01202926\n",
      "0.012339801\n",
      "0.0123058595\n",
      "0.009485465\n",
      "0.0059468374\n",
      "0.009187236\n",
      "0.0058940616\n",
      "0.011417588\n",
      "0.006883706\n",
      "0.0051871887\n",
      "0.0027940448\n",
      "0.0023657044\n",
      "0.007670362\n",
      "0.004472996\n",
      "0.0025332228\n",
      "0.0038310606\n",
      "0.0021910223\n",
      "0.0024975499\n",
      "0.003029966\n",
      "0.0024387196\n",
      "0.0020746826\n",
      "0.0020492512\n",
      "0.0009201064\n",
      "0.0012877285\n",
      "0.0067586955\n",
      "0.0035573186\n"
     ]
    },
    {
     "name": "stderr",
     "output_type": "stream",
     "text": [
      "  8%|▊         | 3/40 [01:42<19:53, 32.27s/it]"
     ]
    },
    {
     "name": "stdout",
     "output_type": "stream",
     "text": [
      "0.0005190447\n",
      "0.0005042456\n",
      "0.0022792174\n",
      "0.00082542514\n",
      "0.00037041685\n",
      "0.00086628005\n",
      "0.0010147667\n",
      "0.0008074071\n",
      "0.000757565\n",
      "0.0010558148\n",
      "0.0008879038\n",
      "0.00088088016\n",
      "0.0016517238\n",
      "0.0019004762\n",
      "0.0005851447\n",
      "0.0003945905\n",
      "0.0009588375\n",
      "0.00051538605\n",
      "0.0006301892\n",
      "0.00034696178\n",
      "0.00032091746\n",
      "0.0007821002\n",
      "0.0004881631\n",
      "0.0002857325\n",
      "0.0002883413\n",
      "0.00065947085\n",
      "0.000591633\n",
      "0.00044513232\n",
      "0.0003788813\n",
      "0.00035058826\n",
      "0.00044984164\n"
     ]
    },
    {
     "name": "stderr",
     "output_type": "stream",
     "text": [
      " 10%|█         | 4/40 [02:14<19:17, 32.16s/it]"
     ]
    },
    {
     "name": "stdout",
     "output_type": "stream",
     "text": [
      "0.00045001248\n",
      "0.0014676203\n",
      "0.0011859594\n",
      "0.001672953\n",
      "0.0015553867\n",
      "0.000936241\n",
      "0.0010620051\n",
      "0.0010329941\n",
      "0.0016560798\n",
      "0.00045831507\n",
      "0.0005933398\n",
      "0.0008177084\n",
      "0.0005384595\n",
      "0.0006311439\n",
      "0.0005707822\n",
      "0.00037900324\n",
      "0.0005862542\n",
      "0.00058589684\n",
      "0.0009739249\n",
      "0.0009227318\n",
      "0.0005755654\n",
      "0.00047588203\n",
      "0.0004625886\n",
      "0.0005381549\n",
      "0.00036040723\n",
      "0.0008418743\n"
     ]
    },
    {
     "name": "stderr",
     "output_type": "stream",
     "text": [
      " 12%|█▎        | 5/40 [02:42<18:03, 30.96s/it]"
     ]
    },
    {
     "name": "stdout",
     "output_type": "stream",
     "text": [
      "0.0053647575\n",
      "0.0040642605\n",
      "0.0028990356\n",
      "0.0036780674\n",
      "0.005851571\n",
      "0.0066564037\n",
      "0.005385263\n",
      "0.007418996\n",
      "0.004598642\n",
      "0.0040487507\n",
      "0.004736865\n"
     ]
    },
    {
     "name": "stderr",
     "output_type": "stream",
     "text": [
      " 15%|█▌        | 6/40 [02:54<13:47, 24.33s/it]"
     ]
    },
    {
     "name": "stdout",
     "output_type": "stream",
     "text": [
      "0.00038053378\n",
      "0.00040554875\n",
      "0.00017122451\n",
      "0.00010373381\n",
      "0.00011181504\n",
      "1.6465936e-05\n",
      "3.8886967e-05\n",
      "0.0003708354\n",
      "7.443257e-05\n",
      "7.010021e-06\n",
      "2.887002e-05\n",
      "3.817792e-05\n",
      "4.97324e-05\n",
      "8.854635e-06\n",
      "6.1876126e-05\n",
      "5.861633e-06\n",
      "7.311491e-06\n",
      "1.0165224e-05\n",
      "4.3440552e-05\n",
      "2.2425102e-05\n"
     ]
    },
    {
     "name": "stderr",
     "output_type": "stream",
     "text": [
      " 18%|█▊        | 7/40 [03:15<12:44, 23.18s/it]"
     ]
    },
    {
     "name": "stdout",
     "output_type": "stream",
     "text": [
      "0.0005190447\n",
      "0.0005042456\n",
      "0.0022792174\n",
      "0.00082542514\n",
      "0.00037041685\n",
      "0.00086628005\n",
      "0.0010147667\n",
      "0.0008074071\n",
      "0.000757565\n",
      "0.0010558148\n",
      "0.0008879038\n",
      "0.00088088016\n",
      "0.0016517238\n",
      "0.0019004762\n",
      "0.0005851447\n",
      "0.0003945905\n",
      "0.0009588375\n",
      "0.00051538605\n",
      "0.0006301892\n",
      "0.00034696178\n",
      "0.00032091746\n",
      "0.0007821002\n",
      "0.0004881631\n",
      "0.0002857325\n",
      "0.0002883413\n",
      "0.00065947085\n",
      "0.000591633\n",
      "0.00044513232\n",
      "0.0003788813\n",
      "0.00035058826\n",
      "0.00044984164\n"
     ]
    },
    {
     "name": "stderr",
     "output_type": "stream",
     "text": [
      " 20%|██        | 8/40 [03:48<14:08, 26.52s/it]"
     ]
    },
    {
     "name": "stdout",
     "output_type": "stream",
     "text": [
      "0.001407279\n",
      "0.0029921602\n",
      "0.0016735515\n",
      "0.0014010158\n",
      "0.0009295072\n",
      "0.0025422636\n",
      "0.00089857314\n",
      "0.00059938256\n",
      "0.00078741356\n",
      "0.0004939127\n",
      "0.0015813891\n",
      "0.00061166607\n",
      "0.00057758717\n",
      "0.0019064521\n",
      "0.0009968356\n",
      "0.00053548755\n",
      "0.00012950045\n",
      "0.00020500312\n",
      "0.00034504724\n",
      "0.00025419268\n",
      "0.00047248433\n",
      "0.00012400078\n",
      "6.573442e-05\n",
      "8.4956795e-05\n",
      "9.7961514e-05\n",
      "0.00020492129\n",
      "0.00016241198\n",
      "5.109482e-05\n",
      "6.7046705e-05\n",
      "1.8117737e-05\n",
      "1.6568983e-05\n",
      "0.00016226406\n",
      "5.5755205e-05\n",
      "3.4383207e-05\n",
      "7.425804e-05\n",
      "4.154226e-05\n",
      "8.971208e-05\n",
      "9.00814e-05\n",
      "8.613801e-05\n",
      "4.0564657e-05\n",
      "6.469026e-05\n"
     ]
    },
    {
     "name": "stderr",
     "output_type": "stream",
     "text": [
      " 22%|██▎       | 9/40 [04:31<16:23, 31.71s/it]"
     ]
    },
    {
     "name": "stdout",
     "output_type": "stream",
     "text": [
      "0.003713695\n",
      "0.0023454996\n",
      "0.009877285\n",
      "0.0029954407\n",
      "0.0013062129\n",
      "0.0009790864\n",
      "0.0017178813\n",
      "0.00067345577\n",
      "0.00070509466\n",
      "0.000970866\n",
      "0.00094072416\n",
      "0.00068877253\n",
      "0.0010326037\n",
      "0.0003040034\n",
      "0.000891819\n",
      "0.00042448117\n",
      "0.00036653932\n",
      "0.0012568597\n",
      "0.0012389173\n",
      "0.0004912981\n",
      "0.00056163355\n",
      "0.00052602007\n",
      "0.0007889059\n",
      "0.0014321274\n"
     ]
    },
    {
     "name": "stderr",
     "output_type": "stream",
     "text": [
      " 25%|██▌       | 10/40 [04:56<14:44, 29.47s/it]"
     ]
    },
    {
     "name": "stdout",
     "output_type": "stream",
     "text": [
      "1.6010395e-05\n",
      "7.7624757e-10\n",
      "2.587761e-05\n",
      "9.43647e-07\n",
      "2.059718e-06\n",
      "2.5225836e-06\n",
      "2.3432284e-07\n",
      "3.0165534e-08\n",
      "2.7507424e-06\n",
      "6.7797568e-09\n",
      "2.5824194e-08\n",
      "2.160325e-06\n",
      "1.3068614e-12\n",
      "7.678617e-06\n",
      "7.805113e-06\n",
      "1.2164444e-06\n",
      "5.490876e-07\n",
      "6.153798e-06\n",
      "4.684754e-09\n",
      "6.311857e-11\n",
      "1.3000132e-10\n",
      "3.4928004e-13\n",
      "1.6719804e-09\n",
      "4.0829699e-13\n",
      "9.447878e-10\n",
      "1.317609e-11\n",
      "3.5344816e-16\n",
      "1.6835547e-11\n",
      "2.1814573e-14\n",
      "3.266632e-13\n",
      "3.1482883e-10\n",
      "1.0901408e-15\n",
      "5.4626772e-11\n",
      "3.9406787e-06\n",
      "1.1989749e-13\n",
      "2.530128e-09\n",
      "3.201945e-11\n"
     ]
    },
    {
     "name": "stderr",
     "output_type": "stream",
     "text": [
      " 28%|██▊       | 11/40 [05:36<15:45, 32.60s/it]"
     ]
    },
    {
     "name": "stdout",
     "output_type": "stream",
     "text": [
      "3.7089187e-05\n",
      "1.1735498e-05\n",
      "3.476365e-05\n",
      "1.27847525e-05\n",
      "1.0972837e-05\n",
      "4.6009386e-06\n",
      "8.470082e-06\n",
      "1.1242009e-05\n",
      "1.967141e-05\n",
      "1.6884497e-06\n",
      "2.2560027e-05\n",
      "4.880915e-06\n",
      "1.9988002e-08\n",
      "1.5835196e-05\n",
      "3.946527e-05\n",
      "2.4331945e-05\n",
      "2.5808393e-07\n",
      "3.637747e-08\n",
      "3.2780135e-05\n",
      "6.8756446e-05\n",
      "6.3770385e-05\n",
      "3.6276477e-05\n",
      "1.9198695e-05\n",
      "4.2752625e-05\n",
      "2.7280526e-05\n",
      "2.5734536e-05\n",
      "1.9045774e-06\n",
      "6.6133025e-06\n"
     ]
    },
    {
     "name": "stderr",
     "output_type": "stream",
     "text": [
      " 30%|███       | 12/40 [06:04<14:34, 31.23s/it]"
     ]
    },
    {
     "name": "stdout",
     "output_type": "stream",
     "text": [
      "0.0037595534\n",
      "0.011201667\n",
      "0.0046529933\n",
      "0.0071009886\n",
      "0.0039953017\n",
      "0.0018704749\n",
      "0.0031180128\n",
      "0.0014692289\n",
      "0.0012944097\n",
      "0.0020825518\n",
      "0.0014964448\n",
      "0.0019076371\n",
      "0.0015739446\n",
      "0.0006625762\n",
      "0.0016005592\n",
      "0.0023876668\n",
      "0.0014124427\n",
      "0.0010479372\n",
      "0.0010446615\n",
      "0.0016012049\n",
      "0.0034624941\n",
      "0.0013343319\n",
      "0.0017081534\n",
      "0.002272599\n",
      "0.002491296\n",
      "0.0021166345\n",
      "0.002688472\n",
      "0.0022724473\n"
     ]
    },
    {
     "name": "stderr",
     "output_type": "stream",
     "text": [
      " 32%|███▎      | 13/40 [06:32<13:41, 30.41s/it]"
     ]
    },
    {
     "name": "stdout",
     "output_type": "stream",
     "text": [
      "0.0034169124\n",
      "0.007222585\n",
      "0.0075513204\n",
      "0.0034072013\n",
      "0.004708945\n",
      "0.0023266773\n",
      "0.0050551863\n",
      "0.005159444\n",
      "0.005719915\n",
      "0.0053540403\n",
      "0.0025597569\n",
      "0.008614312\n",
      "0.0021673169\n",
      "0.0015949102\n",
      "0.0054537193\n",
      "0.001606468\n",
      "0.0034554468\n",
      "0.0029743325\n",
      "0.0027710937\n",
      "0.003176277\n",
      "0.0016874044\n",
      "0.0014381487\n",
      "0.0011509749\n",
      "0.0018154819\n",
      "0.0010293705\n",
      "0.0044022626\n",
      "0.0047275247\n",
      "0.0017042542\n",
      "0.001860687\n",
      "0.0037584421\n",
      "0.0035107266\n",
      "0.0010109707\n",
      "0.0009064291\n",
      "0.0008428952\n",
      "0.0010912386\n",
      "0.0017171988\n",
      "0.0011871222\n",
      "0.0013836884\n",
      "0.0021387355\n",
      "0.0015077573\n",
      "0.0020125443\n",
      "0.0020483332\n",
      "0.0022516148\n",
      "0.0012051022\n"
     ]
    },
    {
     "name": "stderr",
     "output_type": "stream",
     "text": [
      " 35%|███▌      | 14/40 [07:20<15:28, 35.70s/it]"
     ]
    },
    {
     "name": "stdout",
     "output_type": "stream",
     "text": [
      "0.0023685126\n",
      "0.006327698\n",
      "0.0024607263\n",
      "0.0008952804\n",
      "0.00063586305\n",
      "0.0006221603\n",
      "0.00022078448\n",
      "0.00032480163\n",
      "0.00018104028\n",
      "0.00011389333\n",
      "0.00025612558\n",
      "9.6202326e-05\n",
      "6.324727e-05\n",
      "0.00030607337\n",
      "0.00020252142\n",
      "0.00027825581\n",
      "9.5207804e-05\n",
      "0.00019473073\n",
      "0.00017202526\n",
      "0.0002437172\n",
      "0.00036739657\n",
      "0.00012095644\n",
      "0.00045575743\n"
     ]
    },
    {
     "name": "stderr",
     "output_type": "stream",
     "text": [
      " 38%|███▊      | 15/40 [07:45<13:32, 32.51s/it]"
     ]
    },
    {
     "name": "stdout",
     "output_type": "stream",
     "text": [
      "0.004814131\n",
      "0.012661928\n",
      "0.0015595634\n",
      "0.0010114363\n",
      "0.00027586232\n",
      "9.26324e-05\n",
      "0.000120375116\n",
      "0.00016804611\n",
      "0.0001630275\n",
      "0.0001613715\n",
      "0.000103880535\n",
      "4.4420856e-05\n",
      "0.00018430325\n",
      "6.252496e-08\n",
      "2.2590935e-05\n",
      "5.8570593e-05\n",
      "7.90855e-05\n",
      "8.9868576e-05\n",
      "0.000111417765\n",
      "3.6147205e-05\n",
      "2.1700503e-06\n",
      "3.466481e-05\n",
      "8.599813e-05\n",
      "2.523845e-05\n"
     ]
    },
    {
     "name": "stderr",
     "output_type": "stream",
     "text": [
      " 40%|████      | 16/40 [08:10<12:05, 30.22s/it]"
     ]
    },
    {
     "name": "stdout",
     "output_type": "stream",
     "text": [
      "0.0005190447\n",
      "0.0005042456\n",
      "0.0022792174\n",
      "0.00082542514\n",
      "0.00037041685\n",
      "0.00086628005\n",
      "0.0010147667\n",
      "0.0008074071\n",
      "0.000757565\n",
      "0.0010558148\n",
      "0.0008879038\n",
      "0.00088088016\n",
      "0.0016517238\n",
      "0.0019004762\n",
      "0.0005851447\n",
      "0.0003945905\n",
      "0.0009588375\n",
      "0.00051538605\n",
      "0.0006301892\n",
      "0.00034696178\n",
      "0.00032091746\n",
      "0.0007821002\n",
      "0.0004881631\n",
      "0.0002857325\n",
      "0.0002883413\n",
      "0.00065947085\n",
      "0.000591633\n",
      "0.00044513232\n",
      "0.0003788813\n",
      "0.00035058826\n",
      "0.00044984164\n"
     ]
    },
    {
     "name": "stderr",
     "output_type": "stream",
     "text": [
      " 42%|████▎     | 17/40 [08:44<11:57, 31.18s/it]"
     ]
    },
    {
     "name": "stdout",
     "output_type": "stream",
     "text": [
      "0.0005335276\n",
      "0.001347251\n",
      "0.0006702506\n",
      "0.00055973575\n",
      "0.00037357272\n",
      "0.00075725146\n",
      "0.0006551971\n",
      "0.0003323502\n",
      "0.00020009009\n",
      "0.00034538182\n",
      "0.00025249156\n",
      "0.00016788692\n",
      "0.00028862845\n",
      "0.00034432212\n",
      "0.0002876166\n",
      "0.00014628645\n",
      "0.0001725416\n",
      "0.0003244392\n",
      "0.00046829967\n",
      "0.0003313463\n",
      "0.00018049184\n",
      "0.00037855588\n",
      "0.00029272438\n",
      "0.00012785713\n",
      "0.0003962325\n",
      "0.0005781427\n",
      "0.0006879908\n",
      "0.00025922694\n",
      "0.0004149836\n",
      "0.0002809561\n",
      "0.00018599843\n",
      "0.00019072561\n",
      "0.00014476865\n",
      "0.0001485611\n",
      "0.00024408964\n",
      "0.00035970836\n",
      "0.00037567946\n",
      "0.00018476021\n",
      "0.0006342278\n",
      "0.00064206775\n",
      "1.9906047e-05\n",
      "9.8992845e-05\n",
      "0.00010605324\n",
      "0.00020299153\n",
      "0.00036988108\n",
      "0.00024369548\n",
      "0.00017411888\n",
      "6.0146842e-05\n",
      "0.00015836736\n",
      "0.00023439736\n",
      "0.00024317601\n"
     ]
    },
    {
     "name": "stderr",
     "output_type": "stream",
     "text": [
      " 45%|████▌     | 18/40 [09:43<14:30, 39.58s/it]"
     ]
    },
    {
     "name": "stdout",
     "output_type": "stream",
     "text": [
      "0.00028653417\n",
      "0.0005445213\n",
      "0.0002720195\n",
      "0.00037456848\n",
      "0.00014388615\n",
      "6.271845e-05\n",
      "0.00015289415\n",
      "5.315539e-05\n",
      "5.7902216e-05\n",
      "8.2905346e-05\n",
      "0.0001375198\n",
      "7.011607e-05\n",
      "0.00016247189\n",
      "7.922966e-05\n",
      "6.51907e-05\n",
      "3.9364175e-05\n",
      "2.8672407e-08\n",
      "1.9257026e-05\n",
      "7.32686e-06\n",
      "2.475841e-05\n",
      "1.769247e-06\n",
      "1.5481646e-05\n",
      "1.4599067e-05\n",
      "3.3809032e-05\n",
      "1.2031485e-06\n",
      "3.4540255e-06\n",
      "1.3736154e-05\n"
     ]
    },
    {
     "name": "stderr",
     "output_type": "stream",
     "text": [
      " 48%|████▊     | 19/40 [10:14<12:56, 36.96s/it]"
     ]
    },
    {
     "name": "stdout",
     "output_type": "stream",
     "text": [
      "0.004780302\n",
      "0.0047453153\n",
      "0.004149845\n",
      "0.006270012\n",
      "0.0025559554\n",
      "0.0071297884\n",
      "0.0029143027\n",
      "0.004071273\n",
      "0.0060171164\n",
      "0.0025607506\n",
      "0.0070575844\n",
      "0.0029319457\n",
      "0.0017722286\n",
      "0.00076700037\n",
      "0.0013798656\n",
      "0.00080034346\n",
      "0.0019246023\n",
      "0.001174119\n",
      "0.0004337094\n",
      "0.0007054692\n",
      "0.00090855756\n",
      "0.00031123983\n",
      "0.00042407532\n",
      "0.0007134165\n",
      "0.0003335533\n",
      "0.0009601483\n",
      "0.00042489267\n",
      "0.00053247565\n"
     ]
    },
    {
     "name": "stderr",
     "output_type": "stream",
     "text": [
      " 50%|█████     | 20/40 [10:44<11:42, 35.13s/it]"
     ]
    },
    {
     "name": "stdout",
     "output_type": "stream",
     "text": [
      "0.0005190447\n",
      "0.0005042456\n",
      "0.0022792174\n",
      "0.00082542514\n",
      "0.00037041685\n",
      "0.00086628005\n",
      "0.0010147667\n",
      "0.0008074071\n",
      "0.000757565\n",
      "0.0010558148\n",
      "0.0008879038\n",
      "0.00088088016\n",
      "0.0016517238\n",
      "0.0019004762\n",
      "0.0005851447\n",
      "0.0003945905\n",
      "0.0009588375\n",
      "0.00051538605\n",
      "0.0006301892\n",
      "0.00034696178\n",
      "0.00032091746\n",
      "0.0007821002\n",
      "0.0004881631\n",
      "0.0002857325\n",
      "0.0002883413\n",
      "0.00065947085\n",
      "0.000591633\n",
      "0.00044513232\n",
      "0.0003788813\n",
      "0.00035058826\n",
      "0.00044984164\n"
     ]
    },
    {
     "name": "stderr",
     "output_type": "stream",
     "text": [
      " 52%|█████▎    | 21/40 [11:20<11:10, 35.31s/it]"
     ]
    },
    {
     "name": "stdout",
     "output_type": "stream",
     "text": [
      "0.0011299865\n",
      "0.0026198796\n",
      "0.0023296266\n",
      "0.0005331489\n",
      "0.0003382156\n",
      "0.00038598973\n",
      "0.0004013126\n",
      "0.0010211508\n",
      "0.00046776395\n",
      "0.00020387869\n",
      "0.0002825511\n",
      "0.00019139974\n",
      "0.00053645467\n",
      "0.0005253073\n",
      "0.00042114736\n",
      "0.0005618636\n",
      "0.0005179863\n",
      "0.000246231\n",
      "0.0005601292\n",
      "0.00035162288\n",
      "0.0002161977\n",
      "0.00091002794\n"
     ]
    },
    {
     "name": "stderr",
     "output_type": "stream",
     "text": [
      " 55%|█████▌    | 22/40 [11:44<09:35, 31.99s/it]"
     ]
    },
    {
     "name": "stdout",
     "output_type": "stream",
     "text": [
      "0.0008122243\n",
      "0.00123185\n",
      "0.001671363\n",
      "0.0019590533\n",
      "0.0008775662\n",
      "0.0012872955\n",
      "0.0010376195\n",
      "0.0007814539\n",
      "0.0011209039\n",
      "0.00073385186\n",
      "0.0010123468\n",
      "0.0013925612\n",
      "0.0009935881\n",
      "0.0009787804\n",
      "0.0006389993\n",
      "0.0007838821\n",
      "0.00093393214\n",
      "0.0005250165\n",
      "0.0006793776\n",
      "0.00075367035\n",
      "0.00034722427\n",
      "0.0011351953\n",
      "0.00050750934\n",
      "0.00080425484\n",
      "0.00068105664\n",
      "0.0005397845\n",
      "0.0011562821\n",
      "0.00053766207\n",
      "0.00064042327\n",
      "0.00027789912\n",
      "0.00050614844\n"
     ]
    },
    {
     "name": "stderr",
     "output_type": "stream",
     "text": [
      " 57%|█████▊    | 23/40 [12:20<09:24, 33.23s/it]"
     ]
    },
    {
     "name": "stdout",
     "output_type": "stream",
     "text": [
      "0.00037584497\n",
      "0.0007208038\n",
      "0.0017255982\n",
      "0.001228811\n",
      "0.001670184\n",
      "0.0014680527\n",
      "0.0016537395\n",
      "0.002262299\n",
      "0.0014803354\n",
      "0.0011282915\n",
      "0.0015522448\n",
      "0.0014670482\n",
      "0.0014438\n",
      "0.0044856085\n",
      "0.00078158267\n",
      "0.0008619954\n",
      "0.00055373856\n",
      "0.00061599526\n",
      "0.0007586417\n",
      "0.0003794869\n",
      "0.001106734\n",
      "0.00063318945\n",
      "0.00023190204\n",
      "0.0014723793\n",
      "0.0005343295\n",
      "0.0005569018\n",
      "0.00061710295\n",
      "0.00021942052\n",
      "0.00042143586\n",
      "0.00024297349\n",
      "0.00024273073\n",
      "0.00060462725\n",
      "0.0005652864\n",
      "0.0003339782\n",
      "0.00021552808\n",
      "0.0005224022\n",
      "0.0016354284\n",
      "0.00018480471\n"
     ]
    },
    {
     "name": "stderr",
     "output_type": "stream",
     "text": [
      " 60%|██████    | 24/40 [13:01<09:28, 35.55s/it]"
     ]
    },
    {
     "name": "stdout",
     "output_type": "stream",
     "text": [
      "2.9550209e-05\n",
      "0.0012870545\n",
      "0.0003414062\n",
      "0.00046004038\n",
      "5.142673e-05\n",
      "0.00023755978\n",
      "1.2491978e-05\n",
      "3.1259195e-05\n",
      "8.3994004e-05\n",
      "8.9968e-05\n",
      "2.4103385e-05\n",
      "2.2542306e-05\n",
      "4.930929e-05\n",
      "5.145713e-05\n",
      "1.5510794e-05\n",
      "3.736832e-05\n",
      "6.0437484e-05\n"
     ]
    },
    {
     "name": "stderr",
     "output_type": "stream",
     "text": [
      " 62%|██████▎   | 25/40 [13:20<07:37, 30.48s/it]"
     ]
    },
    {
     "name": "stdout",
     "output_type": "stream",
     "text": [
      "0.0009382964\n",
      "0.0009781929\n",
      "0.0008949486\n",
      "0.0012030796\n",
      "0.0013719414\n",
      "0.0011791318\n",
      "0.0015837889\n",
      "0.001127517\n",
      "0.0011745164\n",
      "0.0008053487\n",
      "0.0005629571\n",
      "0.00078107085\n",
      "0.00040596817\n",
      "0.0003837652\n",
      "0.00029451321\n",
      "0.00041958774\n",
      "0.00030149735\n",
      "0.0012700775\n",
      "0.00068380474\n",
      "0.0003491427\n",
      "0.0010983336\n"
     ]
    },
    {
     "name": "stderr",
     "output_type": "stream",
     "text": [
      " 65%|██████▌   | 26/40 [13:44<06:39, 28.54s/it]"
     ]
    },
    {
     "name": "stdout",
     "output_type": "stream",
     "text": [
      "0.00088554074\n",
      "0.00086790393\n",
      "0.0005945798\n",
      "9.704242e-05\n",
      "0.00028179635\n",
      "0.00042381327\n",
      "0.00017873081\n",
      "0.00020856987\n",
      "0.00019474464\n",
      "0.00017155914\n",
      "7.244333e-05\n",
      "0.00034496665\n",
      "0.0002183172\n",
      "4.272842e-05\n",
      "3.5359564e-05\n",
      "6.906971e-06\n",
      "0.0001210959\n",
      "0.00012543633\n",
      "4.1737472e-05\n",
      "0.0001371151\n",
      "0.00011521901\n",
      "5.649492e-05\n",
      "0.00014457117\n",
      "5.9090326e-05\n",
      "7.861303e-05\n",
      "7.793499e-05\n"
     ]
    },
    {
     "name": "stderr",
     "output_type": "stream",
     "text": [
      " 68%|██████▊   | 27/40 [14:12<06:08, 28.32s/it]"
     ]
    },
    {
     "name": "stdout",
     "output_type": "stream",
     "text": [
      "0.0005190447\n",
      "0.0005042456\n",
      "0.0022792174\n",
      "0.00082542514\n",
      "0.00037041685\n",
      "0.00086628005\n",
      "0.0010147667\n",
      "0.0008074071\n",
      "0.000757565\n",
      "0.0010558148\n",
      "0.0008879038\n",
      "0.00088088016\n",
      "0.0016517238\n",
      "0.0019004762\n",
      "0.0005851447\n",
      "0.0003945905\n",
      "0.0009588375\n",
      "0.00051538605\n",
      "0.0006301892\n",
      "0.00034696178\n",
      "0.00032091746\n",
      "0.0007821002\n",
      "0.0004881631\n",
      "0.0002857325\n",
      "0.0002883413\n",
      "0.00065947085\n",
      "0.000591633\n",
      "0.00044513232\n",
      "0.0003788813\n",
      "0.00035058826\n",
      "0.00044984164\n"
     ]
    },
    {
     "name": "stderr",
     "output_type": "stream",
     "text": [
      " 70%|███████   | 28/40 [14:48<06:07, 30.64s/it]"
     ]
    },
    {
     "name": "stdout",
     "output_type": "stream",
     "text": [
      "0.004704032\n",
      "0.005000804\n",
      "0.0016505388\n",
      "0.00081908354\n",
      "0.00047954376\n",
      "0.00046667157\n",
      "0.00030447674\n",
      "0.00033002844\n",
      "0.00035972646\n",
      "0.0003859286\n",
      "0.0005464924\n",
      "0.0001582008\n",
      "0.00040169648\n",
      "0.00020482186\n",
      "0.00016696709\n",
      "0.00011964747\n",
      "0.0003476239\n",
      "6.805679e-05\n",
      "0.0003013129\n",
      "0.00021512326\n",
      "0.00019221906\n",
      "0.0002156552\n",
      "0.0004157506\n",
      "0.00030308144\n",
      "0.0005023477\n",
      "0.00021843478\n",
      "0.0003193422\n",
      "0.00030321148\n"
     ]
    },
    {
     "name": "stderr",
     "output_type": "stream",
     "text": [
      " 72%|███████▎  | 29/40 [15:19<05:37, 30.68s/it]"
     ]
    },
    {
     "name": "stdout",
     "output_type": "stream",
     "text": [
      "0.00047903965\n",
      "0.00055128045\n",
      "0.00040567046\n",
      "0.00034804418\n",
      "0.00022930959\n",
      "7.852943e-05\n",
      "1.6959311e-05\n",
      "1.2939009e-05\n",
      "8.613183e-05\n",
      "1.2136159e-05\n",
      "4.4603457e-05\n",
      "4.8630747e-05\n",
      "0.00017842864\n",
      "6.307507e-05\n",
      "8.481178e-05\n",
      "4.133009e-05\n",
      "0.000103664606\n",
      "0.0001292282\n",
      "7.548579e-05\n",
      "2.6446767e-05\n"
     ]
    },
    {
     "name": "stderr",
     "output_type": "stream",
     "text": [
      " 75%|███████▌  | 30/40 [15:41<04:41, 28.16s/it]"
     ]
    },
    {
     "name": "stdout",
     "output_type": "stream",
     "text": [
      "0.00021041944\n",
      "7.8003264e-05\n",
      "5.949337e-06\n",
      "4.271174e-05\n",
      "3.3520584e-10\n",
      "1.0630975e-05\n",
      "1.5863603e-05\n",
      "1.2597885e-06\n",
      "8.407218e-07\n",
      "6.200624e-09\n",
      "1.4445332e-05\n",
      "1.5426741e-06\n",
      "2.8993605e-10\n",
      "1.4820579e-07\n",
      "8.981845e-06\n"
     ]
    },
    {
     "name": "stderr",
     "output_type": "stream",
     "text": [
      " 78%|███████▊  | 31/40 [16:00<03:48, 25.44s/it]"
     ]
    },
    {
     "name": "stdout",
     "output_type": "stream",
     "text": [
      "0.00041615858\n",
      "0.0014968957\n",
      "0.0011673861\n",
      "0.0012285275\n",
      "0.0023799567\n",
      "0.0020669973\n",
      "0.0010384729\n",
      "0.002054589\n",
      "0.002985281\n",
      "0.0015114843\n",
      "0.0010757309\n",
      "0.0010380707\n",
      "0.00035159604\n",
      "0.00059783616\n",
      "0.0021609056\n",
      "0.0005831303\n",
      "0.00043478995\n",
      "0.000361694\n",
      "0.0013302428\n",
      "0.00032878932\n",
      "0.0005770177\n",
      "0.00056802045\n",
      "0.0004026346\n",
      "0.00068646745\n",
      "0.0003589756\n",
      "0.00042659597\n",
      "0.00044247686\n",
      "0.0004860351\n",
      "0.00035943987\n",
      "0.0005252117\n",
      "0.0006436706\n",
      "0.00043056023\n",
      "0.00036569877\n",
      "0.00060921354\n",
      "0.00045918912\n"
     ]
    },
    {
     "name": "stderr",
     "output_type": "stream",
     "text": [
      " 80%|████████  | 32/40 [16:38<03:52, 29.03s/it]"
     ]
    },
    {
     "name": "stdout",
     "output_type": "stream",
     "text": [
      "0.00019203068\n",
      "8.299333e-05\n",
      "6.9150025e-05\n",
      "4.2398993e-10\n",
      "3.1469385e-14\n",
      "4.1979332e-14\n",
      "2.9028702e-06\n",
      "7.0941916e-14\n",
      "6.1293276e-11\n",
      "4.4104767e-10\n",
      "1.2799228e-06\n",
      "7.566274e-14\n",
      "4.0947615e-08\n",
      "9.24304e-13\n",
      "4.990076e-08\n"
     ]
    },
    {
     "name": "stderr",
     "output_type": "stream",
     "text": [
      " 82%|████████▎ | 33/40 [16:54<02:56, 25.25s/it]"
     ]
    },
    {
     "name": "stdout",
     "output_type": "stream",
     "text": [
      "0.0010326884\n",
      "0.0019215813\n",
      "0.0015295472\n",
      "0.001454236\n",
      "0.0011809963\n",
      "0.001339281\n",
      "0.002312328\n",
      "0.0018476913\n",
      "0.0014624968\n",
      "0.0008486609\n",
      "0.00074622856\n",
      "0.00096922566\n",
      "0.00045540353\n",
      "0.0006395747\n",
      "0.0011012945\n",
      "0.0006344266\n",
      "0.00042846022\n",
      "0.0006534956\n",
      "0.00055660924\n",
      "0.000885179\n",
      "0.0009706924\n",
      "0.00062723004\n",
      "0.0010683477\n",
      "0.00038906076\n",
      "0.0015635422\n",
      "0.0004181434\n",
      "0.00044357154\n",
      "0.00040448413\n",
      "0.00044493648\n",
      "0.0012013754\n",
      "0.00050634186\n",
      "0.00022104767\n",
      "0.00029834837\n",
      "0.0008136357\n",
      "0.00020269027\n",
      "0.0006729715\n",
      "0.0007382637\n",
      "0.00022162824\n",
      "0.00036942717\n",
      "0.00070361077\n",
      "0.00038855695\n",
      "0.0002914426\n",
      "0.00037297228\n",
      "0.00024332856\n",
      "0.00018196166\n",
      "0.00039651312\n",
      "0.0008437804\n",
      "0.00022165764\n",
      "0.0003446318\n",
      "0.0010244828\n",
      "0.00017769482\n",
      "0.0002600688\n"
     ]
    },
    {
     "name": "stderr",
     "output_type": "stream",
     "text": [
      " 85%|████████▌ | 34/40 [17:53<03:31, 35.31s/it]"
     ]
    },
    {
     "name": "stdout",
     "output_type": "stream",
     "text": [
      "0.0005190447\n",
      "0.0005042456\n",
      "0.0022792174\n",
      "0.00082542514\n",
      "0.00037041685\n",
      "0.00086628005\n",
      "0.0010147667\n",
      "0.0008074071\n",
      "0.000757565\n",
      "0.0010558148\n",
      "0.0008879038\n",
      "0.00088088016\n",
      "0.0016517238\n",
      "0.0019004762\n",
      "0.0005851447\n",
      "0.0003945905\n",
      "0.0009588375\n",
      "0.00051538605\n",
      "0.0006301892\n",
      "0.00034696178\n",
      "0.00032091746\n",
      "0.0007821002\n",
      "0.0004881631\n",
      "0.0002857325\n",
      "0.0002883413\n",
      "0.00065947085\n",
      "0.000591633\n",
      "0.00044513232\n",
      "0.0003788813\n",
      "0.00035058826\n",
      "0.00044984164\n"
     ]
    },
    {
     "name": "stderr",
     "output_type": "stream",
     "text": [
      " 88%|████████▊ | 35/40 [18:28<02:56, 35.26s/it]"
     ]
    },
    {
     "name": "stdout",
     "output_type": "stream",
     "text": [
      "0.0016609455\n",
      "0.0014690909\n",
      "0.0009257254\n",
      "0.0008589553\n",
      "0.0007204946\n",
      "0.00050114386\n",
      "0.0014368853\n",
      "0.0008548922\n",
      "0.00023191115\n",
      "0.000335511\n",
      "0.0001582915\n",
      "0.00028427652\n",
      "0.00016433709\n",
      "5.1180792e-05\n",
      "0.00018346577\n",
      "0.00013237765\n",
      "0.00019757962\n",
      "0.00021036704\n",
      "0.00014327872\n",
      "0.00010243175\n",
      "0.00018420658\n",
      "0.00024711344\n",
      "4.5413624e-05\n",
      "0.0002551657\n",
      "0.00011276954\n",
      "8.3707e-05\n",
      "1.9948682e-05\n",
      "4.1203362e-05\n",
      "0.00013624583\n",
      "3.8814444e-05\n",
      "3.0223458e-05\n",
      "8.476394e-05\n",
      "0.00012459302\n",
      "0.0002624857\n",
      "4.5472818e-05\n",
      "0.0001317846\n",
      "4.808004e-05\n"
     ]
    },
    {
     "name": "stderr",
     "output_type": "stream",
     "text": [
      " 90%|█████████ | 36/40 [19:07<02:25, 36.49s/it]"
     ]
    },
    {
     "name": "stdout",
     "output_type": "stream",
     "text": [
      "0.0029740538\n",
      "0.005348254\n",
      "0.004136381\n",
      "0.0029896172\n",
      "0.00199776\n",
      "0.0040160343\n",
      "0.002460302\n",
      "0.002839226\n",
      "0.0020243062\n",
      "0.0030272554\n",
      "0.0010127544\n",
      "0.0017332003\n",
      "0.0036494792\n",
      "0.0016667069\n",
      "0.001338792\n",
      "0.00092886476\n",
      "0.0012733551\n",
      "0.0011090251\n",
      "0.0011501441\n",
      "0.0013139971\n",
      "0.001253121\n",
      "0.0011591391\n",
      "0.0014793169\n",
      "0.0027032455\n",
      "0.0014211327\n",
      "0.0014323641\n"
     ]
    },
    {
     "name": "stderr",
     "output_type": "stream",
     "text": [
      " 92%|█████████▎| 37/40 [19:37<01:43, 34.60s/it]"
     ]
    },
    {
     "name": "stdout",
     "output_type": "stream",
     "text": [
      "0.0030964375\n",
      "0.002764005\n",
      "0.002733312\n",
      "0.0026051428\n",
      "0.0014187279\n",
      "0.00073278625\n",
      "0.0011073147\n",
      "0.00081806007\n",
      "0.0025588244\n",
      "0.0016636351\n",
      "0.00064473174\n",
      "0.0006775456\n",
      "0.00048737737\n",
      "0.00072612567\n",
      "0.0006181473\n",
      "0.0005454489\n",
      "0.0007863733\n",
      "0.000390362\n",
      "0.00065867073\n",
      "0.0015273308\n",
      "0.00037248732\n",
      "0.00076387846\n",
      "0.00036208337\n",
      "0.00049298705\n",
      "0.0010776104\n",
      "0.00067069154\n",
      "0.0005854457\n",
      "0.0002298016\n",
      "0.0008137548\n",
      "0.00070619205\n",
      "0.0009247265\n",
      "0.0004103886\n",
      "0.00047468723\n",
      "0.0005171019\n",
      "0.00021971168\n",
      "0.0003625241\n",
      "0.00079482404\n",
      "0.0002255738\n",
      "0.0006697816\n",
      "0.0006922523\n",
      "0.00072500366\n",
      "0.0007785968\n",
      "0.0010408747\n",
      "0.0006145366\n",
      "0.0002454001\n"
     ]
    },
    {
     "name": "stderr",
     "output_type": "stream",
     "text": [
      " 95%|█████████▌| 38/40 [20:28<01:18, 39.31s/it]"
     ]
    },
    {
     "name": "stdout",
     "output_type": "stream",
     "text": [
      "0.0017383157\n",
      "0.005275544\n",
      "0.0011970181\n",
      "0.00041464387\n",
      "0.00048622413\n",
      "0.00024702758\n",
      "0.00011649205\n",
      "0.00016895978\n",
      "0.0001984503\n",
      "0.00010060899\n",
      "0.00011377172\n",
      "0.00015694859\n",
      "5.6859717e-05\n",
      "0.00014808438\n",
      "5.4236007e-05\n",
      "0.00024139773\n",
      "9.0022644e-05\n",
      "0.00019367866\n",
      "7.770726e-05\n",
      "0.0003632793\n",
      "0.00021901992\n",
      "0.00019967678\n",
      "0.00019388925\n",
      "0.00016571746\n",
      "8.3620456e-05\n"
     ]
    },
    {
     "name": "stderr",
     "output_type": "stream",
     "text": [
      " 98%|█████████▊| 39/40 [20:56<00:35, 35.99s/it]"
     ]
    },
    {
     "name": "stdout",
     "output_type": "stream",
     "text": [
      "0.0022693689\n",
      "0.0038938224\n",
      "0.0025144187\n",
      "0.0011593655\n",
      "0.0006271533\n",
      "0.0003651361\n",
      "0.0001575146\n",
      "0.0002061498\n",
      "0.00026903336\n",
      "0.00049434946\n",
      "0.00010900388\n",
      "0.00023582493\n",
      "0.00036829014\n",
      "0.000367002\n",
      "0.00019350884\n",
      "0.00018252971\n",
      "5.0723633e-05\n",
      "0.00011138069\n",
      "7.820172e-05\n",
      "0.0001023643\n",
      "0.00023540712\n",
      "5.423088e-05\n",
      "0.000116215524\n",
      "5.3326876e-05\n",
      "0.00016400393\n",
      "0.00012208064\n",
      "0.00020048779\n",
      "0.00015591877\n",
      "0.00013199527\n",
      "5.4013115e-05\n",
      "4.5961686e-05\n",
      "7.284932e-05\n"
     ]
    },
    {
     "name": "stderr",
     "output_type": "stream",
     "text": [
      "100%|██████████| 40/40 [21:34<00:00, 32.35s/it]\n",
      "100%|██████████| 40/40 [00:10<00:00,  3.75it/s]\n"
     ]
    },
    {
     "data": {
      "text/plain": [
       "<matplotlib.legend.Legend at 0x71689a09e0>"
      ]
     },
     "execution_count": 16,
     "metadata": {},
     "output_type": "execute_result"
    },
    {
     "data": {
      "image/png": "[encoded data removed]",
      "text/plain": [
       "<Figure size 1920x1440 with 1 Axes>"
      ]
     },
     "metadata": {},
     "output_type": "display_data"
    }
   ],
   "source": [
    "G = 0  # we want to lower the entropy of the predictive distribution\n",
    "\n",
    "def process(x, eps):\n",
    "    x = jax.numpy.array(x.reshape(1, -1))\n",
    "    x_adv_values, loss_values, func_values = attack(x, modelVI, G, func=entropy, samples_per_iteration=1000, epsilon=eps, num_iterations=1000, learning_rate=0.01)\n",
    "    preds = modelVI.sample_predictive_distribution_probs(jax.random.PRNGKey(0), x_adv_values[-1], 20)\n",
    "    return entropy(x_adv_values[-1], preds)\n",
    "\n",
    "epsilons = [.2, .5]\n",
    "num_points = 40\n",
    "for eps in epsilons:\n",
    "    #entropies = Parallel(n_jobs=8)(delayed(process)(x, eps) for x in tqdm(X_test[:num_points]))\n",
    "    entropies = [process(x, eps) for x in tqdm(X_notmnist[:num_points])]\n",
    "    sns.histplot(jnp.array(entropies), kde=True, bins=10, alpha=0.)\n",
    "    \n",
    "unattacked_entropies = []\n",
    "for x in tqdm(X_notmnist[:num_points]):\n",
    "    x = jax.numpy.array(x.reshape(1, -1))\n",
    "    preds = modelVI.sample_predictive_distribution_probs(jax.random.PRNGKey(0), x, 20)\n",
    "    unattacked_entropies.append(entropy(x, preds))\n",
    "\n",
    "sns.histplot(jnp.array(unattacked_entropies), kde=True, bins=10, alpha=0.)\n",
    "legend = ['Epsilon = ' + str(eps) for eps in epsilons] + ['Unattacked']\n",
    "plt.legend(legend)"
   ]
  },
  {
   "cell_type": "markdown",
   "metadata": {},
   "source": [
    "## Distribution attacks"
   ]
  },
  {
   "cell_type": "code",
   "execution_count": null,
   "metadata": {},
   "outputs": [
    {
     "name": "stderr",
     "output_type": "stream",
     "text": [
      "  0%|          | 0/40 [00:00<?, ?it/s]"
     ]
    },
    {
     "name": "stdout",
     "output_type": "stream",
     "text": [
      "Early stopping at iteration 12\n"
     ]
    },
    {
     "name": "stderr",
     "output_type": "stream",
     "text": [
      "  2%|▎         | 1/40 [00:05<03:17,  5.07s/it]"
     ]
    },
    {
     "name": "stdout",
     "output_type": "stream",
     "text": [
      "Early stopping at iteration 49\n"
     ]
    },
    {
     "name": "stderr",
     "output_type": "stream",
     "text": [
      "  5%|▌         | 2/40 [00:21<07:20, 11.59s/it]"
     ]
    },
    {
     "name": "stdout",
     "output_type": "stream",
     "text": [
      "Early stopping at iteration 12\n"
     ]
    },
    {
     "name": "stderr",
     "output_type": "stream",
     "text": [
      "  8%|▊         | 3/40 [00:26<05:20,  8.67s/it]"
     ]
    },
    {
     "name": "stdout",
     "output_type": "stream",
     "text": [
      "Early stopping at iteration 12\n"
     ]
    },
    {
     "name": "stderr",
     "output_type": "stream",
     "text": [
      " 10%|█         | 4/40 [00:30<04:13,  7.04s/it]"
     ]
    },
    {
     "name": "stdout",
     "output_type": "stream",
     "text": [
      "Early stopping at iteration 12\n"
     ]
    },
    {
     "name": "stderr",
     "output_type": "stream",
     "text": [
      " 12%|█▎        | 5/40 [00:35<03:39,  6.26s/it]"
     ]
    },
    {
     "name": "stdout",
     "output_type": "stream",
     "text": [
      "Early stopping at iteration 89\n"
     ]
    },
    {
     "name": "stderr",
     "output_type": "stream",
     "text": [
      " 15%|█▌        | 6/40 [01:04<07:51, 13.87s/it]"
     ]
    },
    {
     "name": "stdout",
     "output_type": "stream",
     "text": [
      "Early stopping at iteration 36\n"
     ]
    },
    {
     "name": "stderr",
     "output_type": "stream",
     "text": [
      " 18%|█▊        | 7/40 [01:27<09:19, 16.97s/it]"
     ]
    },
    {
     "name": "stdout",
     "output_type": "stream",
     "text": [
      "Early stopping at iteration 12\n"
     ]
    },
    {
     "name": "stderr",
     "output_type": "stream",
     "text": [
      " 20%|██        | 8/40 [01:32<06:55, 12.98s/it]"
     ]
    },
    {
     "name": "stdout",
     "output_type": "stream",
     "text": [
      "Early stopping at iteration 198\n"
     ]
    },
    {
     "name": "stderr",
     "output_type": "stream",
     "text": [
      " 22%|██▎       | 9/40 [02:45<16:25, 31.78s/it]"
     ]
    },
    {
     "name": "stdout",
     "output_type": "stream",
     "text": [
      "Early stopping at iteration 60\n"
     ]
    },
    {
     "name": "stderr",
     "output_type": "stream",
     "text": [
      " 25%|██▌       | 10/40 [03:06<14:12, 28.42s/it]"
     ]
    },
    {
     "name": "stdout",
     "output_type": "stream",
     "text": [
      "Early stopping at iteration 12\n"
     ]
    },
    {
     "name": "stderr",
     "output_type": "stream",
     "text": [
      " 30%|███       | 12/40 [05:34<27:12, 58.32s/it]"
     ]
    },
    {
     "name": "stdout",
     "output_type": "stream",
     "text": [
      "Early stopping at iteration 12\n"
     ]
    },
    {
     "name": "stderr",
     "output_type": "stream",
     "text": [
      " 32%|███▎      | 13/40 [05:42<19:21, 43.00s/it]"
     ]
    },
    {
     "name": "stdout",
     "output_type": "stream",
     "text": [
      "Early stopping at iteration 12\n"
     ]
    },
    {
     "name": "stderr",
     "output_type": "stream",
     "text": [
      " 35%|███▌      | 14/40 [05:47<13:39, 31.52s/it]"
     ]
    },
    {
     "name": "stdout",
     "output_type": "stream",
     "text": [
      "Early stopping at iteration 12\n"
     ]
    },
    {
     "name": "stderr",
     "output_type": "stream",
     "text": [
      " 38%|███▊      | 15/40 [05:52<09:48, 23.54s/it]"
     ]
    },
    {
     "name": "stdout",
     "output_type": "stream",
     "text": [
      "Early stopping at iteration 58\n"
     ]
    },
    {
     "name": "stderr",
     "output_type": "stream",
     "text": [
      " 40%|████      | 16/40 [06:16<09:27, 23.66s/it]"
     ]
    },
    {
     "name": "stdout",
     "output_type": "stream",
     "text": [
      "Early stopping at iteration 66\n"
     ]
    },
    {
     "name": "stderr",
     "output_type": "stream",
     "text": [
      " 42%|████▎     | 17/40 [06:37<08:47, 22.92s/it]"
     ]
    },
    {
     "name": "stdout",
     "output_type": "stream",
     "text": [
      "Early stopping at iteration 12\n"
     ]
    },
    {
     "name": "stderr",
     "output_type": "stream",
     "text": [
      " 48%|████▊     | 19/40 [09:10<19:53, 56.85s/it]"
     ]
    },
    {
     "name": "stdout",
     "output_type": "stream",
     "text": [
      "Early stopping at iteration 12\n"
     ]
    },
    {
     "name": "stderr",
     "output_type": "stream",
     "text": [
      " 50%|█████     | 20/40 [09:17<13:57, 41.88s/it]"
     ]
    },
    {
     "name": "stdout",
     "output_type": "stream",
     "text": [
      "Early stopping at iteration 119\n"
     ]
    },
    {
     "name": "stderr",
     "output_type": "stream",
     "text": [
      " 52%|█████▎    | 21/40 [10:04<13:45, 43.43s/it]"
     ]
    },
    {
     "name": "stdout",
     "output_type": "stream",
     "text": [
      "Early stopping at iteration 12\n"
     ]
    },
    {
     "name": "stderr",
     "output_type": "stream",
     "text": [
      " 55%|█████▌    | 22/40 [10:10<09:39, 32.17s/it]"
     ]
    },
    {
     "name": "stdout",
     "output_type": "stream",
     "text": [
      "Early stopping at iteration 84\n"
     ]
    },
    {
     "name": "stderr",
     "output_type": "stream",
     "text": [
      " 57%|█████▊    | 23/40 [10:37<08:38, 30.50s/it]"
     ]
    },
    {
     "name": "stdout",
     "output_type": "stream",
     "text": [
      "Early stopping at iteration 12\n"
     ]
    },
    {
     "name": "stderr",
     "output_type": "stream",
     "text": [
      " 60%|██████    | 24/40 [10:42<06:07, 22.94s/it]"
     ]
    },
    {
     "name": "stdout",
     "output_type": "stream",
     "text": [
      "Early stopping at iteration 186\n"
     ]
    },
    {
     "name": "stderr",
     "output_type": "stream",
     "text": [
      " 62%|██████▎   | 25/40 [11:47<08:53, 35.57s/it]"
     ]
    },
    {
     "name": "stdout",
     "output_type": "stream",
     "text": [
      "Early stopping at iteration 12\n"
     ]
    },
    {
     "name": "stderr",
     "output_type": "stream",
     "text": [
      " 65%|██████▌   | 26/40 [11:53<06:11, 26.57s/it]"
     ]
    },
    {
     "name": "stdout",
     "output_type": "stream",
     "text": [
      "Early stopping at iteration 218\n"
     ]
    },
    {
     "name": "stderr",
     "output_type": "stream",
     "text": [
      " 68%|██████▊   | 27/40 [13:05<08:42, 40.23s/it]"
     ]
    },
    {
     "name": "stdout",
     "output_type": "stream",
     "text": [
      "Early stopping at iteration 12\n"
     ]
    },
    {
     "name": "stderr",
     "output_type": "stream",
     "text": [
      " 70%|███████   | 28/40 [13:11<06:00, 30.01s/it]"
     ]
    },
    {
     "name": "stdout",
     "output_type": "stream",
     "text": [
      "Early stopping at iteration 12\n"
     ]
    },
    {
     "name": "stderr",
     "output_type": "stream",
     "text": [
      " 72%|███████▎  | 29/40 [13:17<04:08, 22.60s/it]"
     ]
    },
    {
     "name": "stdout",
     "output_type": "stream",
     "text": [
      "Early stopping at iteration 12\n"
     ]
    },
    {
     "name": "stderr",
     "output_type": "stream",
     "text": [
      " 75%|███████▌  | 30/40 [13:22<02:55, 17.55s/it]"
     ]
    },
    {
     "name": "stdout",
     "output_type": "stream",
     "text": [
      "Early stopping at iteration 89\n"
     ]
    },
    {
     "name": "stderr",
     "output_type": "stream",
     "text": [
      " 78%|███████▊  | 31/40 [13:54<03:16, 21.78s/it]"
     ]
    },
    {
     "name": "stdout",
     "output_type": "stream",
     "text": [
      "Early stopping at iteration 12\n"
     ]
    },
    {
     "name": "stderr",
     "output_type": "stream",
     "text": [
      " 80%|████████  | 32/40 [13:59<02:13, 16.75s/it]"
     ]
    },
    {
     "name": "stdout",
     "output_type": "stream",
     "text": [
      "Early stopping at iteration 86\n"
     ]
    },
    {
     "name": "stderr",
     "output_type": "stream",
     "text": [
      " 85%|████████▌ | 34/40 [16:46<05:35, 55.89s/it]"
     ]
    },
    {
     "name": "stdout",
     "output_type": "stream",
     "text": [
      "Early stopping at iteration 80\n"
     ]
    },
    {
     "name": "stderr",
     "output_type": "stream",
     "text": [
      " 88%|████████▊ | 35/40 [17:18<04:02, 48.53s/it]"
     ]
    },
    {
     "name": "stdout",
     "output_type": "stream",
     "text": [
      "Early stopping at iteration 31\n"
     ]
    },
    {
     "name": "stderr",
     "output_type": "stream",
     "text": [
      " 90%|█████████ | 36/40 [17:28<02:28, 37.16s/it]"
     ]
    },
    {
     "name": "stdout",
     "output_type": "stream",
     "text": [
      "Early stopping at iteration 12\n"
     ]
    },
    {
     "name": "stderr",
     "output_type": "stream",
     "text": [
      " 92%|█████████▎| 37/40 [17:33<01:22, 27.58s/it]"
     ]
    },
    {
     "name": "stdout",
     "output_type": "stream",
     "text": [
      "Early stopping at iteration 12\n"
     ]
    },
    {
     "name": "stderr",
     "output_type": "stream",
     "text": [
      " 98%|█████████▊| 39/40 [19:58<00:56, 56.57s/it]"
     ]
    },
    {
     "name": "stdout",
     "output_type": "stream",
     "text": [
      "Early stopping at iteration 12\n"
     ]
    },
    {
     "name": "stderr",
     "output_type": "stream",
     "text": [
      "100%|██████████| 40/40 [20:05<00:00, 30.13s/it]\n",
      "  0%|          | 0/40 [00:00<?, ?it/s]"
     ]
    },
    {
     "name": "stdout",
     "output_type": "stream",
     "text": [
      "Early stopping at iteration 12\n"
     ]
    },
    {
     "name": "stderr",
     "output_type": "stream",
     "text": [
      "  2%|▎         | 1/40 [00:05<03:24,  5.23s/it]"
     ]
    },
    {
     "name": "stdout",
     "output_type": "stream",
     "text": [
      "Early stopping at iteration 52\n"
     ]
    },
    {
     "name": "stderr",
     "output_type": "stream",
     "text": [
      "  5%|▌         | 2/40 [00:24<08:40, 13.69s/it]"
     ]
    },
    {
     "name": "stdout",
     "output_type": "stream",
     "text": [
      "Early stopping at iteration 12\n"
     ]
    },
    {
     "name": "stderr",
     "output_type": "stream",
     "text": [
      "  8%|▊         | 3/40 [00:29<06:01,  9.78s/it]"
     ]
    },
    {
     "name": "stdout",
     "output_type": "stream",
     "text": [
      "Early stopping at iteration 12\n"
     ]
    },
    {
     "name": "stderr",
     "output_type": "stream",
     "text": [
      " 10%|█         | 4/40 [00:35<04:45,  7.92s/it]"
     ]
    },
    {
     "name": "stdout",
     "output_type": "stream",
     "text": [
      "Early stopping at iteration 12\n"
     ]
    },
    {
     "name": "stderr",
     "output_type": "stream",
     "text": [
      " 12%|█▎        | 5/40 [00:39<03:56,  6.76s/it]"
     ]
    },
    {
     "name": "stdout",
     "output_type": "stream",
     "text": [
      "Early stopping at iteration 98\n"
     ]
    },
    {
     "name": "stderr",
     "output_type": "stream",
     "text": [
      " 15%|█▌        | 6/40 [01:11<08:43, 15.39s/it]"
     ]
    },
    {
     "name": "stdout",
     "output_type": "stream",
     "text": [
      "Early stopping at iteration 36\n"
     ]
    },
    {
     "name": "stderr",
     "output_type": "stream",
     "text": [
      " 18%|█▊        | 7/40 [01:24<07:53, 14.33s/it]"
     ]
    },
    {
     "name": "stdout",
     "output_type": "stream",
     "text": [
      "Early stopping at iteration 12\n"
     ]
    },
    {
     "name": "stderr",
     "output_type": "stream",
     "text": [
      " 20%|██        | 8/40 [01:29<06:07, 11.48s/it]"
     ]
    },
    {
     "name": "stdout",
     "output_type": "stream",
     "text": [
      "Early stopping at iteration 57\n"
     ]
    },
    {
     "name": "stderr",
     "output_type": "stream",
     "text": [
      " 22%|██▎       | 9/40 [01:46<06:49, 13.20s/it]"
     ]
    },
    {
     "name": "stdout",
     "output_type": "stream",
     "text": [
      "Early stopping at iteration 67\n"
     ]
    },
    {
     "name": "stderr",
     "output_type": "stream",
     "text": [
      " 25%|██▌       | 10/40 [02:05<07:34, 15.16s/it]"
     ]
    },
    {
     "name": "stdout",
     "output_type": "stream",
     "text": [
      "Early stopping at iteration 12\n"
     ]
    },
    {
     "name": "stderr",
     "output_type": "stream",
     "text": [
      " 30%|███       | 12/40 [04:24<22:54, 49.07s/it]"
     ]
    },
    {
     "name": "stdout",
     "output_type": "stream",
     "text": [
      "Early stopping at iteration 12\n"
     ]
    },
    {
     "name": "stderr",
     "output_type": "stream",
     "text": [
      " 32%|███▎      | 13/40 [04:30<16:12, 36.03s/it]"
     ]
    },
    {
     "name": "stdout",
     "output_type": "stream",
     "text": [
      "Early stopping at iteration 12\n"
     ]
    },
    {
     "name": "stderr",
     "output_type": "stream",
     "text": [
      " 35%|███▌      | 14/40 [04:35<11:35, 26.77s/it]"
     ]
    },
    {
     "name": "stdout",
     "output_type": "stream",
     "text": [
      "Early stopping at iteration 12\n"
     ]
    },
    {
     "name": "stderr",
     "output_type": "stream",
     "text": [
      " 38%|███▊      | 15/40 [04:40<08:24, 20.17s/it]"
     ]
    },
    {
     "name": "stdout",
     "output_type": "stream",
     "text": [
      "Early stopping at iteration 65\n"
     ]
    },
    {
     "name": "stderr",
     "output_type": "stream",
     "text": [
      " 40%|████      | 16/40 [05:04<08:28, 21.18s/it]"
     ]
    },
    {
     "name": "stdout",
     "output_type": "stream",
     "text": [
      "Early stopping at iteration 73\n"
     ]
    },
    {
     "name": "stderr",
     "output_type": "stream",
     "text": [
      " 42%|████▎     | 17/40 [05:26<08:14, 21.50s/it]"
     ]
    },
    {
     "name": "stdout",
     "output_type": "stream",
     "text": [
      "Early stopping at iteration 12\n"
     ]
    },
    {
     "name": "stderr",
     "output_type": "stream",
     "text": [
      " 45%|████▌     | 18/40 [05:31<06:04, 16.57s/it]"
     ]
    },
    {
     "name": "stdout",
     "output_type": "stream",
     "text": [
      "Early stopping at iteration 69\n"
     ]
    },
    {
     "name": "stderr",
     "output_type": "stream",
     "text": [
      " 48%|████▊     | 19/40 [05:51<06:07, 17.49s/it]"
     ]
    },
    {
     "name": "stdout",
     "output_type": "stream",
     "text": [
      "Early stopping at iteration 12\n"
     ]
    },
    {
     "name": "stderr",
     "output_type": "stream",
     "text": [
      " 50%|█████     | 20/40 [05:56<04:33, 13.66s/it]"
     ]
    },
    {
     "name": "stdout",
     "output_type": "stream",
     "text": [
      "Early stopping at iteration 96\n"
     ]
    },
    {
     "name": "stderr",
     "output_type": "stream",
     "text": [
      " 52%|█████▎    | 21/40 [06:25<05:48, 18.35s/it]"
     ]
    },
    {
     "name": "stdout",
     "output_type": "stream",
     "text": [
      "Early stopping at iteration 12\n"
     ]
    },
    {
     "name": "stderr",
     "output_type": "stream",
     "text": [
      " 55%|█████▌    | 22/40 [06:29<04:15, 14.20s/it]"
     ]
    },
    {
     "name": "stdout",
     "output_type": "stream",
     "text": [
      "Early stopping at iteration 117\n"
     ]
    },
    {
     "name": "stderr",
     "output_type": "stream",
     "text": [
      " 57%|█████▊    | 23/40 [07:04<05:45, 20.32s/it]"
     ]
    },
    {
     "name": "stdout",
     "output_type": "stream",
     "text": [
      "Early stopping at iteration 12\n"
     ]
    },
    {
     "name": "stderr",
     "output_type": "stream",
     "text": [
      " 60%|██████    | 24/40 [07:08<04:08, 15.56s/it]"
     ]
    },
    {
     "name": "stdout",
     "output_type": "stream",
     "text": [
      "Early stopping at iteration 184\n"
     ]
    },
    {
     "name": "stderr",
     "output_type": "stream",
     "text": [
      " 62%|██████▎   | 25/40 [08:04<06:53, 27.59s/it]"
     ]
    },
    {
     "name": "stdout",
     "output_type": "stream",
     "text": [
      "Early stopping at iteration 12\n"
     ]
    },
    {
     "name": "stderr",
     "output_type": "stream",
     "text": [
      " 65%|██████▌   | 26/40 [08:09<04:53, 20.94s/it]"
     ]
    },
    {
     "name": "stdout",
     "output_type": "stream",
     "text": [
      "Early stopping at iteration 166\n"
     ]
    },
    {
     "name": "stderr",
     "output_type": "stream",
     "text": [
      " 68%|██████▊   | 27/40 [08:55<06:07, 28.28s/it]"
     ]
    },
    {
     "name": "stdout",
     "output_type": "stream",
     "text": [
      "Early stopping at iteration 12\n"
     ]
    },
    {
     "name": "stderr",
     "output_type": "stream",
     "text": [
      " 70%|███████   | 28/40 [09:00<04:16, 21.34s/it]"
     ]
    },
    {
     "name": "stdout",
     "output_type": "stream",
     "text": [
      "Early stopping at iteration 12\n"
     ]
    },
    {
     "name": "stderr",
     "output_type": "stream",
     "text": [
      " 72%|███████▎  | 29/40 [09:05<02:59, 16.35s/it]"
     ]
    },
    {
     "name": "stdout",
     "output_type": "stream",
     "text": [
      "Early stopping at iteration 12\n"
     ]
    },
    {
     "name": "stderr",
     "output_type": "stream",
     "text": [
      " 75%|███████▌  | 30/40 [09:09<02:08, 12.84s/it]"
     ]
    },
    {
     "name": "stdout",
     "output_type": "stream",
     "text": [
      "Early stopping at iteration 60\n"
     ]
    },
    {
     "name": "stderr",
     "output_type": "stream",
     "text": [
      " 78%|███████▊  | 31/40 [09:27<02:07, 14.17s/it]"
     ]
    },
    {
     "name": "stdout",
     "output_type": "stream",
     "text": [
      "Early stopping at iteration 12\n"
     ]
    },
    {
     "name": "stderr",
     "output_type": "stream",
     "text": [
      " 80%|████████  | 32/40 [09:31<01:30, 11.36s/it]"
     ]
    },
    {
     "name": "stdout",
     "output_type": "stream",
     "text": [
      "Early stopping at iteration 95\n"
     ]
    },
    {
     "name": "stderr",
     "output_type": "stream",
     "text": [
      " 82%|████████▎ | 33/40 [09:58<01:52, 16.03s/it]"
     ]
    },
    {
     "name": "stdout",
     "output_type": "stream",
     "text": [
      "Early stopping at iteration 61\n"
     ]
    },
    {
     "name": "stderr",
     "output_type": "stream",
     "text": [
      " 85%|████████▌ | 34/40 [10:16<01:38, 16.47s/it]"
     ]
    },
    {
     "name": "stdout",
     "output_type": "stream",
     "text": [
      "Early stopping at iteration 282\n"
     ]
    },
    {
     "name": "stderr",
     "output_type": "stream",
     "text": [
      " 88%|████████▊ | 35/40 [11:42<03:07, 37.50s/it]"
     ]
    },
    {
     "name": "stdout",
     "output_type": "stream",
     "text": [
      "Early stopping at iteration 38\n"
     ]
    },
    {
     "name": "stderr",
     "output_type": "stream",
     "text": [
      " 90%|█████████ | 36/40 [11:57<02:02, 30.62s/it]"
     ]
    },
    {
     "name": "stdout",
     "output_type": "stream",
     "text": [
      "Early stopping at iteration 12\n"
     ]
    },
    {
     "name": "stderr",
     "output_type": "stream",
     "text": [
      " 92%|█████████▎| 37/40 [12:02<01:08, 22.99s/it]"
     ]
    },
    {
     "name": "stdout",
     "output_type": "stream",
     "text": [
      "Early stopping at iteration 12\n"
     ]
    },
    {
     "name": "stderr",
     "output_type": "stream",
     "text": [
      " 95%|█████████▌| 38/40 [12:07<00:35, 17.63s/it]"
     ]
    },
    {
     "name": "stdout",
     "output_type": "stream",
     "text": [
      "Early stopping at iteration 74\n"
     ]
    },
    {
     "name": "stderr",
     "output_type": "stream",
     "text": [
      " 98%|█████████▊| 39/40 [12:31<00:19, 19.53s/it]"
     ]
    },
    {
     "name": "stdout",
     "output_type": "stream",
     "text": [
      "Early stopping at iteration 12\n"
     ]
    },
    {
     "name": "stderr",
     "output_type": "stream",
     "text": [
      "100%|██████████| 40/40 [12:37<00:00, 18.93s/it]\n",
      "100%|██████████| 40/40 [00:28<00:00,  1.42it/s]\n"
     ]
    },
    {
     "data": {
      "text/plain": [
       "<matplotlib.legend.Legend at 0xef6e5c7a0>"
      ]
     },
     "execution_count": 18,
     "metadata": {},
     "output_type": "execute_result"
    },
    {
     "data": {
      "image/png": "[encoded data removed]",
      "text/plain": [
       "<Figure size 1920x1440 with 1 Axes>"
      ]
     },
     "metadata": {},
     "output_type": "display_data"
    }
   ],
   "source": [
    "# Y is a uniform distribution over 10 classes\n",
    "obj_appd = numpyro.distributions.Categorical(jnp.ones(10) / 10)\n",
    "\n",
    "def process(x, eps):\n",
    "    x = jax.numpy.array(x.reshape(1, -1))\n",
    "    x_adv, _ = mlmc_attack(modelVI, x, appd=obj_appd, epsilon=eps, n_iter=400, lr=0.01)  # TODO DIFFERENT LR???\n",
    "    preds = modelVI.sample_predictive_distribution_probs(jax.random.PRNGKey(0), x_adv, 20)\n",
    "    return entropy(x_adv, preds)\n",
    "\n",
    "epsilons = [0.5, 1]\n",
    "num_points = 40\n",
    "for eps in epsilons:\n",
    "    #entropies = Parallel(n_jobs=4)(delayed(process)(x, eps) for x in tqdm(X_test[:80]))\n",
    "    entropies = [process(x, eps) for x in tqdm(X_test[:num_points])]\n",
    "    sns.histplot(jnp.array(entropies), kde=True, bins=10, alpha=0.)\n",
    "    \n",
    "unattacked_entropies = []\n",
    "for x in tqdm(X_test[:num_points]):\n",
    "    x = jax.numpy.array(x.reshape(1, -1))\n",
    "    preds = modelVI.sample_predictive_distribution_probs(jax.random.PRNGKey(0), x, 20)\n",
    "    unattacked_entropies.append(entropy(x, preds))\n",
    "\n",
    "sns.histplot(jnp.array(unattacked_entropies), kde=True, bins=10, alpha=0.)\n",
    "legend = ['Epsilon = ' + str(eps) for eps in epsilons] + ['Unattacked']\n",
    "plt.legend(legend)"
   ]
  },
  {
   "cell_type": "code",
   "execution_count": 16,
   "metadata": {},
   "outputs": [
    {
     "name": "stderr",
     "output_type": "stream",
     "text": [
      "  5%|▌         | 5/100 [12:21<3:55:46, 148.91s/it]"
     ]
    }
   ],
   "source": [
    "def process(x, eps):\n",
    "    x = jax.numpy.array(x.reshape(1, -1))\n",
    "    pred = modelVI.sample_predictive_distribution(jax.random.PRNGKey(0), x, 1)  # so obj_appd is just 1 point mass on pred\n",
    "    obj_appd = numpyro.distributions.Categorical(probs=jax.nn.one_hot(pred, 10))\n",
    "    \n",
    "    x_adv, _ = mlmc_attack(modelVI, x, appd=obj_appd, epsilon=eps, n_iter=400)\n",
    "    preds = modelVI.sample_predictive_distribution_probs(jax.random.PRNGKey(0), x_adv, 20)\n",
    "    return entropy(x_adv, preds)\n",
    "\n",
    "epsilons = [0.5, 1]\n",
    "num_points = 100\n",
    "for eps in epsilons:\n",
    "    #entropies = Parallel(n_jobs=4)(delayed(process)(x, eps) for x in tqdm(X_notmnist[:8]))  # TODO 80 points\n",
    "    entropies = [process(x, eps) for x in tqdm(X_notmnist[:num_points])]\n",
    "    sns.histplot(jnp.array(entropies), kde=True, bins=10, alpha=0.)\n",
    "\n",
    "unattacked_entropies = []\n",
    "for x in tqdm(X_notmnist[:num_points]):\n",
    "    x = jax.numpy.array(x.reshape(1, -1))\n",
    "    preds = modelVI.sample_predictive_distribution(jax.random.PRNGKey(0), x, 20)\n",
    "    unattacked_entropies.append(entropy(x, preds))\n",
    "\n",
    "sns.histplot(jnp.array(unattacked_entropies), kde=True, bins=10, alpha=0.)\n",
    "legend = ['Epsilon = ' + str(eps) for eps in epsilons] + ['Unattacked']\n",
    "plt.legend(legend)"
   ]
  }
 ],
 "metadata": {
  "kernelspec": {
   "display_name": "advReg",
   "language": "python",
   "name": "python3"
  },
  "language_info": {
   "codemirror_mode": {
    "name": "ipython",
    "version": 3
   },
   "file_extension": ".py",
   "mimetype": "text/x-python",
   "name": "python",
   "nbconvert_exporter": "python",
   "pygments_lexer": "ipython3",
   "version": "3.12.7"
  }
 },
 "nbformat": 4,
 "nbformat_minor": 2
}
