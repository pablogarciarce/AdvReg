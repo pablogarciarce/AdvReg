{
 "cells": [
  {
   "cell_type": "code",
   "execution_count": 1,
   "metadata": {},
   "outputs": [
    {
     "name": "stderr",
     "output_type": "stream",
     "text": [
      "/home/rnaveiro/anaconda3/envs/advReg/lib/python3.12/site-packages/tqdm/auto.py:21: TqdmWarning: IProgress not found. Please update jupyter and ipywidgets. See https://ipywidgets.readthedocs.io/en/stable/user_install.html\n",
      "  from .autonotebook import tqdm as notebook_tqdm\n"
     ]
    }
   ],
   "source": [
    "import numpy as np\n",
    "import pandas as pd\n",
    "import jax\n",
    "import jax.numpy as jnp\n",
    "import numpyro\n",
    "import numpyro.distributions as dist\n",
    "from numpyro.infer import MCMC, NUTS, Predictive\n",
    "from sklearn.datasets import fetch_openml\n",
    "from sklearn.preprocessing import StandardScaler, PolynomialFeatures\n",
    "from sklearn.model_selection import train_test_split\n",
    "from sklearn.metrics import mean_squared_error, r2_score\n",
    "import matplotlib.pyplot as plt"
   ]
  },
  {
   "cell_type": "markdown",
   "metadata": {},
   "source": [
    "# Load the dataset"
   ]
  },
  {
   "cell_type": "code",
   "execution_count": 23,
   "metadata": {},
   "outputs": [],
   "source": [
    "boston = fetch_openml(name=\"boston\", version=1, as_frame=False)\n",
    "X = boston.data\n",
    "y = boston.target"
   ]
  },
  {
   "cell_type": "markdown",
   "metadata": {},
   "source": [
    "# Scale features"
   ]
  },
  {
   "cell_type": "code",
   "execution_count": 24,
   "metadata": {},
   "outputs": [],
   "source": [
    "poly = PolynomialFeatures(degree=2, interaction_only=True, include_bias=False)\n",
    "X_interactions = poly.fit_transform(X)\n",
    "\n",
    "scaler = StandardScaler()\n",
    "X_scaled = scaler.fit_transform(X_interactions)"
   ]
  },
  {
   "cell_type": "markdown",
   "metadata": {},
   "source": [
    "# Train-test Split"
   ]
  },
  {
   "cell_type": "code",
   "execution_count": 25,
   "metadata": {},
   "outputs": [],
   "source": [
    "X_train, X_test, y_train, y_test = train_test_split(X_scaled, y, test_size=0.2, random_state=42)"
   ]
  },
  {
   "cell_type": "markdown",
   "metadata": {},
   "source": [
    "# Bayesian Linear Regression with Horseshoe Prior"
   ]
  },
  {
   "cell_type": "code",
   "execution_count": 26,
   "metadata": {},
   "outputs": [],
   "source": [
    "def model(X, y=None):\n",
    "    n_features = X.shape[1]\n",
    "    local_shrinkage = numpyro.sample('local_shrinkage', dist.HalfCauchy(scale=1.0).expand([n_features]).to_event(1))\n",
    "    global_shrinkage = numpyro.sample('global_shrinkage', dist.HalfCauchy(scale=1.0))\n",
    "    tau = global_shrinkage * local_shrinkage\n",
    "    beta = numpyro.sample('beta', dist.Normal(0, tau))\n",
    "    intercept = numpyro.sample('intercept', dist.Normal(0, 1))\n",
    "    mu = jnp.dot(X, beta) + intercept\n",
    "    sigma = numpyro.sample('sigma', dist.HalfCauchy(scale=1.0))\n",
    "    numpyro.sample('obs', dist.Normal(mu, sigma), obs=y)"
   ]
  },
  {
   "cell_type": "markdown",
   "metadata": {},
   "source": [
    "## MCMC"
   ]
  },
  {
   "cell_type": "code",
   "execution_count": 27,
   "metadata": {},
   "outputs": [
    {
     "name": "stderr",
     "output_type": "stream",
     "text": [
      "sample: 100%|██████████| 1500/1500 [00:14<00:00, 101.02it/s, 511 steps of size 6.25e-03. acc. prob=0.86] \n"
     ]
    },
    {
     "name": "stdout",
     "output_type": "stream",
     "text": [
      "\n",
      "                         mean       std    median      5.0%     95.0%     n_eff     r_hat\n",
      "            beta[0]     -0.97      2.59     -0.18     -5.34      1.87    132.58      1.00\n",
      "            beta[1]     -1.16      2.26     -0.43     -5.09      1.55    117.61      1.01\n",
      "            beta[2]      0.63      1.93      0.12     -1.55      4.37    151.36      1.00\n",
      "            beta[3]      5.86      4.78      5.31     -0.63     12.71     78.22      1.01\n",
      "            beta[4]      0.36      1.34      0.06     -1.61      2.20    240.55      1.00\n",
      "            beta[5]     12.89      2.50     12.74      9.27     17.11     54.16      1.00\n",
      "            beta[6]      1.52      2.84      0.33     -1.66      6.07    227.53      1.00\n",
      "            beta[7]     -1.83      3.00     -0.81     -5.51      2.05     86.54      1.00\n",
      "            beta[8]     14.94     12.87     16.26     -1.22     32.30     14.92      1.00\n",
      "            beta[9]      6.62      9.85      0.69     -3.65     23.60     14.09      1.00\n",
      "           beta[10]      0.57      1.75      0.11     -2.28      3.27    174.85      1.00\n",
      "           beta[11]      2.58      2.67      1.92     -0.90      6.40    129.19      1.00\n",
      "           beta[12]     14.40      5.63     14.97      5.69     24.40     85.73      1.00\n",
      "           beta[13]      0.11      0.24      0.07     -0.22      0.56    273.97      1.00\n",
      "           beta[14]     -0.15      2.51     -0.02     -3.28      3.04    280.04      1.01\n",
      "           beta[15]      1.91      0.45      1.92      1.21      2.69    304.33      1.00\n",
      "           beta[16]     -3.14      4.48     -1.08    -10.95      1.64     89.11      1.00\n",
      "           beta[17]      4.57      3.50      4.28     -0.42      9.65     83.45      1.00\n",
      "           beta[18]      0.08      1.27      0.00     -2.33      1.77    305.83      1.00\n",
      "           beta[19]     -0.53      0.89     -0.30     -2.14      0.60    292.81      1.00\n",
      "           beta[20]     -1.17      2.56     -0.29     -6.24      1.74    264.02      1.00\n",
      "           beta[21]     -0.76      2.73     -0.10     -5.20      2.46    170.94      1.00\n",
      "           beta[22]     -0.80      2.72     -0.12     -4.53      1.98    122.59      1.00\n",
      "           beta[23]     -0.33      0.41     -0.28     -1.00      0.26    255.90      1.01\n",
      "           beta[24]      2.13      2.18      1.63     -0.43      5.91     70.10      1.00\n",
      "           beta[25]     -0.20      0.35     -0.11     -0.85      0.27    316.98      1.00\n",
      "           beta[26]      0.08      0.23      0.04     -0.31      0.46    290.42      1.00\n",
      "           beta[27]     -0.53      1.40     -0.15     -2.91      1.40    326.25      1.00\n",
      "           beta[28]     -0.08      0.99     -0.01     -1.82      1.50    399.42      1.00\n",
      "           beta[29]     -0.02      0.41     -0.01     -0.67      0.70    291.76      1.01\n",
      "           beta[30]      0.58      0.80      0.33     -0.46      1.94    130.33      1.02\n",
      "           beta[31]     -0.18      0.40     -0.10     -0.87      0.45    211.40      1.00\n",
      "           beta[32]      1.28      1.15      1.10     -0.30      3.10    115.28      1.00\n",
      "           beta[33]      1.48      1.86      0.95     -0.77      4.98    123.40      1.00\n",
      "           beta[34]     -0.55      1.61     -0.19     -3.03      1.51    161.65      1.00\n",
      "           beta[35]     -0.72      0.57     -0.68     -1.57      0.13    173.54      1.00\n",
      "           beta[36]      0.14      0.64      0.06     -0.86      1.23    303.16      1.00\n",
      "           beta[37]      0.20      1.34      0.05     -1.68      2.46    381.46      1.00\n",
      "           beta[38]      0.76      1.81      0.22     -1.59      3.80    117.02      1.00\n",
      "           beta[39]      1.05      1.61      0.55     -0.77      3.92    185.43      1.00\n",
      "           beta[40]     -0.95      0.63     -0.90     -1.92      0.03    256.89      1.00\n",
      "           beta[41]     -0.00      1.28     -0.01     -1.74      2.29    166.52      1.00\n",
      "           beta[42]      2.85      2.15      2.74     -0.30      6.14    150.03      1.01\n",
      "           beta[43]     -1.87      2.58     -0.93     -5.80      1.38    110.94      1.01\n",
      "           beta[44]      0.52      1.23      0.20     -1.14      2.59    413.74      1.00\n",
      "           beta[45]     -1.70      1.59     -1.52     -4.40      0.53    222.52      1.00\n",
      "           beta[46]     -2.79      1.80     -2.72     -5.37      0.27    136.76      1.01\n",
      "           beta[47]     -3.81      2.63     -3.79     -7.70      0.22     92.98      1.00\n",
      "           beta[48]      0.15      0.74      0.06     -1.12      1.37    310.57      1.00\n",
      "           beta[49]     -0.27      0.75     -0.14     -1.65      0.77    340.60      1.00\n",
      "           beta[50]     -0.57      0.67     -0.45     -1.67      0.38    143.86      1.00\n",
      "           beta[51]     -0.33      1.17     -0.11     -2.06      1.74    255.11      1.00\n",
      "           beta[52]     -0.13      1.43     -0.03     -2.41      2.04    295.52      1.00\n",
      "           beta[53]      1.41      1.43      1.13     -0.43      3.85    125.75      1.01\n",
      "           beta[54]     -1.02      0.66     -0.98     -2.04      0.02    186.93      1.00\n",
      "           beta[55]     -0.33      1.03     -0.09     -1.92      1.14    302.52      1.00\n",
      "           beta[56]     -1.40      2.13     -0.65     -4.47      1.38    275.35      1.00\n",
      "           beta[57]     -0.45      0.96     -0.16     -2.01      0.92    289.15      1.00\n",
      "           beta[58]     -0.72      1.82     -0.23     -3.57      1.73    191.60      1.00\n",
      "           beta[59]     -0.59      1.55     -0.19     -3.29      1.38    272.36      1.03\n",
      "           beta[60]     -0.74      1.49     -0.33     -3.16      1.29    214.24      1.00\n",
      "           beta[61]     -0.01      0.85     -0.01     -1.46      1.41    297.73      1.00\n",
      "           beta[62]      0.69      1.80      0.13     -1.94      3.50    129.61      1.00\n",
      "           beta[63]     -0.47      1.24     -0.18     -2.66      1.06    246.01      1.00\n",
      "           beta[64]      0.03      1.31     -0.03     -1.82      1.90    130.64      1.00\n",
      "           beta[65]    -10.67      9.69    -12.29    -24.11      1.37     15.07      1.00\n",
      "           beta[66]    -10.04      8.97     -7.92    -21.96      0.99     13.99      1.00\n",
      "           beta[67]     -3.18      2.24     -2.93     -6.35      0.17    107.54      1.00\n",
      "           beta[68]     -0.22      1.34     -0.02     -2.47      1.85    218.44      1.00\n",
      "           beta[69]    -10.15      1.94    -10.07    -13.50     -7.15    318.93      1.00\n",
      "           beta[70]     -0.06      0.41     -0.01     -0.83      0.55    396.54      1.00\n",
      "           beta[71]      2.26      2.20      1.89     -0.68      5.68    150.91      1.00\n",
      "           beta[72]      0.33      1.88      0.09     -2.05      3.72    148.03      1.00\n",
      "           beta[73]     -0.39      1.23     -0.13     -2.34      1.33    385.09      1.01\n",
      "           beta[74]     -1.86      2.21     -1.14     -5.47      0.59    172.92      1.00\n",
      "           beta[75]     -0.85      1.12     -0.57     -2.79      0.59    190.58      1.01\n",
      "           beta[76]     -0.09      0.64     -0.02     -1.11      0.99     90.86      1.01\n",
      "           beta[77]     -0.60      0.91     -0.38     -2.19      0.73    133.49      1.00\n",
      "           beta[78]      0.90      1.71      0.32     -0.98      4.02    101.46      1.00\n",
      "           beta[79]      0.16      1.39      0.04     -2.02      2.25    278.08      1.00\n",
      "           beta[80]      0.63      0.88      0.35     -0.52      2.12    104.83      1.00\n",
      "           beta[81]     -0.59      1.71     -0.15     -3.47      1.80    220.23      1.01\n",
      "           beta[82]      1.60      4.44      0.21     -2.74      5.99     53.83      1.01\n",
      "           beta[83]     -0.19      0.77     -0.06     -1.40      1.03    402.50      1.01\n",
      "           beta[84]     -5.12      3.78     -5.96     -9.81      0.68     17.25      1.00\n",
      "           beta[85]      3.42      6.62      0.47     -4.16     13.81     42.42      1.00\n",
      "           beta[86]     -0.17      1.11     -0.08     -2.08      1.59    210.09      1.00\n",
      "           beta[87]     -4.88      4.96     -3.29    -12.62      0.95     18.07      1.00\n",
      "           beta[88]      0.60      1.44      0.21     -1.58      2.95    263.05      1.00\n",
      "           beta[89]      1.37      2.36      0.45     -1.71      5.24    103.30      1.00\n",
      "           beta[90]     -1.98      1.31     -1.94     -4.03      0.04    160.34      1.00\n",
      "   global_shrinkage      1.24      0.41      1.18      0.56      1.89     70.83      1.00\n",
      "          intercept     21.97      0.17     21.97     21.66     22.24    413.89      1.00\n",
      " local_shrinkage[0]      2.37      7.47      0.93      0.01      4.89    369.10      1.00\n",
      " local_shrinkage[1]      1.99      3.56      1.04      0.01      4.36    321.97      1.00\n",
      " local_shrinkage[2]      1.52      2.13      0.87      0.01      3.71    498.17      1.00\n",
      " local_shrinkage[3]      6.75     10.33      3.80      0.02     14.37    233.75      1.00\n",
      " local_shrinkage[4]      1.25      1.99      0.69      0.01      2.56    617.26      1.00\n",
      " local_shrinkage[5]     15.40     29.26      9.46      2.40     27.05    188.93      1.01\n",
      " local_shrinkage[6]      1.92      3.53      0.99      0.02      4.35    386.99      1.00\n",
      " local_shrinkage[7]      2.55      4.50      1.33      0.02      5.64    214.81      1.00\n",
      " local_shrinkage[8]     16.67     42.75      8.69      0.03     36.43    153.70      1.00\n",
      " local_shrinkage[9]      8.59     15.70      2.04      0.01     23.17     33.67      1.01\n",
      "local_shrinkage[10]      1.67      3.13      0.91      0.01      3.48    646.36      1.00\n",
      "local_shrinkage[11]      2.92      4.51      1.79      0.02      6.55    461.72      1.00\n",
      "local_shrinkage[12]     19.82     43.17     11.08      0.02     33.44    285.87      1.01\n",
      "local_shrinkage[13]      0.75      1.20      0.40      0.00      1.56    205.58      1.01\n",
      "local_shrinkage[14]      1.65      2.66      0.86      0.01      3.60    299.33      1.00\n",
      "local_shrinkage[15]      2.38      2.70      1.69      0.35      4.41    444.05      1.00\n",
      "local_shrinkage[16]      3.77      7.57      1.58      0.01      8.59    209.65      1.00\n",
      "local_shrinkage[17]      5.30     10.06      3.01      0.02     11.50    305.55      1.00\n",
      "local_shrinkage[18]      1.23      1.77      0.73      0.00      2.64    399.22      1.00\n",
      "local_shrinkage[19]      1.26      5.51      0.69      0.00      2.25    763.25      1.00\n",
      "local_shrinkage[20]      2.13      3.57      1.06      0.01      4.97    368.10      1.00\n",
      "local_shrinkage[21]      1.99      3.48      0.88      0.01      4.79    292.20      1.00\n",
      "local_shrinkage[22]      1.71      2.87      0.82      0.00      3.77    245.85      1.00\n",
      "local_shrinkage[23]      0.90      1.11      0.57      0.00      1.92    407.56      1.01\n",
      "local_shrinkage[24]      2.84      6.56      1.44      0.01      5.47    301.19      1.00\n",
      "local_shrinkage[25]      0.71      1.09      0.39      0.00      1.60    548.76      1.00\n",
      "local_shrinkage[26]      0.64      1.12      0.37      0.00      1.36    586.75      1.00\n",
      "local_shrinkage[27]      1.52      2.33      0.84      0.01      3.46    396.92      1.00\n",
      "local_shrinkage[28]      1.17      1.69      0.67      0.01      2.47    425.76      1.01\n",
      "local_shrinkage[29]      0.81      1.36      0.42      0.00      1.76    346.37      1.00\n",
      "local_shrinkage[30]      1.23      2.84      0.69      0.00      2.47    513.46      1.00\n",
      "local_shrinkage[31]      0.82      1.33      0.50      0.00      1.69    645.76      1.00\n",
      "local_shrinkage[32]      1.73      2.25      1.08      0.01      3.75    450.09      1.00\n",
      "local_shrinkage[33]      2.16      2.96      1.31      0.01      4.80    250.36      1.00\n",
      "local_shrinkage[34]      1.55      4.18      0.80      0.01      3.28    345.92      1.00\n",
      "local_shrinkage[35]      1.22      1.61      0.80      0.00      2.39    639.84      1.00\n",
      "local_shrinkage[36]      1.20      4.27      0.55      0.00      2.14    616.43      1.00\n",
      "local_shrinkage[37]      1.22      2.16      0.69      0.01      2.47    330.16      1.00\n",
      "local_shrinkage[38]      1.69      2.45      0.92      0.01      4.08    263.03      1.00\n",
      "local_shrinkage[39]      1.69      2.31      0.96      0.01      3.85    279.55      1.00\n",
      "local_shrinkage[40]      1.37      1.46      0.96      0.02      2.79    474.59      1.00\n",
      "local_shrinkage[41]      1.46      2.98      0.78      0.01      2.86    504.95      1.00\n",
      "local_shrinkage[42]      3.82      8.38      2.27      0.01      7.50    449.20      1.00\n",
      "local_shrinkage[43]      2.47      4.03      1.31      0.01      5.61    263.54      1.00\n",
      "local_shrinkage[44]      1.39      2.61      0.77      0.01      2.89    576.32      1.00\n",
      "local_shrinkage[45]      2.27      2.89      1.45      0.02      4.86    346.37      1.01\n",
      "local_shrinkage[46]      3.39      5.72      2.14      0.04      6.82    417.83      1.01\n",
      "local_shrinkage[47]      4.46      6.30      2.84      0.03      9.38    391.42      1.00\n",
      "local_shrinkage[48]      1.06      1.50      0.62      0.00      2.38    403.72      1.00\n",
      "local_shrinkage[49]      0.94      1.26      0.60      0.01      2.01    639.19      1.00\n",
      "local_shrinkage[50]      1.53      5.82      0.74      0.01      2.54    536.88      1.00\n",
      "local_shrinkage[51]      1.24      1.58      0.81      0.01      2.67    398.15      1.00\n",
      "local_shrinkage[52]      1.32      1.87      0.72      0.00      3.16    459.24      1.00\n",
      "local_shrinkage[53]      2.40      8.16      1.29      0.01      5.02    713.53      1.00\n",
      "local_shrinkage[54]      1.74      3.39      1.06      0.00      3.32    313.18      1.00\n",
      "local_shrinkage[55]      1.14      1.82      0.71      0.00      2.35    576.73      1.00\n",
      "local_shrinkage[56]      1.88      2.56      1.09      0.01      4.30    606.22      1.00\n",
      "local_shrinkage[57]      1.34      2.10      0.72      0.00      3.07    441.52      1.00\n",
      "local_shrinkage[58]      2.05      7.26      0.89      0.01      4.01    353.28      1.00\n",
      "local_shrinkage[59]      1.47      2.61      0.78      0.01      3.21    406.70      1.00\n",
      "local_shrinkage[60]      1.45      2.09      0.87      0.01      3.23    437.80      1.00\n",
      "local_shrinkage[61]      1.19      2.82      0.66      0.01      2.31    540.63      1.00\n",
      "local_shrinkage[62]      1.66      2.48      0.91      0.01      3.73    340.76      1.00\n",
      "local_shrinkage[63]      1.20      1.94      0.76      0.01      2.47    549.10      1.00\n",
      "local_shrinkage[64]      1.24      1.99      0.76      0.01      2.65    284.39      1.01\n",
      "local_shrinkage[65]     12.45     21.43      6.79      0.03     26.98     79.00      1.00\n",
      "local_shrinkage[66]     10.67     17.38      5.46      0.02     24.49     49.14      1.00\n",
      "local_shrinkage[67]      3.37      3.91      2.40      0.02      7.06    343.03      1.00\n",
      "local_shrinkage[68]      1.46      2.57      0.76      0.01      3.09    348.82      1.01\n",
      "local_shrinkage[69]     11.51     17.84      7.32      1.69     21.60    429.75      1.00\n",
      "local_shrinkage[70]      0.77      1.42      0.45      0.00      1.71    686.15      1.00\n",
      "local_shrinkage[71]      2.93      5.79      1.59      0.01      6.21    478.59      1.00\n",
      "local_shrinkage[72]      2.05      8.59      0.87      0.02      3.68    380.84      1.00\n",
      "local_shrinkage[73]      1.31      2.40      0.71      0.00      2.79    572.33      1.00\n",
      "local_shrinkage[74]      2.24      3.56      1.27      0.02      4.95    374.50      1.00\n",
      "local_shrinkage[75]      1.45      2.16      0.85      0.01      3.00    473.61      1.00\n",
      "local_shrinkage[76]      0.91      1.40      0.50      0.01      1.98    555.06      1.01\n",
      "local_shrinkage[77]      1.19      1.57      0.77      0.00      2.62    419.70      1.00\n",
      "local_shrinkage[78]      1.68      2.95      0.77      0.00      3.60    228.49      1.00\n",
      "local_shrinkage[79]      1.38      2.87      0.71      0.01      2.87    468.77      1.00\n",
      "local_shrinkage[80]      1.26      1.94      0.78      0.01      2.54    424.00      1.00\n",
      "local_shrinkage[81]      1.51      3.03      0.77      0.01      3.19    388.47      1.00\n",
      "local_shrinkage[82]      2.73      5.81      1.03      0.01      6.61    106.88      1.00\n",
      "local_shrinkage[83]      0.93      1.40      0.55      0.00      2.13    388.00      1.00\n",
      "local_shrinkage[84]      6.10     12.58      3.63      0.01     11.95    191.53      1.00\n",
      "local_shrinkage[85]      3.87      7.03      1.32      0.02     10.42    118.42      1.00\n",
      "local_shrinkage[86]      1.20      1.57      0.73      0.00      2.61    444.28      1.00\n",
      "local_shrinkage[87]      6.79     16.09      2.87      0.01     15.30    144.52      1.01\n",
      "local_shrinkage[88]      1.54      2.29      0.88      0.01      3.70    384.20      1.00\n",
      "local_shrinkage[89]      1.96      2.72      1.09      0.01      4.59    302.22      1.00\n",
      "local_shrinkage[90]      2.69      4.22      1.67      0.00      5.05    281.72      1.00\n",
      "              sigma      3.12      0.14      3.12      2.86      3.34    140.67      1.00\n",
      "\n",
      "Number of divergences: 259\n"
     ]
    }
   ],
   "source": [
    "num_samples = 1000\n",
    "num_warmup = 500\n",
    "nuts_kernel = NUTS(model)\n",
    "mcmc = MCMC(nuts_kernel, num_samples=num_samples, num_warmup=num_warmup, progress_bar=True)\n",
    "mcmc.run(jax.random.PRNGKey(0), X_train, y_train)\n",
    "mcmc.print_summary()"
   ]
  },
  {
   "cell_type": "markdown",
   "metadata": {},
   "source": [
    "## Sample from Predictive"
   ]
  },
  {
   "cell_type": "code",
   "execution_count": 28,
   "metadata": {},
   "outputs": [],
   "source": [
    "posterior_samples = mcmc.get_samples()\n",
    "predictive = Predictive(model, posterior_samples)\n",
    "predictions = predictive(jax.random.PRNGKey(1), X_test)['obs']\n",
    "pred_mean = jnp.mean(predictions, axis=0)"
   ]
  },
  {
   "cell_type": "code",
   "execution_count": 29,
   "metadata": {},
   "outputs": [
    {
     "name": "stdout",
     "output_type": "stream",
     "text": [
      "Mean Squared Error on Test Set: 11.23686385990292\n",
      "R² on Test Set: 0.8467709781815458\n"
     ]
    }
   ],
   "source": [
    "mse = mean_squared_error(y_test, pred_mean)\n",
    "r2 = r2_score(y_test, pred_mean)\n",
    "print(f'Mean Squared Error on Test Set: {mse}')\n",
    "print(f'R² on Test Set: {r2}')"
   ]
  },
  {
   "cell_type": "code",
   "execution_count": 30,
   "metadata": {},
   "outputs": [
    {
     "data": {
      "image/png": "[encoded data removed]",
      "text/plain": [
       "<Figure size 1000x600 with 1 Axes>"
      ]
     },
     "metadata": {},
     "output_type": "display_data"
    }
   ],
   "source": [
    "# Posterior samples from betas\n",
    "beta_samples = posterior_samples['beta']\n",
    "\n",
    "# Mean and credible intervals for betas\n",
    "beta_means = jnp.mean(beta_samples, axis=0)\n",
    "beta_lower = jnp.percentile(beta_samples, 2.5, axis=0)\n",
    "beta_upper = jnp.percentile(beta_samples, 97.5, axis=0)\n",
    "\n",
    "# Plot for feature importance\n",
    "plt.figure(figsize=(10, 6))\n",
    "plt.errorbar(range(len(beta_means)), beta_means, yerr=[beta_means - beta_lower, beta_upper - beta_means], fmt='o', capsize=5)\n",
    "plt.axhline(0, color='gray', linestyle='--')\n",
    "plt.xlabel('Covariate Index')\n",
    "plt.ylabel('Coefficient Value')\n",
    "plt.title('Posterior Intervals for Covariate Coefficients')\n",
    "plt.show()"
   ]
  },
  {
   "cell_type": "code",
   "execution_count": null,
   "metadata": {},
   "outputs": [],
   "source": []
  }
 ],
 "metadata": {
  "kernelspec": {
   "display_name": "Python 3",
   "language": "python",
   "name": "python3"
  },
  "language_info": {
   "codemirror_mode": {
    "name": "ipython",
    "version": 3
   },
   "file_extension": ".py",
   "mimetype": "text/x-python",
   "name": "python",
   "nbconvert_exporter": "python",
   "pygments_lexer": "ipython3",
   "version": "3.12.3"
  }
 },
 "nbformat": 4,
 "nbformat_minor": 2
}
