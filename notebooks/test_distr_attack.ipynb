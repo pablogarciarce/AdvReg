{
 "cells": [
  {
   "cell_type": "code",
   "execution_count": 5,
   "metadata": {},
   "outputs": [],
   "source": [
    "from src.models.conjugate_bayes_lin_reg import FlatPriorLinearRegression, NormalInverseGammaPriorLinearRegression, NormalKnownVariancePriorLinearRegression\n",
    "import numpy as np\n",
    "import torch\n",
    "import matplotlib.pyplot as plt\n",
    "from torch.optim import Adam\n",
    "import pandas as pd\n",
    "\n",
    "from sklearn.datasets import load_wine\n",
    "from sklearn.model_selection import train_test_split\n",
    "from sklearn.preprocessing import MinMaxScaler"
   ]
  },
  {
   "cell_type": "code",
   "execution_count": 2,
   "metadata": {},
   "outputs": [],
   "source": [
    "# Wine dataset with response in {0, 1, 2}, 13 features and 178 samples\n",
    "X, y = load_wine(return_X_y=True)"
   ]
  },
  {
   "cell_type": "code",
   "execution_count": 11,
   "metadata": {},
   "outputs": [],
   "source": [
    "# Wine Quality dataset with response in {3, 4, 5, 6, 7, 8}, 11 features and 4898 samples\n",
    "\n",
    "# URL to the Wine Quality dataset (for example, from UCI Machine Learning Repository)\n",
    "url = \"https://archive.ics.uci.edu/ml/machine-learning-databases/wine-quality/winequality-white.csv\"\n",
    "# Load the dataset directly into a Pandas DataFrame\n",
    "data = pd.read_csv(url, delimiter=\";\")\n",
    "\n",
    "X = data.iloc[:, :-1].values\n",
    "y = data.iloc[:, -1].values"
   ]
  },
  {
   "cell_type": "code",
   "execution_count": null,
   "metadata": {},
   "outputs": [],
   "source": [
    "# Normalize the data\n",
    "scaler = MinMaxScaler()\n",
    "X_normalized = scaler.fit_transform(X)\n",
    "# Add a column of ones for the bias term\n",
    "X_ones = np.c_[np.ones(X.shape[0]), X_normalized]\n",
    "\n",
    "X_train, X_test, y_train, y_test = train_test_split(X_ones, y, test_size=0.3, random_state=42)"
   ]
  },
  {
   "cell_type": "markdown",
   "metadata": {},
   "source": [
    "## Case 1: Analytical attack - Max disruption"
   ]
  },
  {
   "cell_type": "code",
   "execution_count": 4,
   "metadata": {},
   "outputs": [],
   "source": [
    "# Fit the model\n",
    "model = NormalKnownVariancePriorLinearRegression(prior_params={\n",
    "    'mu': torch.zeros(X_train.shape[1]), \n",
    "    'lam': torch.eye(X_train.shape[1]), \n",
    "    'sigma2': torch.tensor([1])},)\n",
    "data = {'X': torch.tensor(X_train, dtype=torch.float32), 'y': torch.tensor(y_train, dtype=torch.float32)}\n",
    "model.fit(data)"
   ]
  },
  {
   "cell_type": "code",
   "execution_count": 5,
   "metadata": {},
   "outputs": [],
   "source": [
    "def kl_div(mu_n, lam_n, sigma2, x, x_adv):\n",
    "    sigma2_A = x_adv.T @ torch.inverse(lam_n) @ x_adv + sigma2\n",
    "    mu_A = x_adv.T @ mu_n\n",
    "    sigma2_D = x.T @ torch.inverse(lam_n) @ x + sigma2\n",
    "    mu_D = x.T @ mu_n\n",
    "    kl = 0.5 * (torch.log(sigma2_D / sigma2_A) + (sigma2_A + (mu_A - mu_D)**2) / sigma2_D - 1)\n",
    "    return kl"
   ]
  },
  {
   "cell_type": "code",
   "execution_count": 6,
   "metadata": {},
   "outputs": [],
   "source": [
    "# kl minimization to find adversarial attacked to a trained model\n",
    "def kl_minimization(model, x, lr=0.01, n_iter=100, epsilon=.3):\n",
    "    x_adv_values = []\n",
    "    kl_values = []\n",
    "    \n",
    "    mu_n = model.mu\n",
    "    lam_n = model.lam\n",
    "    sigma2 = model.sigma2\n",
    "    x_adv = (x + torch.randn_like(x) * 0.01).clone().detach().requires_grad_(True)  # add some noise to the input so kl is not zero\n",
    "    optimizer = Adam([x_adv], lr=lr)\n",
    "    for _ in range(n_iter):\n",
    "        x_adv.requires_grad = True\n",
    "        optimizer.zero_grad()\n",
    "        kl = - kl_div(mu_n, lam_n, sigma2, x, x_adv)  # maximum disruption problem\n",
    "        kl.backward()\n",
    "        optimizer.step()\n",
    "        x_adv.grad.zero_()\n",
    "        \n",
    "        with torch.no_grad():\n",
    "            if torch.norm(x_adv - x, p=2) > epsilon:\n",
    "                x_adv = x + epsilon * (x_adv - x) / torch.norm(x_adv - x, p=2)\n",
    "            \n",
    "        x_adv_values.append(x_adv.clone().detach().numpy())\n",
    "        kl_values.append(kl.detach().item())\n",
    "\n",
    "    return x_adv.detach().numpy(), x_adv_values, kl_values "
   ]
  },
  {
   "cell_type": "code",
   "execution_count": 7,
   "metadata": {},
   "outputs": [
    {
     "name": "stderr",
     "output_type": "stream",
     "text": [
      "/tmp/ipykernel_326562/3086203720.py:2: UserWarning: The use of `x.T` on tensors of dimension other than 2 to reverse their shape is deprecated and it will throw an error in a future release. Consider `x.mT` to transpose batches of matrices or `x.permute(*torch.arange(x.ndim - 1, -1, -1))` to reverse the dimensions of a tensor. (Triggered internally at /opt/conda/conda-bld/pytorch_1716905991019/work/aten/src/ATen/native/TensorShape.cpp:3675.)\n",
      "  sigma2_A = x_adv.T @ torch.inverse(lam_n) @ x_adv + sigma2\n"
     ]
    }
   ],
   "source": [
    "# Attack example\n",
    "x = X_test[17,:].copy()\n",
    "x = torch.tensor(x, dtype=torch.float32)\n",
    "x_adv_distr, x_adv_values, kl_values = kl_minimization(model, x)"
   ]
  },
  {
   "cell_type": "code",
   "execution_count": 62,
   "metadata": {},
   "outputs": [
    {
     "name": "stdout",
     "output_type": "stream",
     "text": [
      "[1.0905532  0.202382   0.1517193  0.52731913 0.766045   0.16137284\n",
      " 0.27361834 0.20018966 0.60258293 0.40303457 0.16233222 0.60249215\n",
      " 0.45058197 0.17143686] \n",
      " [1.         0.27631579 0.0770751  0.61497326 0.69072165 0.08695652\n",
      " 0.35172414 0.26160338 0.50943396 0.31230284 0.07849829 0.67479675\n",
      " 0.53113553 0.2510699 ]\n"
     ]
    }
   ],
   "source": [
    "print(x_adv_distr, '\\n', X_test[17,:])"
   ]
  },
  {
   "cell_type": "code",
   "execution_count": 8,
   "metadata": {},
   "outputs": [
    {
     "data": {
      "text/plain": [
       "Text(0, 0.5, 'KL Divergence')"
      ]
     },
     "execution_count": 8,
     "metadata": {},
     "output_type": "execute_result"
    },
    {
     "data": {
      "image/png": "[encoded data removed]",
      "text/plain": [
       "<Figure size 640x480 with 1 Axes>"
      ]
     },
     "metadata": {},
     "output_type": "display_data"
    }
   ],
   "source": [
    "plt.plot(kl_values[:20])\n",
    "plt.xlabel('Iteration')\n",
    "plt.ylabel('KL Divergence')"
   ]
  },
  {
   "cell_type": "code",
   "execution_count": 9,
   "metadata": {},
   "outputs": [
    {
     "data": {
      "text/plain": [
       "Text(0.5, 0, 'y')"
      ]
     },
     "execution_count": 9,
     "metadata": {},
     "output_type": "execute_result"
    },
    {
     "data": {
      "image/png": "[encoded data removed]",
      "text/plain": [
       "<Figure size 640x480 with 1 Axes>"
      ]
     },
     "metadata": {},
     "output_type": "display_data"
    }
   ],
   "source": [
    "plt.hist(model.sample_predictive_distribution(\n",
    "    x,\n",
    "    num_samples=10000).numpy(), bins=50, alpha=0.5, label='Original')\n",
    "plt.hist(model.sample_predictive_distribution(\n",
    "    torch.tensor(x_adv_distr, dtype=torch.float32),\n",
    "    num_samples=10000).numpy(), bins=50, alpha=0.5, label='Adversarial')\n",
    "plt.legend()\n",
    "plt.xlabel('y')"
   ]
  },
  {
   "cell_type": "markdown",
   "metadata": {},
   "source": [
    "## Case 2: SGD attack"
   ]
  },
  {
   "cell_type": "code",
   "execution_count": 10,
   "metadata": {},
   "outputs": [],
   "source": [
    "# Fit the model\n",
    "model = NormalInverseGammaPriorLinearRegression(prior_params={\n",
    "    'mu': torch.zeros(X_train.shape[1]), \n",
    "    'lam': torch.eye(X_train.shape[1]), \n",
    "    'a': torch.tensor([1]), \n",
    "    'b': torch.tensor([1])},)\n",
    "data = {'X': torch.tensor(X_train, dtype=torch.float32), 'y': torch.tensor(y_train, dtype=torch.float32)}\n",
    "model.fit(data)"
   ]
  },
  {
   "cell_type": "code",
   "execution_count": 11,
   "metadata": {},
   "outputs": [],
   "source": [
    "# Function to sample gamma from pi(gamma | D)\n",
    "def sample_gamma(model, M):\n",
    "    a = model.a\n",
    "    b = model.b\n",
    "    mu = model.mu\n",
    "    lam = model.lam\n",
    "    sigma2 = torch.distributions.inverse_gamma.InverseGamma(a, b).sample((M,))\n",
    "    beta = torch.distributions.multivariate_normal.MultivariateNormal(mu, torch.inverse(lam) * sigma2.unsqueeze(1)).sample()\n",
    "    return [beta, sigma2]\n",
    "\n",
    "# Function pi(y | x', gamma)\n",
    "def pi(y, x, gamma):\n",
    "    return torch.distributions.normal.Normal(x @ gamma[0], gamma[1]).log_prob(y).exp()\n",
    "\n",
    "# Gradient of pi(y | x', gamma) with respect to x'\n",
    "# pi(y | x', gamma) is Normal(x' @ beta, sigma2) with beta = gamma[0] and sigma2 = gamma[1]\n",
    "def grad_pi(y, x, gamma):\n",
    "    distr = torch.distributions.normal.Normal(x @ gamma[0], gamma[1])\n",
    "    prob = distr.log_prob(y).exp()\n",
    "    grad = - (x @ gamma[0] - y) / gamma[1] * prob * gamma[0]\n",
    "    return grad\n"
   ]
  },
  {
   "cell_type": "code",
   "execution_count": 12,
   "metadata": {},
   "outputs": [],
   "source": [
    "# g_{x', M}(y)\n",
    "def g_x_prime_M(y, x_prime, gamma_samples):\n",
    "    M = gamma_samples[0].shape[0]\n",
    "    betas = gamma_samples[0]\n",
    "    sigmas = gamma_samples[1]\n",
    "    numerator = sum(grad_pi(y, x_prime, [betas[m], sigmas[m]]) for m in range(M)) / M\n",
    "    denominator = sum(pi(y, x_prime, [betas[m], sigmas[m]]) for m in range(M)) / M\n",
    "    return -numerator / denominator"
   ]
  },
  {
   "cell_type": "code",
   "execution_count": 13,
   "metadata": {},
   "outputs": [],
   "source": [
    "# Define sequence M_l\n",
    "M_sequence = [2**l for l in range(10)]"
   ]
  },
  {
   "cell_type": "code",
   "execution_count": 14,
   "metadata": {},
   "outputs": [],
   "source": [
    "# Compute Δg_{x', l}(y)\n",
    "def delta_g_x_prime_l(y, x_prime, l, model):\n",
    "    M_l = M_sequence[l]\n",
    "    M_l_minus_1 = M_sequence[l-1] if l > 0 else 0\n",
    "    gamma_samples_l = sample_gamma(model, M_l)\n",
    "    gamma_samples_l_minus_1 = sample_gamma(model, M_l_minus_1) if l > 0 else None\n",
    "\n",
    "    g_l = g_x_prime_M(y, x_prime, gamma_samples_l)\n",
    "    g_l_minus_1 = g_x_prime_M(y, x_prime, gamma_samples_l_minus_1) if l > 0 else 0\n",
    "\n",
    "    return g_l - g_l_minus_1"
   ]
  },
  {
   "cell_type": "code",
   "execution_count": 15,
   "metadata": {},
   "outputs": [
    {
     "name": "stdout",
     "output_type": "stream",
     "text": [
      "tensor([ 0.9094, -0.2175,  0.2998, -0.0795,  0.4790, -0.0607,  0.2319, -0.6883,\n",
      "        -0.0286, -0.0172,  0.2043, -0.0805, -0.5077, -0.3658])\n"
     ]
    }
   ],
   "source": [
    "# Define weights ω_l\n",
    "tau = 1.0  # Example tau value\n",
    "omega = [2**(-tau * l) for l in range(len(M_sequence))]\n",
    "omega = np.array(omega)\n",
    "omega /= omega.sum()  # Normalize\n",
    "\n",
    "# Estimate the gradient using MLMC\n",
    "def mlmc_gradient_estimator(y, x_prime, R, model):\n",
    "    l_indices = np.random.choice(len(M_sequence), size=R, p=omega)\n",
    "    estimates = []\n",
    "\n",
    "    for l in l_indices:\n",
    "        delta_g = delta_g_x_prime_l(y, x_prime, l, model)\n",
    "        estimates.append(delta_g / omega[l])\n",
    "        \n",
    "    return sum(estimates) / R\n",
    "\n",
    "# Example usage\n",
    "x = X_test[17,:].copy()\n",
    "x = torch.tensor(x, dtype=torch.float32)\n",
    "y = torch.tensor(y_test[17], dtype=torch.float32)\n",
    "R = 100\n",
    "\n",
    "gradient_estimate = mlmc_gradient_estimator(y, x, R, model)\n",
    "print(gradient_estimate)"
   ]
  },
  {
   "cell_type": "code",
   "execution_count": 16,
   "metadata": {},
   "outputs": [],
   "source": [
    "# Attack function to use the gradient estimator for maximum disruption\n",
    "def mlmc_attack(model, x, lr=0.01, n_iter=100, epsilon=.1, R=100):\n",
    "    x_adv_values = []\n",
    "    \n",
    "    x_adv = (x + torch.randn_like(x) * 0.01).clone().detach().requires_grad_(True)  # add some noise to the input so kl is not zero\n",
    "    optimizer = Adam([x_adv], lr=lr)\n",
    "\n",
    "    for _ in range(n_iter):\n",
    "        x_adv.requires_grad = True\n",
    "        optimizer.zero_grad()\n",
    "        y = model.sample_predictive_distribution(x_adv, num_samples=1)\n",
    "        gradient_estimate = mlmc_gradient_estimator(y, x_adv, R, model)\n",
    "        x_adv.grad = gradient_estimate.squeeze()\n",
    "        optimizer.step()\n",
    "        x_adv.grad.zero_()\n",
    "        \n",
    "        with torch.no_grad():\n",
    "            if torch.norm(x_adv - x, p=2) > epsilon:\n",
    "                x_adv = x + epsilon * (x_adv - x) / torch.norm(x_adv - x, p=2)\n",
    "            \n",
    "        x_adv_values.append(x_adv.clone().detach().numpy())\n",
    "\n",
    "    return x_adv.detach().numpy(), x_adv_values"
   ]
  },
  {
   "cell_type": "code",
   "execution_count": 17,
   "metadata": {},
   "outputs": [],
   "source": [
    "# Attack example\n",
    "x = X_test[17,:].copy()\n",
    "x = torch.tensor(x, dtype=torch.float32)\n",
    "x_adv_distr, x_adv_values = mlmc_attack(model, x)"
   ]
  },
  {
   "cell_type": "code",
   "execution_count": 235,
   "metadata": {},
   "outputs": [
    {
     "name": "stdout",
     "output_type": "stream",
     "text": [
      "[1.023222   0.23885472 0.1020321  0.58682495 0.7265773  0.10624107\n",
      " 0.3291748  0.25168097 0.48624483 0.32275254 0.10714054 0.64174753\n",
      " 0.49856982 0.22354369] \n",
      " [1.         0.27631579 0.0770751  0.61497326 0.69072165 0.08695652\n",
      " 0.35172414 0.26160338 0.50943396 0.31230284 0.07849829 0.67479675\n",
      " 0.53113553 0.2510699 ]\n"
     ]
    }
   ],
   "source": [
    "print(x_adv_distr, '\\n', X_test[17,:])"
   ]
  },
  {
   "cell_type": "code",
   "execution_count": 18,
   "metadata": {},
   "outputs": [
    {
     "data": {
      "text/plain": [
       "Text(0.5, 0, 'y')"
      ]
     },
     "execution_count": 18,
     "metadata": {},
     "output_type": "execute_result"
    },
    {
     "data": {
      "image/png": "[encoded data removed]",
      "text/plain": [
       "<Figure size 640x480 with 1 Axes>"
      ]
     },
     "metadata": {},
     "output_type": "display_data"
    }
   ],
   "source": [
    "plt.hist(model.sample_predictive_distribution(\n",
    "    x,\n",
    "    num_samples=10000).numpy(), bins=50, alpha=0.5, label='Original')\n",
    "plt.hist(model.sample_predictive_distribution(\n",
    "    torch.tensor(x_adv_distr, dtype=torch.float32),\n",
    "    num_samples=10000).numpy(), bins=50, alpha=0.5, label='Adversarial')\n",
    "plt.legend()\n",
    "plt.xlabel('y')"
   ]
  }
 ],
 "metadata": {
  "kernelspec": {
   "display_name": "AdvReg",
   "language": "python",
   "name": "python3"
  },
  "language_info": {
   "codemirror_mode": {
    "name": "ipython",
    "version": 3
   },
   "file_extension": ".py",
   "mimetype": "text/x-python",
   "name": "python",
   "nbconvert_exporter": "python",
   "pygments_lexer": "ipython3",
   "version": "3.12.3"
  }
 },
 "nbformat": 4,
 "nbformat_minor": 2
}
