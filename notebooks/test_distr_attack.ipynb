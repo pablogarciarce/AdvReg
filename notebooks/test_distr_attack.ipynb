{
 "cells": [
  {
   "cell_type": "markdown",
   "metadata": {},
   "source": [
    "## Imports and dataset"
   ]
  },
  {
   "cell_type": "code",
   "execution_count": 1,
   "metadata": {},
   "outputs": [],
   "source": [
    "from src.models.conjugate_bayes_lin_reg import FlatPriorLinearRegression, NormalInverseGammaPriorLinearRegression, NormalKnownVariancePriorLinearRegression\n",
    "import numpy as np\n",
    "import torch\n",
    "import matplotlib.pyplot as plt\n",
    "from torch.optim import Adam\n",
    "import pandas as pd\n",
    "\n",
    "from sklearn.datasets import load_wine\n",
    "from sklearn.model_selection import train_test_split\n",
    "from sklearn.preprocessing import MinMaxScaler"
   ]
  },
  {
   "cell_type": "code",
   "execution_count": 2,
   "metadata": {},
   "outputs": [],
   "source": [
    "# Wine dataset with response in {0, 1, 2}, 13 features and 178 samples\n",
    "X, y = load_wine(return_X_y=True)"
   ]
  },
  {
   "cell_type": "code",
   "execution_count": 3,
   "metadata": {},
   "outputs": [],
   "source": [
    "# Wine Quality dataset with response in {3, 4, 5, 6, 7, 8}, 11 features and 4898 samples\n",
    "\n",
    "# URL to the Wine Quality dataset (for example, from UCI Machine Learning Repository)\n",
    "url = \"https://archive.ics.uci.edu/ml/machine-learning-databases/wine-quality/winequality-white.csv\"\n",
    "# Load the dataset directly into a Pandas DataFrame\n",
    "data = pd.read_csv(url, delimiter=\";\")\n",
    "\n",
    "X = data.iloc[:, :-1].values\n",
    "y = data.iloc[:, -1].values"
   ]
  },
  {
   "cell_type": "code",
   "execution_count": 4,
   "metadata": {},
   "outputs": [],
   "source": [
    "# Normalize the data\n",
    "scaler = MinMaxScaler()\n",
    "X_normalized = scaler.fit_transform(X)\n",
    "# Add a column of ones for the bias term\n",
    "X_ones = np.c_[np.ones(X.shape[0]), X_normalized]\n",
    "\n",
    "X_train, X_test, y_train, y_test = train_test_split(X_ones, y, test_size=0.3, random_state=42)"
   ]
  },
  {
   "cell_type": "markdown",
   "metadata": {},
   "source": [
    "## Case 1: Analytical attack - Max disruption"
   ]
  },
  {
   "cell_type": "code",
   "execution_count": 5,
   "metadata": {},
   "outputs": [],
   "source": [
    "# Fit the model\n",
    "model = NormalKnownVariancePriorLinearRegression(prior_params={\n",
    "    'mu': torch.zeros(X_train.shape[1]), \n",
    "    'lam': torch.eye(X_train.shape[1]), \n",
    "    'sigma2': torch.tensor([1])},)\n",
    "data = {'X': torch.tensor(X_train, dtype=torch.float32), 'y': torch.tensor(y_train, dtype=torch.float32)}\n",
    "model.fit(data)"
   ]
  },
  {
   "cell_type": "code",
   "execution_count": 6,
   "metadata": {},
   "outputs": [],
   "source": [
    "def kl_div(mu_n, lam_n, sigma2, x, x_adv):\n",
    "    sigma2_A = x_adv.T @ torch.inverse(lam_n) @ x_adv + sigma2\n",
    "    mu_A = x_adv.T @ mu_n\n",
    "    sigma2_D = x.T @ torch.inverse(lam_n) @ x + sigma2\n",
    "    mu_D = x.T @ mu_n\n",
    "    kl = 0.5 * (torch.log(sigma2_D / sigma2_A) + (sigma2_A + (mu_A - mu_D)**2) / sigma2_D - 1)\n",
    "    return kl"
   ]
  },
  {
   "cell_type": "code",
   "execution_count": 7,
   "metadata": {},
   "outputs": [],
   "source": [
    "# kl minimization to find adversarial attacked to a trained model\n",
    "def kl_minimization(model, x, lr=0.01, n_iter=100, epsilon=.3):\n",
    "    x_adv_values = []\n",
    "    kl_values = []\n",
    "    \n",
    "    mu_n = model.mu\n",
    "    lam_n = model.lam\n",
    "    sigma2 = model.sigma2\n",
    "    x_adv = (x + torch.randn_like(x) * 0.01).clone().detach().requires_grad_(True)  # add some noise to the input so kl is not zero\n",
    "    optimizer = Adam([x_adv], lr=lr)\n",
    "    for _ in range(n_iter):\n",
    "        x_adv.requires_grad = True\n",
    "        optimizer.zero_grad()\n",
    "        kl = - kl_div(mu_n, lam_n, sigma2, x, x_adv)  # maximum disruption problem\n",
    "        kl.backward()\n",
    "        optimizer.step()\n",
    "        x_adv.grad.zero_()\n",
    "        \n",
    "        with torch.no_grad():\n",
    "            if torch.norm(x_adv - x, p=2) > epsilon:\n",
    "                x_adv = x + epsilon * (x_adv - x) / torch.norm(x_adv - x, p=2)\n",
    "            \n",
    "        x_adv_values.append(x_adv.clone().detach().numpy())\n",
    "        kl_values.append(kl.detach().item())\n",
    "\n",
    "    return x_adv.detach().numpy(), x_adv_values, kl_values "
   ]
  },
  {
   "cell_type": "code",
   "execution_count": 8,
   "metadata": {},
   "outputs": [
    {
     "name": "stderr",
     "output_type": "stream",
     "text": [
      "/tmp/ipykernel_2384389/3086203720.py:2: UserWarning: The use of `x.T` on tensors of dimension other than 2 to reverse their shape is deprecated and it will throw an error in a future release. Consider `x.mT` to transpose batches of matrices or `x.permute(*torch.arange(x.ndim - 1, -1, -1))` to reverse the dimensions of a tensor. (Triggered internally at /opt/conda/conda-bld/pytorch_1716905991019/work/aten/src/ATen/native/TensorShape.cpp:3675.)\n",
      "  sigma2_A = x_adv.T @ torch.inverse(lam_n) @ x_adv + sigma2\n"
     ]
    }
   ],
   "source": [
    "# Attack example\n",
    "x = X_test[17,:].copy()\n",
    "x = torch.tensor(x, dtype=torch.float32)\n",
    "x_adv_distr, x_adv_values, kl_values = kl_minimization(model, x, epsilon=0.3)"
   ]
  },
  {
   "cell_type": "code",
   "execution_count": 9,
   "metadata": {},
   "outputs": [
    {
     "name": "stdout",
     "output_type": "stream",
     "text": [
      "[ 0.9175345   0.24159312  0.14055994  0.26656395 -0.08742382  0.18773544\n",
      " -0.00752021  0.35780224  0.1644688   0.39091903  0.19450742  0.18303695] \n",
      " [1.         0.16346154 0.03921569 0.19879518 0.00613497 0.08605341\n",
      " 0.07317073 0.28306265 0.08733372 0.48181818 0.26744186 0.29032258]\n"
     ]
    }
   ],
   "source": [
    "print(x_adv_distr, '\\n', X_test[17,:])"
   ]
  },
  {
   "cell_type": "code",
   "execution_count": 10,
   "metadata": {},
   "outputs": [
    {
     "data": {
      "text/plain": [
       "Text(0, 0.5, 'KL Divergence')"
      ]
     },
     "execution_count": 10,
     "metadata": {},
     "output_type": "execute_result"
    },
    {
     "data": {
      "image/png": "[encoded data removed]",
      "text/plain": [
       "<Figure size 640x480 with 1 Axes>"
      ]
     },
     "metadata": {},
     "output_type": "display_data"
    }
   ],
   "source": [
    "plt.plot(kl_values[:20])\n",
    "plt.xlabel('Iteration')\n",
    "plt.ylabel('KL Divergence')"
   ]
  },
  {
   "cell_type": "code",
   "execution_count": 11,
   "metadata": {},
   "outputs": [
    {
     "data": {
      "text/plain": [
       "Text(0.5, 0, 'y')"
      ]
     },
     "execution_count": 11,
     "metadata": {},
     "output_type": "execute_result"
    },
    {
     "data": {
      "image/png": "[encoded data removed]",
      "text/plain": [
       "<Figure size 640x480 with 1 Axes>"
      ]
     },
     "metadata": {},
     "output_type": "display_data"
    }
   ],
   "source": [
    "plt.hist(model.sample_predictive_distribution(\n",
    "    x,\n",
    "    num_samples=10000).numpy(), bins=50, alpha=0.5, label='Original')\n",
    "plt.hist(model.sample_predictive_distribution(\n",
    "    torch.tensor(x_adv_distr, dtype=torch.float32),\n",
    "    num_samples=10000).numpy(), bins=50, alpha=0.5, label='Adversarial')\n",
    "plt.legend()\n",
    "plt.xlabel('y')"
   ]
  },
  {
   "cell_type": "markdown",
   "metadata": {},
   "source": [
    "## Case 2: SGD attack"
   ]
  },
  {
   "cell_type": "code",
   "execution_count": 31,
   "metadata": {},
   "outputs": [],
   "source": [
    "# Fit the model\n",
    "model = NormalInverseGammaPriorLinearRegression(prior_params={\n",
    "    'mu': torch.zeros(X_train.shape[1]), \n",
    "    'lam': torch.eye(X_train.shape[1]), \n",
    "    'a': torch.tensor([1]), \n",
    "    'b': torch.tensor([1])},)\n",
    "data = {'X': torch.tensor(X_train, dtype=torch.float32), 'y': torch.tensor(y_train, dtype=torch.float32)}\n",
    "model.fit(data)"
   ]
  },
  {
   "cell_type": "code",
   "execution_count": 48,
   "metadata": {},
   "outputs": [],
   "source": [
    "# Function pi(y | x', gamma)\n",
    "def pi(y, x, gamma):\n",
    "    return torch.distributions.normal.Normal(x @ gamma[0], gamma[1]).log_prob(y).exp()\n",
    "\n",
    "# Gradient of pi(y | x', gamma) with respect to x'\n",
    "# pi(y | x', gamma) is Normal(x' @ beta, sigma2) with beta = gamma[0] and sigma2 = gamma[1]\n",
    "def grad_pi(y, x, gamma):\n",
    "    distr = torch.distributions.normal.Normal(x @ gamma[0], gamma[1])\n",
    "    prob = distr.log_prob(y).exp().transpose(0, 1)\n",
    "    grad = - (x @ gamma[0] - y) / gamma[1] @ prob * gamma[0]\n",
    "    return grad\n"
   ]
  },
  {
   "cell_type": "code",
   "execution_count": 57,
   "metadata": {},
   "outputs": [],
   "source": [
    "# g_{x', M}(y)\n",
    "def g_x_prime_M(y, x_prime, gamma_samples):\n",
    "    M = gamma_samples[0].shape[1]\n",
    "    print(M, gamma_samples[0].shape, gamma_samples[1].shape)\n",
    "    betas = gamma_samples[0]\n",
    "    sigmas = gamma_samples[1]\n",
    "    numerator = sum(grad_pi(y, x_prime, [betas[:, m], sigmas[:, m]]) for m in range(M)) / M\n",
    "    denominator = sum(pi(y, x_prime, [betas[:, m], sigmas[:, m]]) for m in range(M)) / M\n",
    "    return -numerator / denominator"
   ]
  },
  {
   "cell_type": "code",
   "execution_count": 58,
   "metadata": {},
   "outputs": [],
   "source": [
    "# Define sequence M_l\n",
    "M_sequence = [2**l for l in range(10)]"
   ]
  },
  {
   "cell_type": "code",
   "execution_count": 59,
   "metadata": {},
   "outputs": [],
   "source": [
    "# Compute Δg_{x', l}(y)\n",
    "def delta_g_x_prime_l(y, x_prime, l, model):\n",
    "    M_l = M_sequence[l]\n",
    "    M_l_minus_1 = M_sequence[l-1] if l > 0 else 0\n",
    "    gamma_samples_l = model.sample_posterior_distribution(M_l)\n",
    "    gamma_samples_l_minus_1 = model.sample_posterior_distribution(M_l_minus_1) if l > 0 else None\n",
    "\n",
    "    g_l = g_x_prime_M(y, x_prime, gamma_samples_l)\n",
    "    g_l_minus_1 = g_x_prime_M(y, x_prime, gamma_samples_l_minus_1) if l > 0 else 0\n",
    "\n",
    "    return g_l - g_l_minus_1"
   ]
  },
  {
   "cell_type": "code",
   "execution_count": 60,
   "metadata": {},
   "outputs": [
    {
     "name": "stdout",
     "output_type": "stream",
     "text": [
      "4 torch.Size([12, 4]) torch.Size([1, 1, 4])\n"
     ]
    },
    {
     "ename": "IndexError",
     "evalue": "index 1 is out of bounds for dimension 1 with size 1",
     "output_type": "error",
     "traceback": [
      "\u001b[0;31m---------------------------------------------------------------------------\u001b[0m",
      "\u001b[0;31mIndexError\u001b[0m                                Traceback (most recent call last)",
      "Cell \u001b[0;32mIn[60], line 24\u001b[0m\n\u001b[1;32m     21\u001b[0m y \u001b[38;5;241m=\u001b[39m torch\u001b[38;5;241m.\u001b[39mtensor(y_test[\u001b[38;5;241m17\u001b[39m], dtype\u001b[38;5;241m=\u001b[39mtorch\u001b[38;5;241m.\u001b[39mfloat32)\n\u001b[1;32m     22\u001b[0m R \u001b[38;5;241m=\u001b[39m \u001b[38;5;241m100\u001b[39m\n\u001b[0;32m---> 24\u001b[0m gradient_estimate \u001b[38;5;241m=\u001b[39m \u001b[43mmlmc_gradient_estimator\u001b[49m\u001b[43m(\u001b[49m\u001b[43my\u001b[49m\u001b[43m,\u001b[49m\u001b[43m \u001b[49m\u001b[43mx\u001b[49m\u001b[43m,\u001b[49m\u001b[43m \u001b[49m\u001b[43mR\u001b[49m\u001b[43m,\u001b[49m\u001b[43m \u001b[49m\u001b[43mmodel\u001b[49m\u001b[43m)\u001b[49m\n\u001b[1;32m     25\u001b[0m \u001b[38;5;28mprint\u001b[39m(gradient_estimate)\n",
      "Cell \u001b[0;32mIn[60], line 13\u001b[0m, in \u001b[0;36mmlmc_gradient_estimator\u001b[0;34m(y, x_prime, R, model)\u001b[0m\n\u001b[1;32m     10\u001b[0m estimates \u001b[38;5;241m=\u001b[39m []\n\u001b[1;32m     12\u001b[0m \u001b[38;5;28;01mfor\u001b[39;00m l \u001b[38;5;129;01min\u001b[39;00m l_indices:\n\u001b[0;32m---> 13\u001b[0m     delta_g \u001b[38;5;241m=\u001b[39m \u001b[43mdelta_g_x_prime_l\u001b[49m\u001b[43m(\u001b[49m\u001b[43my\u001b[49m\u001b[43m,\u001b[49m\u001b[43m \u001b[49m\u001b[43mx_prime\u001b[49m\u001b[43m,\u001b[49m\u001b[43m \u001b[49m\u001b[43ml\u001b[49m\u001b[43m,\u001b[49m\u001b[43m \u001b[49m\u001b[43mmodel\u001b[49m\u001b[43m)\u001b[49m\n\u001b[1;32m     14\u001b[0m     estimates\u001b[38;5;241m.\u001b[39mappend(delta_g \u001b[38;5;241m/\u001b[39m omega[l])\n\u001b[1;32m     16\u001b[0m \u001b[38;5;28;01mreturn\u001b[39;00m \u001b[38;5;28msum\u001b[39m(estimates) \u001b[38;5;241m/\u001b[39m R\n",
      "Cell \u001b[0;32mIn[59], line 8\u001b[0m, in \u001b[0;36mdelta_g_x_prime_l\u001b[0;34m(y, x_prime, l, model)\u001b[0m\n\u001b[1;32m      5\u001b[0m gamma_samples_l \u001b[38;5;241m=\u001b[39m model\u001b[38;5;241m.\u001b[39msample_posterior_distribution(M_l)\n\u001b[1;32m      6\u001b[0m gamma_samples_l_minus_1 \u001b[38;5;241m=\u001b[39m model\u001b[38;5;241m.\u001b[39msample_posterior_distribution(M_l_minus_1) \u001b[38;5;28;01mif\u001b[39;00m l \u001b[38;5;241m>\u001b[39m \u001b[38;5;241m0\u001b[39m \u001b[38;5;28;01melse\u001b[39;00m \u001b[38;5;28;01mNone\u001b[39;00m\n\u001b[0;32m----> 8\u001b[0m g_l \u001b[38;5;241m=\u001b[39m \u001b[43mg_x_prime_M\u001b[49m\u001b[43m(\u001b[49m\u001b[43my\u001b[49m\u001b[43m,\u001b[49m\u001b[43m \u001b[49m\u001b[43mx_prime\u001b[49m\u001b[43m,\u001b[49m\u001b[43m \u001b[49m\u001b[43mgamma_samples_l\u001b[49m\u001b[43m)\u001b[49m\n\u001b[1;32m      9\u001b[0m g_l_minus_1 \u001b[38;5;241m=\u001b[39m g_x_prime_M(y, x_prime, gamma_samples_l_minus_1) \u001b[38;5;28;01mif\u001b[39;00m l \u001b[38;5;241m>\u001b[39m \u001b[38;5;241m0\u001b[39m \u001b[38;5;28;01melse\u001b[39;00m \u001b[38;5;241m0\u001b[39m\n\u001b[1;32m     11\u001b[0m \u001b[38;5;28;01mreturn\u001b[39;00m g_l \u001b[38;5;241m-\u001b[39m g_l_minus_1\n",
      "Cell \u001b[0;32mIn[57], line 7\u001b[0m, in \u001b[0;36mg_x_prime_M\u001b[0;34m(y, x_prime, gamma_samples)\u001b[0m\n\u001b[1;32m      5\u001b[0m betas \u001b[38;5;241m=\u001b[39m gamma_samples[\u001b[38;5;241m0\u001b[39m]\n\u001b[1;32m      6\u001b[0m sigmas \u001b[38;5;241m=\u001b[39m gamma_samples[\u001b[38;5;241m1\u001b[39m]\n\u001b[0;32m----> 7\u001b[0m numerator \u001b[38;5;241m=\u001b[39m \u001b[38;5;28;43msum\u001b[39;49m\u001b[43m(\u001b[49m\u001b[43mgrad_pi\u001b[49m\u001b[43m(\u001b[49m\u001b[43my\u001b[49m\u001b[43m,\u001b[49m\u001b[43m \u001b[49m\u001b[43mx_prime\u001b[49m\u001b[43m,\u001b[49m\u001b[43m \u001b[49m\u001b[43m[\u001b[49m\u001b[43mbetas\u001b[49m\u001b[43m[\u001b[49m\u001b[43m:\u001b[49m\u001b[43m,\u001b[49m\u001b[43m \u001b[49m\u001b[43mm\u001b[49m\u001b[43m]\u001b[49m\u001b[43m,\u001b[49m\u001b[43m \u001b[49m\u001b[43msigmas\u001b[49m\u001b[43m[\u001b[49m\u001b[43m:\u001b[49m\u001b[43m,\u001b[49m\u001b[43m \u001b[49m\u001b[43mm\u001b[49m\u001b[43m]\u001b[49m\u001b[43m]\u001b[49m\u001b[43m)\u001b[49m\u001b[43m \u001b[49m\u001b[38;5;28;43;01mfor\u001b[39;49;00m\u001b[43m \u001b[49m\u001b[43mm\u001b[49m\u001b[43m \u001b[49m\u001b[38;5;129;43;01min\u001b[39;49;00m\u001b[43m \u001b[49m\u001b[38;5;28;43mrange\u001b[39;49m\u001b[43m(\u001b[49m\u001b[43mM\u001b[49m\u001b[43m)\u001b[49m\u001b[43m)\u001b[49m \u001b[38;5;241m/\u001b[39m M\n\u001b[1;32m      8\u001b[0m denominator \u001b[38;5;241m=\u001b[39m \u001b[38;5;28msum\u001b[39m(pi(y, x_prime, [betas[:, m], sigmas[:, m]]) \u001b[38;5;28;01mfor\u001b[39;00m m \u001b[38;5;129;01min\u001b[39;00m \u001b[38;5;28mrange\u001b[39m(M)) \u001b[38;5;241m/\u001b[39m M\n\u001b[1;32m      9\u001b[0m \u001b[38;5;28;01mreturn\u001b[39;00m \u001b[38;5;241m-\u001b[39mnumerator \u001b[38;5;241m/\u001b[39m denominator\n",
      "Cell \u001b[0;32mIn[57], line 7\u001b[0m, in \u001b[0;36m<genexpr>\u001b[0;34m(.0)\u001b[0m\n\u001b[1;32m      5\u001b[0m betas \u001b[38;5;241m=\u001b[39m gamma_samples[\u001b[38;5;241m0\u001b[39m]\n\u001b[1;32m      6\u001b[0m sigmas \u001b[38;5;241m=\u001b[39m gamma_samples[\u001b[38;5;241m1\u001b[39m]\n\u001b[0;32m----> 7\u001b[0m numerator \u001b[38;5;241m=\u001b[39m \u001b[38;5;28msum\u001b[39m(grad_pi(y, x_prime, [betas[:, m], \u001b[43msigmas\u001b[49m\u001b[43m[\u001b[49m\u001b[43m:\u001b[49m\u001b[43m,\u001b[49m\u001b[43m \u001b[49m\u001b[43mm\u001b[49m\u001b[43m]\u001b[49m]) \u001b[38;5;28;01mfor\u001b[39;00m m \u001b[38;5;129;01min\u001b[39;00m \u001b[38;5;28mrange\u001b[39m(M)) \u001b[38;5;241m/\u001b[39m M\n\u001b[1;32m      8\u001b[0m denominator \u001b[38;5;241m=\u001b[39m \u001b[38;5;28msum\u001b[39m(pi(y, x_prime, [betas[:, m], sigmas[:, m]]) \u001b[38;5;28;01mfor\u001b[39;00m m \u001b[38;5;129;01min\u001b[39;00m \u001b[38;5;28mrange\u001b[39m(M)) \u001b[38;5;241m/\u001b[39m M\n\u001b[1;32m      9\u001b[0m \u001b[38;5;28;01mreturn\u001b[39;00m \u001b[38;5;241m-\u001b[39mnumerator \u001b[38;5;241m/\u001b[39m denominator\n",
      "\u001b[0;31mIndexError\u001b[0m: index 1 is out of bounds for dimension 1 with size 1"
     ]
    }
   ],
   "source": [
    "# Define weights ω_l\n",
    "tau = 1.0  # Example tau value\n",
    "omega = [2**(-tau * l) for l in range(len(M_sequence))]\n",
    "omega = np.array(omega)\n",
    "omega /= omega.sum()  # Normalize\n",
    "\n",
    "# Estimate the gradient using MLMC\n",
    "def mlmc_gradient_estimator(y, x_prime, R, model):\n",
    "    l_indices = np.random.choice(len(M_sequence), size=R, p=omega)\n",
    "    estimates = []\n",
    "\n",
    "    for l in l_indices:\n",
    "        delta_g = delta_g_x_prime_l(y, x_prime, l, model)\n",
    "        estimates.append(delta_g / omega[l])\n",
    "        \n",
    "    return sum(estimates) / R\n",
    "\n",
    "# Example usage\n",
    "x = X_test[17,:].copy()\n",
    "x = torch.tensor(x, dtype=torch.float32)\n",
    "y = torch.tensor(y_test[17], dtype=torch.float32)\n",
    "R = 100\n",
    "\n",
    "gradient_estimate = mlmc_gradient_estimator(y, x, R, model)\n",
    "print(gradient_estimate)"
   ]
  },
  {
   "cell_type": "code",
   "execution_count": 24,
   "metadata": {},
   "outputs": [],
   "source": [
    "# Attack function to use the gradient estimator for maximum disruption\n",
    "def mlmc_attack(model, x, lr=0.01, n_iter=100, epsilon=.1, R=100):\n",
    "    x_adv_values = []\n",
    "    \n",
    "    x_adv = (x + torch.randn_like(x) * 0.01).clone().detach().requires_grad_(True)  # add some noise to the input so kl is not zero\n",
    "    optimizer = Adam([x_adv], lr=lr)\n",
    "\n",
    "    for _ in range(n_iter):\n",
    "        x_adv.requires_grad = True\n",
    "        optimizer.zero_grad()\n",
    "        y = model.sample_predictive_distribution(x_adv, num_samples=1)\n",
    "        gradient_estimate = mlmc_gradient_estimator(y, x_adv, R, model)\n",
    "        x_adv.grad = gradient_estimate.squeeze()\n",
    "        optimizer.step()\n",
    "        x_adv.grad.zero_()\n",
    "        \n",
    "        with torch.no_grad():\n",
    "            if torch.norm(x_adv - x, p=2) > epsilon:\n",
    "                x_adv = x + epsilon * (x_adv - x) / torch.norm(x_adv - x, p=2)\n",
    "            \n",
    "        x_adv_values.append(x_adv.clone().detach().numpy())\n",
    "\n",
    "    return x_adv.detach().numpy(), x_adv_values"
   ]
  },
  {
   "cell_type": "code",
   "execution_count": 25,
   "metadata": {},
   "outputs": [],
   "source": [
    "# Attack example\n",
    "x = X_test[17,:].copy()\n",
    "x = torch.tensor(x, dtype=torch.float32)\n",
    "x_adv_distr, x_adv_values = mlmc_attack(model, x)"
   ]
  },
  {
   "cell_type": "code",
   "execution_count": 26,
   "metadata": {},
   "outputs": [
    {
     "name": "stdout",
     "output_type": "stream",
     "text": [
      "[1.0310178  0.1446681  0.0148524  0.17315216 0.02788009 0.09270402\n",
      " 0.1141254  0.24886116 0.06698839 0.51672995 0.2902202  0.3341158 ] \n",
      " [1.         0.16346154 0.03921569 0.19879518 0.00613497 0.08605341\n",
      " 0.07317073 0.28306265 0.08733372 0.48181818 0.26744186 0.29032258]\n"
     ]
    }
   ],
   "source": [
    "print(x_adv_distr, '\\n', X_test[17,:])"
   ]
  },
  {
   "cell_type": "code",
   "execution_count": 27,
   "metadata": {},
   "outputs": [
    {
     "data": {
      "text/plain": [
       "Text(0.5, 0, 'y')"
      ]
     },
     "execution_count": 27,
     "metadata": {},
     "output_type": "execute_result"
    },
    {
     "data": {
      "image/png": "[encoded data removed]",
      "text/plain": [
       "<Figure size 640x480 with 1 Axes>"
      ]
     },
     "metadata": {},
     "output_type": "display_data"
    }
   ],
   "source": [
    "plt.hist(model.sample_predictive_distribution(\n",
    "    x,\n",
    "    num_samples=10000).numpy(), bins=50, alpha=0.5, label='Original')\n",
    "plt.hist(model.sample_predictive_distribution(\n",
    "    torch.tensor(x_adv_distr, dtype=torch.float32),\n",
    "    num_samples=10000).numpy(), bins=50, alpha=0.5, label='Adversarial')\n",
    "plt.legend()\n",
    "plt.xlabel('y')"
   ]
  },
  {
   "cell_type": "markdown",
   "metadata": {},
   "source": [
    "### Case 2b: Same model as case 1"
   ]
  },
  {
   "cell_type": "code",
   "execution_count": 18,
   "metadata": {},
   "outputs": [],
   "source": [
    "# Fit the model\n",
    "model = NormalKnownVariancePriorLinearRegression(prior_params={\n",
    "    'mu': torch.zeros(X_train.shape[1]), \n",
    "    'lam': torch.eye(X_train.shape[1]), \n",
    "    'sigma2': torch.tensor([1])},)\n",
    "data = {'X': torch.tensor(X_train, dtype=torch.float32), 'y': torch.tensor(y_train, dtype=torch.float32)}\n",
    "model.fit(data)"
   ]
  },
  {
   "cell_type": "code",
   "execution_count": 19,
   "metadata": {},
   "outputs": [],
   "source": [
    "# g_{x', M}(y)\n",
    "def g_x_prime_M(y, x_prime, gamma_samples):\n",
    "    M = gamma_samples[0].shape[1]\n",
    "    betas = gamma_samples[0]\n",
    "    sigmas = gamma_samples[1]\n",
    "    numerator = sum(grad_pi(y, x_prime, [betas[:, m], sigmas]) for m in range(M)) / M\n",
    "    denominator = sum(pi(y, x_prime, [betas[:, m], sigmas]) for m in range(M)) / M\n",
    "    return -numerator / denominator"
   ]
  },
  {
   "cell_type": "code",
   "execution_count": 20,
   "metadata": {},
   "outputs": [
    {
     "name": "stdout",
     "output_type": "stream",
     "text": [
      "tensor([ 4.2252, -0.1054, -1.7644, -0.1401,  2.1439,  0.0093,  0.7316,  0.1149,\n",
      "        -2.3142,  0.2268,  0.4808,  1.5122])\n"
     ]
    }
   ],
   "source": [
    "# Define weights ω_l\n",
    "tau = 1.0  # Example tau value\n",
    "omega = [2**(-tau * l) for l in range(len(M_sequence))]\n",
    "omega = np.array(omega)\n",
    "omega /= omega.sum()  # Normalize\n",
    "\n",
    "# Estimate the gradient using MLMC\n",
    "def mlmc_gradient_estimator(y, x_prime, R, model):\n",
    "    l_indices = np.random.choice(len(M_sequence), size=R, p=omega)\n",
    "    estimates = []\n",
    "\n",
    "    for l in l_indices:\n",
    "        delta_g = delta_g_x_prime_l(y, x_prime, l, model)\n",
    "        estimates.append(delta_g / omega[l])\n",
    "        \n",
    "    return sum(estimates) / R\n",
    "\n",
    "# Example usage\n",
    "x = X_test[17,:].copy()\n",
    "x = torch.tensor(x, dtype=torch.float32)\n",
    "y = torch.tensor(y_test[17], dtype=torch.float32)\n",
    "R = 100\n",
    "\n",
    "gradient_estimate = mlmc_gradient_estimator(y, x, R, model)\n",
    "print(gradient_estimate)"
   ]
  },
  {
   "cell_type": "code",
   "execution_count": 21,
   "metadata": {},
   "outputs": [],
   "source": [
    "# Attack function to use the gradient estimator for maximum disruption\n",
    "def mlmc_attack(model, x, lr=0.01, n_iter=100, epsilon=.1, R=100):\n",
    "    x_adv_values = []\n",
    "    \n",
    "    x_adv = (x + torch.randn_like(x) * 0.01).clone().detach().requires_grad_(True)  # add some noise to the input so kl is not zero\n",
    "    optimizer = Adam([x_adv], lr=lr)\n",
    "\n",
    "    for _ in range(n_iter):\n",
    "        x_adv.requires_grad = True\n",
    "        optimizer.zero_grad()\n",
    "        y = model.sample_predictive_distribution(x_adv, num_samples=1)\n",
    "        gradient_estimate = mlmc_gradient_estimator(y, x_adv, R, model)\n",
    "        x_adv.grad = gradient_estimate.squeeze()\n",
    "        optimizer.step()\n",
    "        x_adv.grad.zero_()\n",
    "        \n",
    "        with torch.no_grad():\n",
    "            if torch.norm(x_adv - x, p=2) > epsilon:\n",
    "                x_adv = x + epsilon * (x_adv - x) / torch.norm(x_adv - x, p=2)\n",
    "            \n",
    "        x_adv_values.append(x_adv.clone().detach().numpy())\n",
    "\n",
    "    return x_adv.detach().numpy(), x_adv_values"
   ]
  },
  {
   "cell_type": "code",
   "execution_count": 23,
   "metadata": {},
   "outputs": [],
   "source": [
    "# Attack example\n",
    "x = X_test[17,:].copy()\n",
    "x = torch.tensor(x, dtype=torch.float32)\n",
    "x_adv_distr, x_adv_values = mlmc_attack(model, x, epsilon=0.3)"
   ]
  },
  {
   "cell_type": "code",
   "execution_count": 24,
   "metadata": {},
   "outputs": [
    {
     "data": {
      "text/plain": [
       "Text(0.5, 0, 'y')"
      ]
     },
     "execution_count": 24,
     "metadata": {},
     "output_type": "execute_result"
    },
    {
     "data": {
      "image/png": "[encoded data removed]",
      "text/plain": [
       "<Figure size 640x480 with 1 Axes>"
      ]
     },
     "metadata": {},
     "output_type": "display_data"
    }
   ],
   "source": [
    "plt.hist(model.sample_predictive_distribution(\n",
    "    x,\n",
    "    num_samples=10000).numpy(), bins=50, alpha=0.5, label='Original')\n",
    "plt.hist(model.sample_predictive_distribution(\n",
    "    torch.tensor(x_adv_distr, dtype=torch.float32),\n",
    "    num_samples=10000).numpy(), bins=50, alpha=0.5, label='Adversarial')\n",
    "plt.legend()\n",
    "plt.xlabel('y')"
   ]
  }
 ],
 "metadata": {
  "kernelspec": {
   "display_name": "AdvReg",
   "language": "python",
   "name": "python3"
  },
  "language_info": {
   "codemirror_mode": {
    "name": "ipython",
    "version": 3
   },
   "file_extension": ".py",
   "mimetype": "text/x-python",
   "name": "python",
   "nbconvert_exporter": "python",
   "pygments_lexer": "ipython3",
   "version": "3.12.3"
  }
 },
 "nbformat": 4,
 "nbformat_minor": 2
}
