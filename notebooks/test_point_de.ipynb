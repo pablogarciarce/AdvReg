{
 "cells": [
  {
   "cell_type": "markdown",
   "metadata": {},
   "source": [
    "## Imports and dataset"
   ]
  },
  {
   "cell_type": "code",
   "execution_count": 15,
   "metadata": {},
   "outputs": [],
   "source": [
    "from src.models.optimized_bnn import BayesianNN, DBNN\n",
    "from src.models.deep_ensemble import DeepEnsemble\n",
    "from src.attacks.point_attacks_jax import attack\n",
    "\n",
    "from src.utils import plot_ppds\n",
    "\n",
    "import numpy as np\n",
    "import pandas as pd\n",
    "import jax\n",
    "import jax.numpy as jnp\n",
    "import numpyro\n",
    "from tqdm import tqdm\n",
    "\n",
    "from sklearn.model_selection import train_test_split\n",
    "from sklearn.preprocessing import MinMaxScaler\n",
    "\n",
    "from joblib import Parallel, delayed"
   ]
  },
  {
   "cell_type": "code",
   "execution_count": 16,
   "metadata": {},
   "outputs": [],
   "source": [
    "import seaborn as sns\n",
    "import matplotlib.pyplot as plt\n",
    "\n",
    "sns.set_theme(style=\"whitegrid\", palette=\"muted\", font=\"serif\")\n",
    "\n",
    "sns.set_context(\"notebook\", font_scale=1.5, rc={\"lines.linewidth\": 2.5})\n",
    "plt.rcParams.update({\n",
    "    'axes.titlesize': 18,\n",
    "    'axes.labelsize': 14,\n",
    "    'xtick.labelsize': 12,\n",
    "    'ytick.labelsize': 12,\n",
    "    'axes.titleweight': 'bold',\n",
    "    'axes.edgecolor': 'black',\n",
    "    'axes.linewidth': 1,\n",
    "    'grid.alpha': 0.5,\n",
    "    'grid.linestyle': '--',\n",
    "    'legend.fontsize': 12,\n",
    "    'legend.frameon': False,\n",
    "    'figure.dpi': 300,  \n",
    "})"
   ]
  },
  {
   "cell_type": "code",
   "execution_count": 17,
   "metadata": {},
   "outputs": [],
   "source": [
    "import numpyro\n",
    "numpyro.set_host_device_count(8)"
   ]
  },
  {
   "cell_type": "code",
   "execution_count": 18,
   "metadata": {},
   "outputs": [],
   "source": [
    "# set all seeds for reproducibility\n",
    "seed = 42\n",
    "np.random.seed(seed)"
   ]
  },
  {
   "cell_type": "markdown",
   "metadata": {},
   "source": [
    "## MNIST - Reproducing Deep Ensemble results"
   ]
  },
  {
   "cell_type": "code",
   "execution_count": 19,
   "metadata": {},
   "outputs": [],
   "source": [
    "# load MNIST data without tensorflow\n",
    "from sklearn.datasets import fetch_openml\n",
    "\n",
    "# Load MNIST from OpenML\n",
    "mnist = fetch_openml('mnist_784', version=1)\n",
    "X, y = mnist.data.values, mnist.target.values\n",
    "X = X / 255.0  # Normalize pixel values to [0, 1]\n",
    "y = y.astype(int)\n",
    "y = jax.nn.one_hot(y, 10)\n",
    "\n",
    "# Split into training and testing datasets\n",
    "X_train, X_test = X[:60000], X[60000:]\n",
    "y_train, y_test = y[:60000], y[60000:]"
   ]
  },
  {
   "cell_type": "code",
   "execution_count": 20,
   "metadata": {},
   "outputs": [],
   "source": [
    "# Fit the model\n",
    "model = DeepEnsemble(input_dim=X_train.shape[1], hidden_units=200, output_dim=10, num_models=20, model_type='mnist_mlp')\n",
    "path = '/Users/pgarc/projects/AdvReg/src/models/weights/DE/mnist'\n",
    "try:\n",
    "    model.load(path)\n",
    "except FileNotFoundError:\n",
    "    print('Not model found, fitting the model') \n",
    "    model.fit(\n",
    "        X_train,\n",
    "        y_train,\n",
    "        300,\n",
    "        batch_size=2048\n",
    "    )\n",
    "    model.save(path)"
   ]
  },
  {
   "cell_type": "code",
   "execution_count": null,
   "metadata": {},
   "outputs": [],
   "source": [
    "# Make histogram of the entropy of the predictive distribution when using 1, 5 and 20 models for the ensemble\n",
    "all_entropies = []\n",
    "path = '/Users/pgarc/projects/AdvReg/src/models/weights/DE/mnist'\n",
    "\n",
    "for num_models in [1, 5, 20]:\n",
    "    model = DeepEnsemble(input_dim=X_train.shape[1], hidden_units=200, output_dim=10, num_models=num_models, model_type='mnist_mlp')\n",
    "    model.load(path)\n",
    "    entropies = []\n",
    "    for i in tqdm(range(100)):\n",
    "        x = X_test[i]\n",
    "        x = jax.numpy.array(x.reshape(1,-1))\n",
    "        probs = model.sample_predictive_distribution_probs(jax.random.PRNGKey(0), x, num_models)\n",
    "        entropies.append(- (probs * jax.numpy.log(probs) / jax.numpy.log(2)).sum())\n",
    "    all_entropies.append(entropies)\n",
    "\n",
    "plt.figure(figsize=(10, 6))\n",
    "sns.histplot(np.array(all_entropies).T, kde=True, bins=10, color='black', alpha=0.)\n",
    "plt.xlabel('Entropy of the predictive distribution')\n",
    "plt.ylabel('Density')\n",
    "plt.legend(['20 models', '5 models', '1 model'])\n",
    "plt.show()"
   ]
  },
  {
   "cell_type": "code",
   "execution_count": 22,
   "metadata": {},
   "outputs": [],
   "source": [
    "# Load notMNIST data without labels\n",
    "import os\n",
    "from PIL import Image\n",
    "import numpy as np\n",
    "\n",
    "# Ruta de la carpeta con imágenes\n",
    "folder_path = '../data/notMNIST_small'\n",
    "\n",
    "# Lista para almacenar las imágenes\n",
    "images = []\n",
    "\n",
    "for dirpath, dirnames, filenames in os.walk(folder_path):\n",
    "    for filename in filenames:\n",
    "        if filename.endswith('.png'):\n",
    "            img_path = os.path.join(dirpath, filename)\n",
    "            img = Image.open(img_path)\n",
    "            img_gray = img.convert('L')\n",
    "            img_array = np.array(img_gray)\n",
    "            images.append(img_array)\n",
    "\n",
    "X_notmnist = np.array(images).reshape(-1, 28*28) / 255.0"
   ]
  },
  {
   "cell_type": "code",
   "execution_count": null,
   "metadata": {},
   "outputs": [],
   "source": [
    "# Make histogram of the entropy of the predictive distribution when using 1, 5 and 20 models for the ensemble\n",
    "all_entropies = []\n",
    "path = '/Users/pgarc/projects/AdvReg/src/models/weights/DE/mnist'\n",
    "\n",
    "rng = jax.random.PRNGKey(0)\n",
    "for num_models in [1, 5, 20]:\n",
    "    model = DeepEnsemble(input_dim=X_train.shape[1], hidden_units=200, output_dim=10, num_models=num_models, model_type='mnist_mlp')\n",
    "    model.load(path)\n",
    "    entropies = []\n",
    "    for i in tqdm(range(100)):\n",
    "        x = X_notmnist[i]\n",
    "        x = jax.numpy.array(x.reshape(1,-1))\n",
    "        rng, sample_rng = jax.random.split(rng)\n",
    "        pred = model.sample_predictive_distribution_probs(sample_rng, x, num_models)\n",
    "        entropies.append((jax.scipy.special.entr(pred) / jax.numpy.log(2)).sum())\n",
    "    all_entropies.append(entropies)\n",
    "\n",
    "plt.figure(figsize=(10, 6))\n",
    "sns.histplot(np.array(all_entropies).T, kde=True, bins=10, color='black', alpha=0.)\n",
    "plt.xlabel('Entropy of the predictive distribution')\n",
    "plt.ylabel('Density')\n",
    "plt.legend(['20 models', '5 models', '1 model'])\n",
    "plt.show()"
   ]
  },
  {
   "cell_type": "markdown",
   "metadata": {},
   "source": [
    "## Trying to break them"
   ]
  },
  {
   "cell_type": "code",
   "execution_count": 24,
   "metadata": {},
   "outputs": [],
   "source": [
    "# Attack notMNIST data to lower the entropy of the predictive distribution\n",
    "path = '/Users/pgarc/projects/AdvReg/src/models/weights/DE/mnist'\n",
    "model = DeepEnsemble(input_dim=X_train.shape[1], hidden_units=200, output_dim=10, num_models=20, model_type='mnist_mlp')\n",
    "model.load(path)\n",
    "\n",
    "def entropy(x, pred):\n",
    "    pred = pred.mean(axis=0)\n",
    "    pred += 1e-8\n",
    "    entr = - (pred * jnp.log(pred)).sum() / jnp.log(2)\n",
    "    return entr"
   ]
  },
  {
   "cell_type": "code",
   "execution_count": 25,
   "metadata": {},
   "outputs": [],
   "source": [
    "epsilons = [.2, .5, 1]\n",
    "num_points = 40"
   ]
  },
  {
   "cell_type": "code",
   "execution_count": null,
   "metadata": {},
   "outputs": [],
   "source": [
    "G = 20  # we want to rise the entropy of the predictive distribution\n",
    "\n",
    "unattacked_entropies = []\n",
    "rng = jax.random.PRNGKey(0)\n",
    "for x in tqdm(X_test[:num_points]):\n",
    "    x = jax.numpy.array(x.reshape(1, -1))\n",
    "    rng, sample_rng = jax.random.split(rng)\n",
    "    preds = model.sample_predictive_distribution_probs(sample_rng, x, 20)\n",
    "    unattacked_entropies.append(entropy(x, preds))\n",
    "sns.kdeplot(jnp.array(unattacked_entropies), clip=(0, 10))\n",
    "\n",
    "def process(x, eps):\n",
    "    x = jax.numpy.array(x.reshape(1, -1))\n",
    "    x_adv_values, loss_values, func_values = attack(x, model, G, func=entropy, samples_per_iteration=20, epsilon=eps, num_iterations=1000, learning_rate=1e-2)\n",
    "    preds = model.sample_predictive_distribution_probs(jax.random.PRNGKey(0), x_adv_values[-1], 20)\n",
    "    return entropy(x_adv_values[-1], preds)\n",
    "\n",
    "for eps in epsilons:\n",
    "    entropies = Parallel(n_jobs=8)(delayed(process)(x, eps) for x in tqdm(X_test[:num_points]))\n",
    "    sns.kdeplot(jnp.array(entropies), clip=(0, 10))\n",
    "    \n",
    "legend = ['Unattacked'] + ['Epsilon = ' + str(eps) for eps in epsilons] \n",
    "plt.legend(legend)"
   ]
  },
  {
   "cell_type": "code",
   "execution_count": null,
   "metadata": {},
   "outputs": [],
   "source": [
    "G = 0  # we want to lower the entropy of the predictive distribution\n",
    "\n",
    "unattacked_entropies = []\n",
    "rng = jax.random.PRNGKey(0)\n",
    "for x in tqdm(X_notmnist[:num_points]):\n",
    "    x = jax.numpy.array(x.reshape(1, -1))\n",
    "    rng, sample_rng = jax.random.split(rng)\n",
    "    preds = model.sample_predictive_distribution_probs(sample_rng, x, 20)\n",
    "    unattacked_entropies.append(entropy(x, preds))\n",
    "sns.kdeplot(jnp.array(unattacked_entropies), clip=(0, 10))\n",
    "\n",
    "def process(x, eps):\n",
    "    x = jax.numpy.array(x.reshape(1, -1))\n",
    "    x_adv_values, loss_values, func_values = attack(x, model, G, func=entropy, samples_per_iteration=20, epsilon=eps, num_iterations=1000, learning_rate=1e-2)\n",
    "    preds = model.sample_predictive_distribution_probs(jax.random.PRNGKey(0), x_adv_values[-1], 20)\n",
    "    return entropy(x_adv_values[-1], preds)\n",
    "\n",
    "epsilons = [.2, .5, 1, 2, 3]\n",
    "num_points = 40\n",
    "for eps in epsilons:\n",
    "    entropies = Parallel(n_jobs=8)(delayed(process)(x, eps) for x in tqdm(X_notmnist[:num_points]))\n",
    "    sns.kdeplot(jnp.array(entropies), clip=(0, 10))\n",
    "\n",
    "legend = ['Unattacked'] + ['Epsilon = ' + str(eps) for eps in epsilons] \n",
    "plt.legend(legend)"
   ]
  }
 ],
 "metadata": {
  "kernelspec": {
   "display_name": "advReg",
   "language": "python",
   "name": "python3"
  },
  "language_info": {
   "codemirror_mode": {
    "name": "ipython",
    "version": 3
   },
   "file_extension": ".py",
   "mimetype": "text/x-python",
   "name": "python",
   "nbconvert_exporter": "python",
   "pygments_lexer": "ipython3",
   "version": "3.12.7"
  }
 },
 "nbformat": 4,
 "nbformat_minor": 2
}
