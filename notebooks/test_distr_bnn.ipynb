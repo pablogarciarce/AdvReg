{
 "cells": [
  {
   "cell_type": "markdown",
   "metadata": {},
   "source": [
    "## Imports and dataset"
   ]
  },
  {
   "cell_type": "code",
   "execution_count": null,
   "metadata": {},
   "outputs": [],
   "source": [
    "from src.models.bayesian_nn import BayesianNN\n",
    "from src.utils import plot_ppds\n",
    "\n",
    "from src.attacks.distr_attacks_bnn import fgsm_attack, mlmc_attack, kl_to_appd\n",
    "\n",
    "import numpy as np\n",
    "import torch\n",
    "import pandas as pd\n",
    "import jax\n",
    "\n",
    "from sklearn.model_selection import train_test_split\n",
    "from sklearn.preprocessing import MinMaxScaler\n",
    "\n",
    "from joblib import Parallel, delayed"
   ]
  },
  {
   "cell_type": "code",
   "execution_count": 2,
   "metadata": {},
   "outputs": [],
   "source": [
    "import seaborn as sns\n",
    "import matplotlib.pyplot as plt\n",
    "\n",
    "sns.set_theme(style=\"whitegrid\", palette=\"muted\", font=\"serif\")\n",
    "\n",
    "sns.set_context(\"notebook\", font_scale=1.5, rc={\"lines.linewidth\": 2.5})\n",
    "plt.rcParams.update({\n",
    "    'axes.titlesize': 18,\n",
    "    'axes.labelsize': 14,\n",
    "    'xtick.labelsize': 12,\n",
    "    'ytick.labelsize': 12,\n",
    "    'axes.titleweight': 'bold',\n",
    "    'axes.edgecolor': 'black',\n",
    "    'axes.linewidth': 1,\n",
    "    'grid.alpha': 0.5,\n",
    "    'grid.linestyle': '--',\n",
    "    'legend.fontsize': 12,\n",
    "    'legend.frameon': False,\n",
    "    'figure.dpi': 300,  \n",
    "})"
   ]
  },
  {
   "cell_type": "code",
   "execution_count": null,
   "metadata": {},
   "outputs": [],
   "source": [
    "import numpyro\n",
    "numpyro.set_host_device_count(88)"
   ]
  },
  {
   "cell_type": "code",
   "execution_count": null,
   "metadata": {},
   "outputs": [],
   "source": [
    "# set all seeds for reproducibility\n",
    "seed = 42\n",
    "np.random.seed(seed)\n",
    "torch.manual_seed(seed)"
   ]
  },
  {
   "cell_type": "markdown",
   "metadata": {},
   "source": [
    "# Wine dataset"
   ]
  },
  {
   "cell_type": "code",
   "execution_count": 4,
   "metadata": {},
   "outputs": [],
   "source": [
    "# Wine Quality dataset with response in {3, 4, 5, 6, 7, 8}, 11 features and 4898 samples\n",
    "\n",
    "# URL to the Wine Quality dataset (for example, from UCI Machine Learning Repository)\n",
    "url = \"https://archive.ics.uci.edu/ml/machine-learning-databases/wine-quality/winequality-white.csv\"\n",
    "# Load the dataset directly into a Pandas DataFrame\n",
    "data = pd.read_csv(url, delimiter=\";\")\n",
    "\n",
    "X = data.iloc[:, :-1].values\n",
    "y = data.iloc[:, -1].values"
   ]
  },
  {
   "cell_type": "code",
   "execution_count": 5,
   "metadata": {},
   "outputs": [],
   "source": [
    "# Normalize the data\n",
    "scaler = MinMaxScaler()\n",
    "X_normalized = scaler.fit_transform(X)\n",
    "\n",
    "X_train, X_test, y_train, y_test = train_test_split(X_normalized, y, test_size=0.3, random_state=42)"
   ]
  },
  {
   "cell_type": "code",
   "execution_count": null,
   "metadata": {},
   "outputs": [],
   "source": [
    "# Fit the model\n",
    "model = BayesianNN(input_dim=X_train.shape[1], hidden_units=3)\n",
    "try:\n",
    "    model.load('../src/models/bayesian_3nn')\n",
    "except FileNotFoundError:   \n",
    "    print('Not model found, fitting the model') \n",
    "    model.fit(\n",
    "        X_train, \n",
    "        y_train,\n",
    "        num_warmup=500,\n",
    "        num_samples=1000,\n",
    "        num_chains=88,\n",
    "    )\n",
    "    model.save('../src/models/bayesian_3nn')"
   ]
  },
  {
   "cell_type": "markdown",
   "metadata": {},
   "source": [
    "#### appd = N(2mu, 2var)"
   ]
  },
  {
   "cell_type": "code",
   "execution_count": null,
   "metadata": {},
   "outputs": [],
   "source": [
    "# plot KL divergence as a function of the strength of the attack\n",
    "n_jobs = 66\n",
    "x = X_test[17,:].copy()\n",
    "x = torch.tensor(x, dtype=torch.float32).unsqueeze(1)\n",
    "sigma2 = jax.device_get(model.sample_posterior_distribution(1000)['sigma2'].mean())\n",
    "std = model.sample_predictive_distribution(x, 1000).std()\n",
    "mu = model.sample_predictive_distribution(x, 1000).mean()\n",
    "appd = torch.distributions.normal.Normal(2 * mu, 2 * std)\n",
    "\n",
    "# Function to calculate KL divergence for a given epsilon\n",
    "def compute_kl_divergence(epsilon):\n",
    "    x_adv_distr, _ = mlmc_attack(model, x, appd, epsilon=epsilon, R=10, lr=0.001, n_iter=1000, verbose=False)\n",
    "    mu_adv = model.sample_predictive_distribution(x_adv_distr, 1000).mean()\n",
    "    sigma2_adv = model.sample_predictive_distribution(x_adv_distr, 1000).var()\n",
    "    kl = kl_to_appd(mu_adv, sigma2_adv, 2 * mu, 4 * std ** 2).item()\n",
    "    x_fgsm = fgsm_attack(model, x, epsilon=epsilon, R=10)\n",
    "    mu_fgsm = model.sample_predictive_distribution(x_fgsm, 1000).mean()\n",
    "    sigma2_fgsm = model.sample_predictive_distribution(x_fgsm, 1000).var()\n",
    "    kl_fgsm = kl_to_appd(mu_fgsm, sigma2_fgsm, 2 * mu, 4 * std ** 2).item()\n",
    "    return kl, kl_fgsm\n",
    "\n",
    "\n",
    "# Define the range of epsilon values\n",
    "epsilons = np.linspace(0, 1, 10)\n",
    "kl_alls = []\n",
    "\n",
    "for _ in range(3):\n",
    "    print(_)\n",
    "    # Use joblib to parallelize the computation of KL divergences\n",
    "    #kl_values = Parallel(n_jobs=n_jobs)(delayed(compute_kl_divergence)(epsilon) for epsilon in epsilons)\n",
    "    kl_values = []\n",
    "    for epsilon in epsilons:\n",
    "        try:\n",
    "            kl_values.append(compute_kl_divergence(epsilon))\n",
    "        except:\n",
    "            kl_values.append([np.nan, np.nan])\n",
    "    kl_alls.append(kl_values)\n",
    "\n",
    "kl_mlmc_1000 = np.array(kl_alls)[:, :, 0]\n",
    "kl_fsgm_1000 = np.array(kl_alls)[:, :, 1]\n"
   ]
  },
  {
   "cell_type": "code",
   "execution_count": null,
   "metadata": {},
   "outputs": [],
   "source": [
    "# error bars as std\n",
    "plt.errorbar(epsilons, np.mean(kl_fsgm_1000, axis=0), yerr=2*np.std(kl_fsgm_1000, axis=0), label='FGSM')\n",
    "plt.errorbar(epsilons, np.mean(kl_mlmc_1000, axis=0), yerr=2*np.std(kl_mlmc_1000, axis=0), label='MLMC')\n",
    "plt.legend()\n",
    "plt.xlabel('$\\epsilon$')\n",
    "plt.ylabel('KL Divergence')\n",
    "plt.ylim(-0.1, np.max(kl_mlmc_1000) + 0.1)"
   ]
  },
  {
   "cell_type": "code",
   "execution_count": null,
   "metadata": {},
   "outputs": [],
   "source": [
    "#plt.errorbar(epsilons, np.mean(kl_fsgm_1000, axis=0), yerr=2*np.std(kl_fsgm_1000, axis=0), label='FGSM')\n",
    "plt.errorbar(epsilons, np.mean(kl_mlmc_1000, axis=0), yerr=2*np.std(kl_mlmc_1000, axis=0), label='MLMC')\n",
    "plt.legend()\n",
    "plt.xlabel('$\\epsilon$')\n",
    "plt.ylabel('KL Divergence')\n",
    "plt.ylim(-0.1, np.max(kl_mlmc_1000) + 0.1)"
   ]
  },
  {
   "cell_type": "markdown",
   "metadata": {},
   "source": [
    "#### appd = N(mu, 2var)"
   ]
  },
  {
   "cell_type": "code",
   "execution_count": null,
   "metadata": {},
   "outputs": [],
   "source": [
    "# Attack example\n",
    "x = X_test[17,:].copy()\n",
    "x = torch.tensor(x, dtype=torch.float32).unsqueeze(1)\n",
    "std = model.sample_predictive_distribution(x, 1000).std()\n",
    "mu = model.sample_predictive_distribution(x, 1000).mean()\n",
    "appd = torch.distributions.normal.Normal(mu, 2 * std)\n",
    "x_adv_distr, x_adv_values = mlmc_attack(model, x, appd=appd, epsilon=2, R=10, lr=0.001, n_iter=1000)\n",
    "plot_ppds(model, x, x_adv_distr, appd)"
   ]
  },
  {
   "cell_type": "markdown",
   "metadata": {},
   "source": [
    "#### appd = N(3 + mu, 2var)"
   ]
  },
  {
   "cell_type": "code",
   "execution_count": null,
   "metadata": {},
   "outputs": [],
   "source": [
    "# plot KL divergence as a function of the strength of the attack\n",
    "n_jobs = 66\n",
    "x = X_test[17,:].copy()\n",
    "x = torch.tensor(x, dtype=torch.float32).unsqueeze(1)\n",
    "sigma2 = model.sample_posterior_distribution(1000)['sigma2'].mean()\n",
    "mu = model.sample_predictive_distribution(x, 1000).mean()\n",
    "std = model.sample_predictive_distribution(x, 1000).std()\n",
    "appd = torch.distributions.normal.Normal(3 + mu, 2 * std)\n",
    "\n",
    "# Function to calculate KL divergence for a given epsilon\n",
    "def compute_kl_divergence(epsilon):\n",
    "    x_adv_distr, _ = mlmc_attack(model, x, appd, epsilon=2*epsilon, R=10, lr=0.001, n_iter=1000)\n",
    "    mu_adv = model.sample_predictive_distribution(x_adv_distr, 1000).mean()\n",
    "    sigma2_adv = model.sample_predictive_distribution(x_adv_distr, 1000).var()\n",
    "    kl = kl_to_appd(mu_adv, sigma2_adv, 3 + mu, 4 * std ** 2).item()\n",
    "    x_fgsm = fgsm_attack(model, x, epsilon=epsilon, R=10)\n",
    "    mu_fgsm = model.sample_predictive_distribution(x_fgsm, 1000).mean()\n",
    "    sigma2_fgsm = model.sample_predictive_distribution(x_fgsm, 1000).var()\n",
    "    kl_fsgm = kl_to_appd(mu_fgsm, sigma2_fgsm, 3 + mu, 4 * std ** 2).item()\n",
    "    return kl, kl_fsgm\n",
    "\n",
    "\n",
    "# Define the range of epsilon values\n",
    "epsilons = np.linspace(0, 1, 20)\n",
    "kl_alls = []\n",
    "\n",
    "for _ in range(10):\n",
    "    # Use joblib to parallelize the computation of KL divergences\n",
    "    kl_values = Parallel(n_jobs=n_jobs)(\n",
    "        delayed(compute_kl_divergence)(epsilon) for epsilon in epsilons  \n",
    "    )\n",
    "    kl_alls.append(kl_values)\n",
    "\n",
    "kl_mlmc = np.array(kl_alls)[:, :, 0]\n",
    "kl_fsgm = np.array(kl_alls)[:, :, 1]\n",
    "# error bars as std\n",
    "plt.errorbar(epsilons, np.mean(kl_mlmc, axis=0), yerr=2*np.std(kl_mlmc, axis=0), label='MLMC')\n",
    "#plt.errorbar(epsilons, np.mean(kl_fsgm, axis=0), yerr=2*np.std(kl_fsgm, axis=0), label='FGSM')\n",
    "plt.legend()\n",
    "plt.xlabel('$\\epsilon$')\n",
    "plt.ylabel('KL Divergence')\n",
    "plt.ylim(-0.1, np.max(kl_mlmc) + 0.1)"
   ]
  }
 ],
 "metadata": {
  "kernelspec": {
   "display_name": "advReg",
   "language": "python",
   "name": "python3"
  },
  "language_info": {
   "codemirror_mode": {
    "name": "ipython",
    "version": 3
   },
   "file_extension": ".py",
   "mimetype": "text/x-python",
   "name": "python",
   "nbconvert_exporter": "python",
   "pygments_lexer": "ipython3",
   "version": "3.12.3"
  }
 },
 "nbformat": 4,
 "nbformat_minor": 2
}
