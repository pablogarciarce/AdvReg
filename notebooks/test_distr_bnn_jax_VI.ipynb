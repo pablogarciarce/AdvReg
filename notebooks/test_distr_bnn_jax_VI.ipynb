{
 "cells": [
  {
   "cell_type": "markdown",
   "metadata": {},
   "source": [
    "## Imports and dataset"
   ]
  },
  {
   "cell_type": "code",
   "execution_count": null,
   "metadata": {},
   "outputs": [],
   "source": [
    "from src.models.optimized_bnn import BayesianNN, RegBayesianNNVI\n",
    "from src.utils import plot_ppds\n",
    "\n",
    "from src.attacks.distr_attacks_bnn_jax import fgsm_attack, mlmc_attack, kl_to_appd\n",
    "\n",
    "import numpy as np\n",
    "import pandas as pd\n",
    "import jax\n",
    "import jax.numpy as jnp\n",
    "import numpyro\n",
    "\n",
    "from sklearn.model_selection import train_test_split\n",
    "from sklearn.preprocessing import MinMaxScaler\n",
    "from tqdm import tqdm\n",
    "from joblib import Parallel, delayed"
   ]
  },
  {
   "cell_type": "code",
   "execution_count": null,
   "metadata": {},
   "outputs": [],
   "source": [
    "import seaborn as sns\n",
    "import matplotlib.pyplot as plt\n",
    "\n",
    "sns.set_theme(style=\"whitegrid\", palette=\"muted\", font=\"serif\")\n",
    "\n",
    "sns.set_context(\"notebook\", font_scale=1.5, rc={\"lines.linewidth\": 2.5})\n",
    "plt.rcParams.update({\n",
    "    'axes.titlesize': 18,\n",
    "    'axes.labelsize': 14,\n",
    "    'xtick.labelsize': 12,\n",
    "    'ytick.labelsize': 12,\n",
    "    'axes.titleweight': 'bold',\n",
    "    'axes.edgecolor': 'black',\n",
    "    'axes.linewidth': 1,\n",
    "    'grid.alpha': 0.5,\n",
    "    'grid.linestyle': '--',\n",
    "    'legend.fontsize': 12,\n",
    "    'legend.frameon': False,\n",
    "    'figure.dpi': 300,  \n",
    "})"
   ]
  },
  {
   "cell_type": "code",
   "execution_count": null,
   "metadata": {},
   "outputs": [],
   "source": [
    "import numpyro\n",
    "numpyro.set_host_device_count(8)"
   ]
  },
  {
   "cell_type": "code",
   "execution_count": null,
   "metadata": {},
   "outputs": [],
   "source": [
    "# set all seeds for reproducibility\n",
    "seed = 42\n",
    "np.random.seed(seed)"
   ]
  },
  {
   "cell_type": "markdown",
   "metadata": {},
   "source": [
    "# Wine dataset"
   ]
  },
  {
   "cell_type": "code",
   "execution_count": null,
   "metadata": {},
   "outputs": [],
   "source": [
    "# Wine Quality dataset with response in {3, 4, 5, 6, 7, 8}, 11 features and 4898 samples\n",
    "\n",
    "# URL to the Wine Quality dataset (for example, from UCI Machine Learning Repository)\n",
    "url = \"https://archive.ics.uci.edu/ml/machine-learning-databases/wine-quality/winequality-white.csv\"\n",
    "# Load the dataset directly into a Pandas DataFrame\n",
    "data = pd.read_csv(url, delimiter=\";\")\n",
    "\n",
    "X = data.iloc[:, :-1].values\n",
    "y = data.iloc[:, -1].values"
   ]
  },
  {
   "cell_type": "code",
   "execution_count": null,
   "metadata": {},
   "outputs": [],
   "source": [
    "# Normalize the data\n",
    "scaler = MinMaxScaler()\n",
    "X_normalized = scaler.fit_transform(X)\n",
    "\n",
    "X_train, X_test, y_train, y_test = train_test_split(X_normalized, y, test_size=0.3, random_state=42)"
   ]
  },
  {
   "cell_type": "code",
   "execution_count": null,
   "metadata": {},
   "outputs": [],
   "source": [
    "# Fit the model\n",
    "model = BayesianNN(input_dim=X_train.shape[1], hidden_units=3)\n",
    "try:\n",
    "    model.load('../src/models/weights/wine/3bnn')\n",
    "except FileNotFoundError:   \n",
    "    print('Not model found, fitting the model') \n",
    "    model.fit(\n",
    "        X_train, \n",
    "        y_train,\n",
    "        num_warmup=500,\n",
    "        num_samples=1000,\n",
    "        num_chains=8,\n",
    "    )\n",
    "    model.save('../src/models/weights/wine/3bnn')"
   ]
  },
  {
   "cell_type": "code",
   "execution_count": null,
   "metadata": {},
   "outputs": [],
   "source": [
    "modelVI = RegBayesianNNVI(input_dim=X_train.shape[1], hidden_units=3)\n",
    "try:\n",
    "    modelVI.load('../src/models/weights/wine/3bnnvi')\n",
    "except FileNotFoundError:\n",
    "    print('Not model found, fitting the model') \n",
    "    modelVI.fit(\n",
    "        X_train, \n",
    "        y_train, \n",
    "        num_steps=5000\n",
    "    )\n",
    "    modelVI.save('../src/models/weights/wine/3bnnvi')"
   ]
  },
  {
   "cell_type": "code",
   "execution_count": null,
   "metadata": {},
   "outputs": [],
   "source": [
    "# Attack example\n",
    "x = X_test[17,:].copy().reshape(1, -1)\n",
    "x = jnp.array(x)\n",
    "std = modelVI.sample_predictive_distribution(x, 1000).std()\n",
    "mu = modelVI.sample_predictive_distribution(x, 1000).mean()\n",
    "appd = numpyro.distributions.Normal(2 + mu, 2 * std)\n",
    "x_adv_distr, x_adv_values = mlmc_attack(model, x, appd=appd, epsilon=2, R=20, lr=0.005, n_iter=1000)"
   ]
  },
  {
   "cell_type": "code",
   "execution_count": null,
   "metadata": {},
   "outputs": [],
   "source": [
    "epsilons = [0, 0.2, 0.5]\n",
    "results = []\n",
    "for i in tqdm(range(10)):\n",
    "    res_it_mm = []\n",
    "    res_it_mvi = []\n",
    "    res_it_vim = []\n",
    "    res_it_vivi = []\n",
    "    for epsilon in epsilons:\n",
    "        def compute_kl(model, model_eval, i):\n",
    "            x = X_test[i,:].copy().reshape(1, -1)\n",
    "            x = jnp.array(x)\n",
    "            std = model.sample_predictive_distribution(x, 1000).std()\n",
    "            mu = model.sample_predictive_distribution(x, 1000).mean()\n",
    "            appd = numpyro.distributions.Normal(2 + mu, 2 * std)\n",
    "            if epsilon == 0:\n",
    "                x_adv = x.clone()\n",
    "            else:\n",
    "                x_adv, _ = mlmc_attack(model, x, appd, epsilon=epsilon, verbose=False, R=20, lr=0.001, n_iter=1000)\n",
    "            adv_std = model_eval.sample_predictive_distribution(x_adv, 1000).std()\n",
    "            adv_mu = model_eval.sample_predictive_distribution(x_adv, 1000).mean()\n",
    "            att_kl = kl_to_appd(adv_mu, adv_std ** 2, 2 + mu, 4 * std ** 2)\n",
    "            return att_kl, abs(adv_mu - 2 - mu), adv_std / (2 * std)\n",
    "\n",
    "        n = 40\n",
    "        kl_values_mm = Parallel(n_jobs=-1)(delayed(compute_kl)(model, model, j) for j in range(n))\n",
    "        kl_mm = np.array(kl_values_mm).sum(axis=0)\n",
    "        res_it_mm.append(kl_mm / n)\n",
    "        kl_values_mvi = Parallel(n_jobs=-1)(delayed(compute_kl)(model, modelVI, j) for j in range(n))\n",
    "        kl_mvi = np.array(kl_values_mvi).sum(axis=0)\n",
    "        res_it_mvi.append(kl_mvi / n)\n",
    "        kl_values_vim = Parallel(n_jobs=-1)(delayed(compute_kl)(modelVI, model, j) for j in range(n))\n",
    "        kl_vim = np.array(kl_values_vim).sum(axis=0)\n",
    "        res_it_vim.append(kl_vim / n)\n",
    "        kl_values_vivi = Parallel(n_jobs=-1)(delayed(compute_kl)(modelVI, modelVI, j) for j in range(n))\n",
    "        kl_vivi = np.array(kl_values_vivi).sum(axis=0)\n",
    "        res_it_vivi.append(kl_vivi / n)\n",
    "    res_it = {\n",
    "        'mm': res_it_mm,\n",
    "        'mvi': res_it_mvi,\n",
    "        'vim': res_it_vim,\n",
    "        'vivi': res_it_vivi\n",
    "    }\n",
    "    results.append(res_it)"
   ]
  },
  {
   "cell_type": "code",
   "execution_count": null,
   "metadata": {},
   "outputs": [],
   "source": [
    "results_mm = np.array([res['mm'] for res in results]).mean(axis=0)\n",
    "results_mvi = np.array([res['mvi'] for res in results]).mean(axis=0)\n",
    "results_vim = np.array([res['vim'] for res in results]).mean(axis=0)\n",
    "results_vivi = np.array([res['vivi'] for res in results]).mean(axis=0) \n",
    "for i in range(3):\n",
    "    print(['KL', 'Mean', 'Std'][i] + ':')\n",
    "    print(results_mm[:, i], '\\n', results_mvi[:, i], '\\n', results_vim[:, i], '\\n', results_vivi[:, i])\n",
    "    print('---')"
   ]
  }
 ],
 "metadata": {
  "kernelspec": {
   "display_name": "advReg",
   "language": "python",
   "name": "python3"
  },
  "language_info": {
   "codemirror_mode": {
    "name": "ipython",
    "version": 3
   },
   "file_extension": ".py",
   "mimetype": "text/x-python",
   "name": "python",
   "nbconvert_exporter": "python",
   "pygments_lexer": "ipython3",
   "version": "3.12.3"
  }
 },
 "nbformat": 4,
 "nbformat_minor": 2
}
